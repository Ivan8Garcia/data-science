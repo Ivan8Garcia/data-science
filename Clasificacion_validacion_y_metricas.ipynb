{
  "nbformat": 4,
  "nbformat_minor": 0,
  "metadata": {
    "colab": {
      "provenance": [],
      "toc_visible": true,
      "include_colab_link": true
    },
    "kernelspec": {
      "name": "python3",
      "display_name": "Python 3"
    },
    "language_info": {
      "name": "python"
    }
  },
  "cells": [
    {
      "cell_type": "markdown",
      "metadata": {
        "id": "view-in-github",
        "colab_type": "text"
      },
      "source": [
        "<a href=\"https://colab.research.google.com/github/Ivan8Garcia/data-science/blob/main/Clasificacion_validacion_y_metricas.ipynb\" target=\"_parent\"><img src=\"https://colab.research.google.com/assets/colab-badge.svg\" alt=\"Open In Colab\"/></a>"
      ]
    },
    {
      "cell_type": "markdown",
      "source": [
        "# <font color='dark'>**Clasificación: Validación de modelos y métricas de evaluación**</h1>"
      ],
      "metadata": {
        "id": "MCqTDybk4ShK"
      }
    },
    {
      "cell_type": "markdown",
      "source": [
        "### Proyecto\n",
        "\n",
        "Una empresa de financiamiento de automóviles está atravesando una situación complicada, con una alta demanda para una flota reducida de vehículos y un alto número de morosos, lo que está generando grandes pérdidas para la empresa.\n",
        "\n",
        "Nosotros fuimos contratados para buscar mejoras en la identificación de morosos. El análisis de los clientes actualmente se realiza de forma manual, cliente por cliente, lo que consume mucho tiempo y, aun así, la detección de morosos es muy imprecisa.\n",
        "\n",
        "Nuestra tarea es utilizar los datos proporcionados por la empresa para **clasificar** a los clientes en cumplidores y morosos."
      ],
      "metadata": {
        "id": "WscU3KG7a9No"
      }
    },
    {
      "cell_type": "markdown",
      "source": [
        "## <font color='dark'>Clasificando los datos</h1>"
      ],
      "metadata": {
        "id": "WgS8iF51Csrn"
      }
    },
    {
      "cell_type": "markdown",
      "source": [
        "### Creando un modelo inicial"
      ],
      "metadata": {
        "id": "6lExmBuKn-xe"
      }
    },
    {
      "cell_type": "code",
      "source": [
        "import pandas as pd\n"
      ],
      "metadata": {
        "id": "ANJDC3LqP43q"
      },
      "execution_count": 196,
      "outputs": []
    },
    {
      "cell_type": "code",
      "source": [
        "datos=pd.read_csv(\"/content/prestacar.csv\")"
      ],
      "metadata": {
        "id": "UPddns6dP4kt"
      },
      "execution_count": 197,
      "outputs": []
    },
    {
      "cell_type": "code",
      "source": [
        "datos"
      ],
      "metadata": {
        "id": "UVIX6QLpP4iC",
        "colab": {
          "base_uri": "https://localhost:8080/",
          "height": 444
        },
        "outputId": "a5ec851a-048c-47c1-8c26-502b759f6674"
      },
      "execution_count": 198,
      "outputs": [
        {
          "output_type": "execute_result",
          "data": {
            "text/plain": [
              "       ingresos_cliente  anualidad_prestamo  años_casa_propia  telefono_trab  \\\n",
              "0          12600.000000         3569.400000         12.157324              1   \n",
              "1           9000.000000         2722.188351          7.000000              0   \n",
              "2          15750.000000         4477.500000         12.000000              0   \n",
              "3           9000.000000         1309.050000         12.157324              0   \n",
              "4           7650.000000         1125.000000         12.157324              0   \n",
              "...                 ...                 ...               ...            ...   \n",
              "54020      16855.246324          675.000000         12.157324              1   \n",
              "54021      11250.000000          675.000000         14.000000              0   \n",
              "54022      13500.000000          900.000000         64.000000              0   \n",
              "54023      11250.000000         2371.500000         12.157324              0   \n",
              "54024      21060.000000         2459.250000         12.157324              0   \n",
              "\n",
              "       evaluacion_ciudad   score_1   score_2   score_3  score_social  \\\n",
              "0                    2.0  0.057153  0.527227  0.513171      0.117428   \n",
              "1                    2.0  0.657661  0.285898  0.614414      0.222700   \n",
              "2                    2.0  0.501213  0.695423  0.513171      0.117428   \n",
              "3                    3.0  0.501213  0.155973  0.513171      0.117428   \n",
              "4                    2.0  0.294328  0.152076  0.513171      0.117428   \n",
              "...                  ...       ...       ...       ...           ...   \n",
              "54020                2.0  0.501213  0.180635  0.513171      0.082500   \n",
              "54021                3.0  0.409620  0.606002  0.513171      0.117428   \n",
              "54022                2.0  0.162632  0.525412  0.513171      0.117428   \n",
              "54023                3.0  0.501213  0.664027  0.513171      0.117428   \n",
              "54024                2.0  0.339656  0.656468  0.513171      0.117428   \n",
              "\n",
              "       cambio_telefono  moroso  \n",
              "0          2545.000000       0  \n",
              "1           495.000000       0  \n",
              "2          1212.000000       0  \n",
              "3           515.000000       0  \n",
              "4           162.000000       0  \n",
              "...                ...     ...  \n",
              "54020         0.000000       1  \n",
              "54021       466.000000       1  \n",
              "54022       962.106056       1  \n",
              "54023       482.000000       1  \n",
              "54024         0.000000       1  \n",
              "\n",
              "[54025 rows x 11 columns]"
            ],
            "text/html": [
              "\n",
              "  <div id=\"df-db269a53-29da-4334-80af-11ebdea5eba0\" class=\"colab-df-container\">\n",
              "    <div>\n",
              "<style scoped>\n",
              "    .dataframe tbody tr th:only-of-type {\n",
              "        vertical-align: middle;\n",
              "    }\n",
              "\n",
              "    .dataframe tbody tr th {\n",
              "        vertical-align: top;\n",
              "    }\n",
              "\n",
              "    .dataframe thead th {\n",
              "        text-align: right;\n",
              "    }\n",
              "</style>\n",
              "<table border=\"1\" class=\"dataframe\">\n",
              "  <thead>\n",
              "    <tr style=\"text-align: right;\">\n",
              "      <th></th>\n",
              "      <th>ingresos_cliente</th>\n",
              "      <th>anualidad_prestamo</th>\n",
              "      <th>años_casa_propia</th>\n",
              "      <th>telefono_trab</th>\n",
              "      <th>evaluacion_ciudad</th>\n",
              "      <th>score_1</th>\n",
              "      <th>score_2</th>\n",
              "      <th>score_3</th>\n",
              "      <th>score_social</th>\n",
              "      <th>cambio_telefono</th>\n",
              "      <th>moroso</th>\n",
              "    </tr>\n",
              "  </thead>\n",
              "  <tbody>\n",
              "    <tr>\n",
              "      <th>0</th>\n",
              "      <td>12600.000000</td>\n",
              "      <td>3569.400000</td>\n",
              "      <td>12.157324</td>\n",
              "      <td>1</td>\n",
              "      <td>2.0</td>\n",
              "      <td>0.057153</td>\n",
              "      <td>0.527227</td>\n",
              "      <td>0.513171</td>\n",
              "      <td>0.117428</td>\n",
              "      <td>2545.000000</td>\n",
              "      <td>0</td>\n",
              "    </tr>\n",
              "    <tr>\n",
              "      <th>1</th>\n",
              "      <td>9000.000000</td>\n",
              "      <td>2722.188351</td>\n",
              "      <td>7.000000</td>\n",
              "      <td>0</td>\n",
              "      <td>2.0</td>\n",
              "      <td>0.657661</td>\n",
              "      <td>0.285898</td>\n",
              "      <td>0.614414</td>\n",
              "      <td>0.222700</td>\n",
              "      <td>495.000000</td>\n",
              "      <td>0</td>\n",
              "    </tr>\n",
              "    <tr>\n",
              "      <th>2</th>\n",
              "      <td>15750.000000</td>\n",
              "      <td>4477.500000</td>\n",
              "      <td>12.000000</td>\n",
              "      <td>0</td>\n",
              "      <td>2.0</td>\n",
              "      <td>0.501213</td>\n",
              "      <td>0.695423</td>\n",
              "      <td>0.513171</td>\n",
              "      <td>0.117428</td>\n",
              "      <td>1212.000000</td>\n",
              "      <td>0</td>\n",
              "    </tr>\n",
              "    <tr>\n",
              "      <th>3</th>\n",
              "      <td>9000.000000</td>\n",
              "      <td>1309.050000</td>\n",
              "      <td>12.157324</td>\n",
              "      <td>0</td>\n",
              "      <td>3.0</td>\n",
              "      <td>0.501213</td>\n",
              "      <td>0.155973</td>\n",
              "      <td>0.513171</td>\n",
              "      <td>0.117428</td>\n",
              "      <td>515.000000</td>\n",
              "      <td>0</td>\n",
              "    </tr>\n",
              "    <tr>\n",
              "      <th>4</th>\n",
              "      <td>7650.000000</td>\n",
              "      <td>1125.000000</td>\n",
              "      <td>12.157324</td>\n",
              "      <td>0</td>\n",
              "      <td>2.0</td>\n",
              "      <td>0.294328</td>\n",
              "      <td>0.152076</td>\n",
              "      <td>0.513171</td>\n",
              "      <td>0.117428</td>\n",
              "      <td>162.000000</td>\n",
              "      <td>0</td>\n",
              "    </tr>\n",
              "    <tr>\n",
              "      <th>...</th>\n",
              "      <td>...</td>\n",
              "      <td>...</td>\n",
              "      <td>...</td>\n",
              "      <td>...</td>\n",
              "      <td>...</td>\n",
              "      <td>...</td>\n",
              "      <td>...</td>\n",
              "      <td>...</td>\n",
              "      <td>...</td>\n",
              "      <td>...</td>\n",
              "      <td>...</td>\n",
              "    </tr>\n",
              "    <tr>\n",
              "      <th>54020</th>\n",
              "      <td>16855.246324</td>\n",
              "      <td>675.000000</td>\n",
              "      <td>12.157324</td>\n",
              "      <td>1</td>\n",
              "      <td>2.0</td>\n",
              "      <td>0.501213</td>\n",
              "      <td>0.180635</td>\n",
              "      <td>0.513171</td>\n",
              "      <td>0.082500</td>\n",
              "      <td>0.000000</td>\n",
              "      <td>1</td>\n",
              "    </tr>\n",
              "    <tr>\n",
              "      <th>54021</th>\n",
              "      <td>11250.000000</td>\n",
              "      <td>675.000000</td>\n",
              "      <td>14.000000</td>\n",
              "      <td>0</td>\n",
              "      <td>3.0</td>\n",
              "      <td>0.409620</td>\n",
              "      <td>0.606002</td>\n",
              "      <td>0.513171</td>\n",
              "      <td>0.117428</td>\n",
              "      <td>466.000000</td>\n",
              "      <td>1</td>\n",
              "    </tr>\n",
              "    <tr>\n",
              "      <th>54022</th>\n",
              "      <td>13500.000000</td>\n",
              "      <td>900.000000</td>\n",
              "      <td>64.000000</td>\n",
              "      <td>0</td>\n",
              "      <td>2.0</td>\n",
              "      <td>0.162632</td>\n",
              "      <td>0.525412</td>\n",
              "      <td>0.513171</td>\n",
              "      <td>0.117428</td>\n",
              "      <td>962.106056</td>\n",
              "      <td>1</td>\n",
              "    </tr>\n",
              "    <tr>\n",
              "      <th>54023</th>\n",
              "      <td>11250.000000</td>\n",
              "      <td>2371.500000</td>\n",
              "      <td>12.157324</td>\n",
              "      <td>0</td>\n",
              "      <td>3.0</td>\n",
              "      <td>0.501213</td>\n",
              "      <td>0.664027</td>\n",
              "      <td>0.513171</td>\n",
              "      <td>0.117428</td>\n",
              "      <td>482.000000</td>\n",
              "      <td>1</td>\n",
              "    </tr>\n",
              "    <tr>\n",
              "      <th>54024</th>\n",
              "      <td>21060.000000</td>\n",
              "      <td>2459.250000</td>\n",
              "      <td>12.157324</td>\n",
              "      <td>0</td>\n",
              "      <td>2.0</td>\n",
              "      <td>0.339656</td>\n",
              "      <td>0.656468</td>\n",
              "      <td>0.513171</td>\n",
              "      <td>0.117428</td>\n",
              "      <td>0.000000</td>\n",
              "      <td>1</td>\n",
              "    </tr>\n",
              "  </tbody>\n",
              "</table>\n",
              "<p>54025 rows × 11 columns</p>\n",
              "</div>\n",
              "    <div class=\"colab-df-buttons\">\n",
              "\n",
              "  <div class=\"colab-df-container\">\n",
              "    <button class=\"colab-df-convert\" onclick=\"convertToInteractive('df-db269a53-29da-4334-80af-11ebdea5eba0')\"\n",
              "            title=\"Convert this dataframe to an interactive table.\"\n",
              "            style=\"display:none;\">\n",
              "\n",
              "  <svg xmlns=\"http://www.w3.org/2000/svg\" height=\"24px\" viewBox=\"0 -960 960 960\">\n",
              "    <path d=\"M120-120v-720h720v720H120Zm60-500h600v-160H180v160Zm220 220h160v-160H400v160Zm0 220h160v-160H400v160ZM180-400h160v-160H180v160Zm440 0h160v-160H620v160ZM180-180h160v-160H180v160Zm440 0h160v-160H620v160Z\"/>\n",
              "  </svg>\n",
              "    </button>\n",
              "\n",
              "  <style>\n",
              "    .colab-df-container {\n",
              "      display:flex;\n",
              "      gap: 12px;\n",
              "    }\n",
              "\n",
              "    .colab-df-convert {\n",
              "      background-color: #E8F0FE;\n",
              "      border: none;\n",
              "      border-radius: 50%;\n",
              "      cursor: pointer;\n",
              "      display: none;\n",
              "      fill: #1967D2;\n",
              "      height: 32px;\n",
              "      padding: 0 0 0 0;\n",
              "      width: 32px;\n",
              "    }\n",
              "\n",
              "    .colab-df-convert:hover {\n",
              "      background-color: #E2EBFA;\n",
              "      box-shadow: 0px 1px 2px rgba(60, 64, 67, 0.3), 0px 1px 3px 1px rgba(60, 64, 67, 0.15);\n",
              "      fill: #174EA6;\n",
              "    }\n",
              "\n",
              "    .colab-df-buttons div {\n",
              "      margin-bottom: 4px;\n",
              "    }\n",
              "\n",
              "    [theme=dark] .colab-df-convert {\n",
              "      background-color: #3B4455;\n",
              "      fill: #D2E3FC;\n",
              "    }\n",
              "\n",
              "    [theme=dark] .colab-df-convert:hover {\n",
              "      background-color: #434B5C;\n",
              "      box-shadow: 0px 1px 3px 1px rgba(0, 0, 0, 0.15);\n",
              "      filter: drop-shadow(0px 1px 2px rgba(0, 0, 0, 0.3));\n",
              "      fill: #FFFFFF;\n",
              "    }\n",
              "  </style>\n",
              "\n",
              "    <script>\n",
              "      const buttonEl =\n",
              "        document.querySelector('#df-db269a53-29da-4334-80af-11ebdea5eba0 button.colab-df-convert');\n",
              "      buttonEl.style.display =\n",
              "        google.colab.kernel.accessAllowed ? 'block' : 'none';\n",
              "\n",
              "      async function convertToInteractive(key) {\n",
              "        const element = document.querySelector('#df-db269a53-29da-4334-80af-11ebdea5eba0');\n",
              "        const dataTable =\n",
              "          await google.colab.kernel.invokeFunction('convertToInteractive',\n",
              "                                                    [key], {});\n",
              "        if (!dataTable) return;\n",
              "\n",
              "        const docLinkHtml = 'Like what you see? Visit the ' +\n",
              "          '<a target=\"_blank\" href=https://colab.research.google.com/notebooks/data_table.ipynb>data table notebook</a>'\n",
              "          + ' to learn more about interactive tables.';\n",
              "        element.innerHTML = '';\n",
              "        dataTable['output_type'] = 'display_data';\n",
              "        await google.colab.output.renderOutput(dataTable, element);\n",
              "        const docLink = document.createElement('div');\n",
              "        docLink.innerHTML = docLinkHtml;\n",
              "        element.appendChild(docLink);\n",
              "      }\n",
              "    </script>\n",
              "  </div>\n",
              "\n",
              "\n",
              "    <div id=\"df-74263220-5d3f-4658-ab6c-342422480e80\">\n",
              "      <button class=\"colab-df-quickchart\" onclick=\"quickchart('df-74263220-5d3f-4658-ab6c-342422480e80')\"\n",
              "                title=\"Suggest charts\"\n",
              "                style=\"display:none;\">\n",
              "\n",
              "<svg xmlns=\"http://www.w3.org/2000/svg\" height=\"24px\"viewBox=\"0 0 24 24\"\n",
              "     width=\"24px\">\n",
              "    <g>\n",
              "        <path d=\"M19 3H5c-1.1 0-2 .9-2 2v14c0 1.1.9 2 2 2h14c1.1 0 2-.9 2-2V5c0-1.1-.9-2-2-2zM9 17H7v-7h2v7zm4 0h-2V7h2v10zm4 0h-2v-4h2v4z\"/>\n",
              "    </g>\n",
              "</svg>\n",
              "      </button>\n",
              "\n",
              "<style>\n",
              "  .colab-df-quickchart {\n",
              "      --bg-color: #E8F0FE;\n",
              "      --fill-color: #1967D2;\n",
              "      --hover-bg-color: #E2EBFA;\n",
              "      --hover-fill-color: #174EA6;\n",
              "      --disabled-fill-color: #AAA;\n",
              "      --disabled-bg-color: #DDD;\n",
              "  }\n",
              "\n",
              "  [theme=dark] .colab-df-quickchart {\n",
              "      --bg-color: #3B4455;\n",
              "      --fill-color: #D2E3FC;\n",
              "      --hover-bg-color: #434B5C;\n",
              "      --hover-fill-color: #FFFFFF;\n",
              "      --disabled-bg-color: #3B4455;\n",
              "      --disabled-fill-color: #666;\n",
              "  }\n",
              "\n",
              "  .colab-df-quickchart {\n",
              "    background-color: var(--bg-color);\n",
              "    border: none;\n",
              "    border-radius: 50%;\n",
              "    cursor: pointer;\n",
              "    display: none;\n",
              "    fill: var(--fill-color);\n",
              "    height: 32px;\n",
              "    padding: 0;\n",
              "    width: 32px;\n",
              "  }\n",
              "\n",
              "  .colab-df-quickchart:hover {\n",
              "    background-color: var(--hover-bg-color);\n",
              "    box-shadow: 0 1px 2px rgba(60, 64, 67, 0.3), 0 1px 3px 1px rgba(60, 64, 67, 0.15);\n",
              "    fill: var(--button-hover-fill-color);\n",
              "  }\n",
              "\n",
              "  .colab-df-quickchart-complete:disabled,\n",
              "  .colab-df-quickchart-complete:disabled:hover {\n",
              "    background-color: var(--disabled-bg-color);\n",
              "    fill: var(--disabled-fill-color);\n",
              "    box-shadow: none;\n",
              "  }\n",
              "\n",
              "  .colab-df-spinner {\n",
              "    border: 2px solid var(--fill-color);\n",
              "    border-color: transparent;\n",
              "    border-bottom-color: var(--fill-color);\n",
              "    animation:\n",
              "      spin 1s steps(1) infinite;\n",
              "  }\n",
              "\n",
              "  @keyframes spin {\n",
              "    0% {\n",
              "      border-color: transparent;\n",
              "      border-bottom-color: var(--fill-color);\n",
              "      border-left-color: var(--fill-color);\n",
              "    }\n",
              "    20% {\n",
              "      border-color: transparent;\n",
              "      border-left-color: var(--fill-color);\n",
              "      border-top-color: var(--fill-color);\n",
              "    }\n",
              "    30% {\n",
              "      border-color: transparent;\n",
              "      border-left-color: var(--fill-color);\n",
              "      border-top-color: var(--fill-color);\n",
              "      border-right-color: var(--fill-color);\n",
              "    }\n",
              "    40% {\n",
              "      border-color: transparent;\n",
              "      border-right-color: var(--fill-color);\n",
              "      border-top-color: var(--fill-color);\n",
              "    }\n",
              "    60% {\n",
              "      border-color: transparent;\n",
              "      border-right-color: var(--fill-color);\n",
              "    }\n",
              "    80% {\n",
              "      border-color: transparent;\n",
              "      border-right-color: var(--fill-color);\n",
              "      border-bottom-color: var(--fill-color);\n",
              "    }\n",
              "    90% {\n",
              "      border-color: transparent;\n",
              "      border-bottom-color: var(--fill-color);\n",
              "    }\n",
              "  }\n",
              "</style>\n",
              "\n",
              "      <script>\n",
              "        async function quickchart(key) {\n",
              "          const quickchartButtonEl =\n",
              "            document.querySelector('#' + key + ' button');\n",
              "          quickchartButtonEl.disabled = true;  // To prevent multiple clicks.\n",
              "          quickchartButtonEl.classList.add('colab-df-spinner');\n",
              "          try {\n",
              "            const charts = await google.colab.kernel.invokeFunction(\n",
              "                'suggestCharts', [key], {});\n",
              "          } catch (error) {\n",
              "            console.error('Error during call to suggestCharts:', error);\n",
              "          }\n",
              "          quickchartButtonEl.classList.remove('colab-df-spinner');\n",
              "          quickchartButtonEl.classList.add('colab-df-quickchart-complete');\n",
              "        }\n",
              "        (() => {\n",
              "          let quickchartButtonEl =\n",
              "            document.querySelector('#df-74263220-5d3f-4658-ab6c-342422480e80 button');\n",
              "          quickchartButtonEl.style.display =\n",
              "            google.colab.kernel.accessAllowed ? 'block' : 'none';\n",
              "        })();\n",
              "      </script>\n",
              "    </div>\n",
              "\n",
              "  <div id=\"id_fd8143e8-b7ad-4fdc-9ce5-fa2c1c2932fe\">\n",
              "    <style>\n",
              "      .colab-df-generate {\n",
              "        background-color: #E8F0FE;\n",
              "        border: none;\n",
              "        border-radius: 50%;\n",
              "        cursor: pointer;\n",
              "        display: none;\n",
              "        fill: #1967D2;\n",
              "        height: 32px;\n",
              "        padding: 0 0 0 0;\n",
              "        width: 32px;\n",
              "      }\n",
              "\n",
              "      .colab-df-generate:hover {\n",
              "        background-color: #E2EBFA;\n",
              "        box-shadow: 0px 1px 2px rgba(60, 64, 67, 0.3), 0px 1px 3px 1px rgba(60, 64, 67, 0.15);\n",
              "        fill: #174EA6;\n",
              "      }\n",
              "\n",
              "      [theme=dark] .colab-df-generate {\n",
              "        background-color: #3B4455;\n",
              "        fill: #D2E3FC;\n",
              "      }\n",
              "\n",
              "      [theme=dark] .colab-df-generate:hover {\n",
              "        background-color: #434B5C;\n",
              "        box-shadow: 0px 1px 3px 1px rgba(0, 0, 0, 0.15);\n",
              "        filter: drop-shadow(0px 1px 2px rgba(0, 0, 0, 0.3));\n",
              "        fill: #FFFFFF;\n",
              "      }\n",
              "    </style>\n",
              "    <button class=\"colab-df-generate\" onclick=\"generateWithVariable('datos')\"\n",
              "            title=\"Generate code using this dataframe.\"\n",
              "            style=\"display:none;\">\n",
              "\n",
              "  <svg xmlns=\"http://www.w3.org/2000/svg\" height=\"24px\"viewBox=\"0 0 24 24\"\n",
              "       width=\"24px\">\n",
              "    <path d=\"M7,19H8.4L18.45,9,17,7.55,7,17.6ZM5,21V16.75L18.45,3.32a2,2,0,0,1,2.83,0l1.4,1.43a1.91,1.91,0,0,1,.58,1.4,1.91,1.91,0,0,1-.58,1.4L9.25,21ZM18.45,9,17,7.55Zm-12,3A5.31,5.31,0,0,0,4.9,8.1,5.31,5.31,0,0,0,1,6.5,5.31,5.31,0,0,0,4.9,4.9,5.31,5.31,0,0,0,6.5,1,5.31,5.31,0,0,0,8.1,4.9,5.31,5.31,0,0,0,12,6.5,5.46,5.46,0,0,0,6.5,12Z\"/>\n",
              "  </svg>\n",
              "    </button>\n",
              "    <script>\n",
              "      (() => {\n",
              "      const buttonEl =\n",
              "        document.querySelector('#id_fd8143e8-b7ad-4fdc-9ce5-fa2c1c2932fe button.colab-df-generate');\n",
              "      buttonEl.style.display =\n",
              "        google.colab.kernel.accessAllowed ? 'block' : 'none';\n",
              "\n",
              "      buttonEl.onclick = () => {\n",
              "        google.colab.notebook.generateWithVariable('datos');\n",
              "      }\n",
              "      })();\n",
              "    </script>\n",
              "  </div>\n",
              "\n",
              "    </div>\n",
              "  </div>\n"
            ],
            "application/vnd.google.colaboratory.intrinsic+json": {
              "type": "dataframe",
              "variable_name": "datos",
              "summary": "{\n  \"name\": \"datos\",\n  \"rows\": 54025,\n  \"fields\": [\n    {\n      \"column\": \"ingresos_cliente\",\n      \"properties\": {\n        \"dtype\": \"number\",\n        \"std\": 9658.762569130264,\n        \"min\": 2700.0,\n        \"max\": 450000.0,\n        \"num_unique_values\": 663,\n        \"samples\": [\n          11018.7,\n          38520.0,\n          17796.6\n        ],\n        \"semantic_type\": \"\",\n        \"description\": \"\"\n      }\n    },\n    {\n      \"column\": \"anualidad_prestamo\",\n      \"properties\": {\n        \"dtype\": \"number\",\n        \"std\": 1305.3647344874787,\n        \"min\": 218.7,\n        \"max\": 22500.0,\n        \"num_unique_values\": 8004,\n        \"samples\": [\n          5339.7,\n          5067.0,\n          5757.3\n        ],\n        \"semantic_type\": \"\",\n        \"description\": \"\"\n      }\n    },\n    {\n      \"column\": \"a\\u00f1os_casa_propia\",\n      \"properties\": {\n        \"dtype\": \"number\",\n        \"std\": 7.452120104984191,\n        \"min\": 0.0,\n        \"max\": 69.0,\n        \"num_unique_values\": 53,\n        \"samples\": [\n          11.0,\n          31.0,\n          32.0\n        ],\n        \"semantic_type\": \"\",\n        \"description\": \"\"\n      }\n    },\n    {\n      \"column\": \"telefono_trab\",\n      \"properties\": {\n        \"dtype\": \"number\",\n        \"std\": 0,\n        \"min\": 0,\n        \"max\": 1,\n        \"num_unique_values\": 2,\n        \"samples\": [\n          0,\n          1\n        ],\n        \"semantic_type\": \"\",\n        \"description\": \"\"\n      }\n    },\n    {\n      \"column\": \"evaluacion_ciudad\",\n      \"properties\": {\n        \"dtype\": \"number\",\n        \"std\": 0.49880682251877845,\n        \"min\": 1.0,\n        \"max\": 3.0,\n        \"num_unique_values\": 4,\n        \"samples\": [\n          3.0,\n          2.030038427084816\n        ],\n        \"semantic_type\": \"\",\n        \"description\": \"\"\n      }\n    },\n    {\n      \"column\": \"score_1\",\n      \"properties\": {\n        \"dtype\": \"number\",\n        \"std\": 0.14238945649917853,\n        \"min\": 0.014568132,\n        \"max\": 0.942680454,\n        \"num_unique_values\": 23062,\n        \"samples\": [\n          0.475611877,\n          0.435226091\n        ],\n        \"semantic_type\": \"\",\n        \"description\": \"\"\n      }\n    },\n    {\n      \"column\": \"score_2\",\n      \"properties\": {\n        \"dtype\": \"number\",\n        \"std\": 0.8759454878096079,\n        \"min\": 5e-06,\n        \"max\": 100.0,\n        \"num_unique_values\": 38047,\n        \"samples\": [\n          0.416306086,\n          0.675062411\n        ],\n        \"semantic_type\": \"\",\n        \"description\": \"\"\n      }\n    },\n    {\n      \"column\": \"score_3\",\n      \"properties\": {\n        \"dtype\": \"number\",\n        \"std\": 0.06272486372343226,\n        \"min\": 0.000527265,\n        \"max\": 0.869210801,\n        \"num_unique_values\": 612,\n        \"samples\": [\n          0.420610964,\n          0.168416171\n        ],\n        \"semantic_type\": \"\",\n        \"description\": \"\"\n      }\n    },\n    {\n      \"column\": \"score_social\",\n      \"properties\": {\n        \"dtype\": \"number\",\n        \"std\": 0.0761796573204536,\n        \"min\": 0.0,\n        \"max\": 1.0,\n        \"num_unique_values\": 1459,\n        \"samples\": [\n          0.1674,\n          0.6381\n        ],\n        \"semantic_type\": \"\",\n        \"description\": \"\"\n      }\n    },\n    {\n      \"column\": \"cambio_telefono\",\n      \"properties\": {\n        \"dtype\": \"number\",\n        \"std\": 818.1417090553241,\n        \"min\": 0.0,\n        \"max\": 4185.0,\n        \"num_unique_values\": 3408,\n        \"samples\": [\n          966.0,\n          3099.0\n        ],\n        \"semantic_type\": \"\",\n        \"description\": \"\"\n      }\n    },\n    {\n      \"column\": \"moroso\",\n      \"properties\": {\n        \"dtype\": \"number\",\n        \"std\": 0,\n        \"min\": 0,\n        \"max\": 1,\n        \"num_unique_values\": 2,\n        \"samples\": [\n          1,\n          0\n        ],\n        \"semantic_type\": \"\",\n        \"description\": \"\"\n      }\n    }\n  ]\n}"
            }
          },
          "metadata": {},
          "execution_count": 198
        }
      ]
    },
    {
      "cell_type": "code",
      "source": [
        "X=datos.drop(columns=\"moroso\",axis=1)\n",
        "y=datos.moroso"
      ],
      "metadata": {
        "id": "MikoMXI7P4dG"
      },
      "execution_count": 199,
      "outputs": []
    },
    {
      "cell_type": "code",
      "source": [
        "from sklearn.tree import DecisionTreeClassifier\n",
        "\n",
        "modelo=DecisionTreeClassifier()\n",
        "modelo.fit(X,y)\n",
        "modelo.score(X,y)\n"
      ],
      "metadata": {
        "colab": {
          "base_uri": "https://localhost:8080/"
        },
        "id": "NY3C3LlJQHrm",
        "outputId": "b08c45ac-59d8-42de-86e9-1bf623a70fe2"
      },
      "execution_count": 200,
      "outputs": [
        {
          "output_type": "execute_result",
          "data": {
            "text/plain": [
              "1.0"
            ]
          },
          "metadata": {},
          "execution_count": 200
        }
      ]
    },
    {
      "cell_type": "code",
      "source": [
        "print(f'La precision del modelo es: {modelo.score(X,y)}')"
      ],
      "metadata": {
        "colab": {
          "base_uri": "https://localhost:8080/"
        },
        "id": "Iuon3hh7Q3Ve",
        "outputId": "4b07d664-a5de-4c25-f795-c592e72f7ae9"
      },
      "execution_count": 201,
      "outputs": [
        {
          "output_type": "stream",
          "name": "stdout",
          "text": [
            "La precision del modelo es: 1.0\n"
          ]
        }
      ]
    },
    {
      "cell_type": "markdown",
      "source": [
        "### Validando el modelo"
      ],
      "metadata": {
        "id": "EPrFcm39oAof"
      }
    },
    {
      "cell_type": "markdown",
      "source": [
        "Evaluar el modelo con los mismos datos utilizados en el entrenamiento no es recomendable. Es necesario que la evaluación se realice con datos independientes.  \n",
        "\n",
        "Evaluar el modelo con los propios datos de entrenamiento sería equivalente a entregar un examen con las preguntas y las respuestas a una persona y, al momento de evaluarla nuevamente, entregarle un examen con las mismas preguntas y opciones. Se espera que esa persona obtenga un buen resultado, ya que ya ha visto las respuestas y ha memorizado el resultado. Esto es diferente de haber aprendido la materia a partir de ese examen y luego presentar una prueba con contenido similar y obtener un resultado positivo.  \n",
        "\n",
        "Con el objetivo de verificar la capacidad de generalización de un modelo, debemos dividir el conjunto de datos en tres partes: datos de entrenamiento, validación y prueba.  \n",
        "\n",
        "- El **conjunto de entrenamiento** se utiliza para entrenar los modelos. A partir de este conjunto, los modelos identifican patrones en los datos.  \n",
        "\n",
        "- El **conjunto de validación** se emplea para evaluar el desempeño de diferentes modelos con datos nuevos que no fueron utilizados en el entrenamiento.  \n",
        "\n",
        "- El **conjunto de prueba** se mantiene separado desde el inicio para simular datos del mundo real. No se utiliza en ninguna etapa del entrenamiento ni de la validación, sirviendo como una estimación de la capacidad del modelo elegido para generalizar y predecir nuevos datos."
      ],
      "metadata": {
        "id": "v0u-uij9eNcD"
      }
    },
    {
      "cell_type": "markdown",
      "source": [
        "<a href=\"https://ibb.co/9H2Z1HZ5\"><img src=\"https://i.ibb.co/0yZs6ysb/datos-train-test.png\" alt=\"datos-train-test\" border=\"0\"></a>"
      ],
      "metadata": {
        "id": "TCIN5oOJFk_W"
      }
    },
    {
      "cell_type": "code",
      "source": [
        "from sklearn.model_selection import train_test_split"
      ],
      "metadata": {
        "id": "OICJjv9HP1QZ"
      },
      "execution_count": 202,
      "outputs": []
    },
    {
      "cell_type": "code",
      "source": [
        "X,X_test,y,y_test=train_test_split(X,y,test_size=0.15,stratify=y ,random_state=5)\n",
        "X_train,X_val,y_train,y_val=train_test_split(X,y,stratify=y ,random_state=5)"
      ],
      "metadata": {
        "id": "mvDcVFFDP1sB"
      },
      "execution_count": 203,
      "outputs": []
    },
    {
      "cell_type": "code",
      "source": [
        "#en esta celda vemos que la exactitud del entrenamiento es de 100 porque solamente lo memorizó\n",
        "#y al momento de validar el modelo no fue lo suficientemente bueno porque no se incluyó \"max_depth\"\n",
        "modelo=DecisionTreeClassifier()\n",
        "modelo.fit(X_train,y_train)\n",
        "print(f'La exactitud del modelo con el conjunto de entrenamiento es de: {modelo.score(X_train,y_train)}')\n",
        "print(f'La exactitud del modelo con el conjunto de validacion es de: {modelo.score(X_val,y_val)}')"
      ],
      "metadata": {
        "id": "NIeGQZGcP1J1",
        "colab": {
          "base_uri": "https://localhost:8080/"
        },
        "outputId": "9bf6db04-c867-4aec-b8fb-da05a8a44c40"
      },
      "execution_count": 204,
      "outputs": [
        {
          "output_type": "stream",
          "name": "stdout",
          "text": [
            "La exactitud del modelo con el conjunto de entrenamiento es de: 1.0\n",
            "La exactitud del modelo con el conjunto de validacion es de: 0.8476613535406323\n"
          ]
        }
      ]
    },
    {
      "cell_type": "code",
      "source": [
        "#la mejor practica es colocando una profundidad maxima\n",
        "#como resultado obtenemos algo mas eficaz que la celda anterior\n",
        "modelo=DecisionTreeClassifier(max_depth=10)\n",
        "modelo.fit(X_train,y_train)\n",
        "print(f'La exactitud del modelo con el conjunto de entrenamiento es de: {modelo.score(X_train,y_train)}')\n",
        "print(f'La exactitud del modelo con el conjunto de validacion es de: {modelo.score(X_val,y_val)}')"
      ],
      "metadata": {
        "colab": {
          "base_uri": "https://localhost:8080/"
        },
        "id": "NGTljA07ZyjL",
        "outputId": "04011582-6eec-4e35-b245-35efd4f500ee"
      },
      "execution_count": 205,
      "outputs": [
        {
          "output_type": "stream",
          "name": "stdout",
          "text": [
            "La exactitud del modelo con el conjunto de entrenamiento es de: 0.9205574912891986\n",
            "La exactitud del modelo con el conjunto de validacion es de: 0.9055831373573731\n"
          ]
        }
      ]
    },
    {
      "cell_type": "markdown",
      "source": [
        "### Evaluando el modelo"
      ],
      "metadata": {
        "id": "WtlRAZt96VLG"
      }
    },
    {
      "cell_type": "code",
      "source": [
        "from sklearn.metrics import confusion_matrix"
      ],
      "metadata": {
        "id": "IlUZBhPrPyYh"
      },
      "execution_count": 206,
      "outputs": []
    },
    {
      "cell_type": "code",
      "source": [
        "y_previsto= modelo.predict(X_val)\n",
        "matriz_confusion=confusion_matrix(y_val,y_previsto)\n",
        "print(matriz_confusion)"
      ],
      "metadata": {
        "id": "iill3u5HPyOA",
        "colab": {
          "base_uri": "https://localhost:8080/"
        },
        "outputId": "3c2c8d9e-1eeb-487b-a18f-4cd3f82c8d5d"
      },
      "execution_count": 207,
      "outputs": [
        {
          "output_type": "stream",
          "name": "stdout",
          "text": [
            "[[10357   122]\n",
            " [  962    40]]\n"
          ]
        }
      ]
    },
    {
      "cell_type": "code",
      "source": [
        "from sklearn.metrics import ConfusionMatrixDisplay"
      ],
      "metadata": {
        "id": "gtFWt6emPyJt"
      },
      "execution_count": 208,
      "outputs": []
    },
    {
      "cell_type": "code",
      "source": [
        "visualizacion= ConfusionMatrixDisplay(confusion_matrix=matriz_confusion)\n",
        "visualizacion.plot();"
      ],
      "metadata": {
        "id": "qg0OgZeqPyGJ",
        "colab": {
          "base_uri": "https://localhost:8080/",
          "height": 449
        },
        "outputId": "e21c294b-594e-4d0a-a456-33d07bd1c877"
      },
      "execution_count": 209,
      "outputs": [
        {
          "output_type": "display_data",
          "data": {
            "text/plain": [
              "<Figure size 640x480 with 2 Axes>"
            ],
            "image/png": "[encoded data removed]"
          },
          "metadata": {}
        }
      ]
    },
    {
      "cell_type": "code",
      "source": [
        "#como se lee esta matriz, en el cuadrante inferior izquierdo nos dice que tenemos 961 clientes cumplidores(eje x) pero\n",
        "#no lo son en realidad no son cumplidos si no que son morosos(eje Y) en realidad. y predijo 41 morosos que si son morosos.\n",
        "#(cuadrante derecho inferior).\n",
        "# de igual manera acertó que 8828 seran cumplidores(cuadrante izq superior),cuando en realidad si son cumplidores(en el dataset).\n",
        "#y por ultimo predijo que 78 morosos son cumplidores(no son cumplidores,cuadrante der.superior).\n",
        "visualizacion= ConfusionMatrixDisplay(confusion_matrix=matriz_confusion,display_labels=[\"cumplido\",\"moroso\"])\n",
        "visualizacion.plot();"
      ],
      "metadata": {
        "colab": {
          "base_uri": "https://localhost:8080/",
          "height": 449
        },
        "id": "brDRwQP6kY8U",
        "outputId": "f504149b-dcc7-494c-e960-b54e1fccbea8"
      },
      "execution_count": 210,
      "outputs": [
        {
          "output_type": "display_data",
          "data": {
            "text/plain": [
              "<Figure size 640x480 with 2 Axes>"
            ],
            "image/png": "[encoded data removed]"
          },
          "metadata": {}
        }
      ]
    },
    {
      "cell_type": "code",
      "source": [],
      "metadata": {
        "id": "hzL_8fp6kY5u"
      },
      "execution_count": 210,
      "outputs": []
    },
    {
      "cell_type": "markdown",
      "source": [
        "## <font color='dark'>Métricas de evaluación</h1>"
      ],
      "metadata": {
        "id": "tPogL-24ntSH"
      }
    },
    {
      "cell_type": "markdown",
      "source": [
        "### Exactitud, precisión y recall (sensibilidad)."
      ],
      "metadata": {
        "id": "nP1WfyyR6XMl"
      }
    },
    {
      "cell_type": "markdown",
      "source": [
        "<a href=\"https://ibb.co/351SbY7t\"><img src=\"https://i.ibb.co/wZypqrRD/matriz-confusion.png\" alt=\"matriz-confusion\" border=\"0\"></a>"
      ],
      "metadata": {
        "id": "oE8N0NqoH6hy"
      }
    },
    {
      "cell_type": "markdown",
      "source": [
        "<a href=\"https://imgbb.com/\"><img src=\"https://i.ibb.co/6Jp6rKyC/Captura-de-tela-2025-03-22-120744.png\" alt=\"Captura-de-tela-2025-03-22-120744\" border=\"0\"></a>"
      ],
      "metadata": {
        "id": "k0ldCSgoZiPX"
      }
    },
    {
      "cell_type": "code",
      "source": [
        "from sklearn.metrics import accuracy_score,precision_score,recall_score,f1_score"
      ],
      "metadata": {
        "id": "IIEaf2fmPmq1"
      },
      "execution_count": 211,
      "outputs": []
    },
    {
      "cell_type": "code",
      "source": [
        "45/(45+123)  #precision"
      ],
      "metadata": {
        "id": "QnGxEIrWPmbx",
        "colab": {
          "base_uri": "https://localhost:8080/"
        },
        "outputId": "fdf79ae5-cb90-4922-ed67-1877ea85e805"
      },
      "execution_count": 212,
      "outputs": [
        {
          "output_type": "execute_result",
          "data": {
            "text/plain": [
              "0.26785714285714285"
            ]
          },
          "metadata": {},
          "execution_count": 212
        }
      ]
    },
    {
      "cell_type": "code",
      "source": [
        "print(f'La precisión del modelo es de: {precision_score(y_val,y_previsto)}')\n",
        "print(f'La exactitud (accuracy) del modelo es de: {accuracy_score(y_val,y_previsto)}')\n",
        "print(f'La sensibilidad (recall) del modelo es de: {recall_score(y_val,y_previsto)}')\n",
        "print(f'El f1 score del modelo es de: {f1_score(y_val,y_previsto)}')"
      ],
      "metadata": {
        "id": "7C7NoVZnPmX1",
        "colab": {
          "base_uri": "https://localhost:8080/"
        },
        "outputId": "10c55d64-8a21-4cb3-d4e7-9c62ace1cb29"
      },
      "execution_count": 213,
      "outputs": [
        {
          "output_type": "stream",
          "name": "stdout",
          "text": [
            "La precisión del modelo es de: 0.24691358024691357\n",
            "La exactitud (accuracy) del modelo es de: 0.9055831373573731\n",
            "La sensibilidad (recall) del modelo es de: 0.03992015968063872\n",
            "El f1 score del modelo es de: 0.06872852233676977\n"
          ]
        }
      ]
    },
    {
      "cell_type": "code",
      "source": [],
      "metadata": {
        "id": "u2SqICFJPmU-"
      },
      "execution_count": 213,
      "outputs": []
    },
    {
      "cell_type": "markdown",
      "source": [
        "### Curva ROC"
      ],
      "metadata": {
        "id": "I8ELhexg2jNx"
      }
    },
    {
      "cell_type": "code",
      "source": [
        "from IPython.display import Image\n",
        "Image(url='https://raw.githubusercontent.com/dariyasydykova/open_projects/master/ROC_animation/animations/cutoff.gif')"
      ],
      "metadata": {
        "colab": {
          "base_uri": "https://localhost:8080/",
          "height": 421
        },
        "id": "PhUNE4Xm4MII",
        "outputId": "879529b6-ad11-4bbe-bdf9-977644b933cf"
      },
      "execution_count": 214,
      "outputs": [
        {
          "output_type": "execute_result",
          "data": {
            "text/html": [
              "<img src=\"https://raw.githubusercontent.com/dariyasydykova/open_projects/master/ROC_animation/animations/cutoff.gif\"/>"
            ],
            "text/plain": [
              "<IPython.core.display.Image object>"
            ]
          },
          "metadata": {},
          "execution_count": 214
        }
      ]
    },
    {
      "cell_type": "markdown",
      "source": [
        "Fuente: [paulvanderlaken.com](https://paulvanderlaken.com/2019/08/16/roc-auc-precision-and-recall-visually-explained/)\n",
        "\n",
        "\n"
      ],
      "metadata": {
        "id": "XK8_7Ruy32BT"
      }
    },
    {
      "cell_type": "code",
      "source": [
        "from sklearn.metrics import RocCurveDisplay"
      ],
      "metadata": {
        "id": "FHc-8FjePhM6"
      },
      "execution_count": 215,
      "outputs": []
    },
    {
      "cell_type": "code",
      "source": [
        "RocCurveDisplay.from_predictions(y_val,y_previsto,name=\"Arbol de decision\");"
      ],
      "metadata": {
        "id": "V6Ua2rY3PhFt",
        "colab": {
          "base_uri": "https://localhost:8080/",
          "height": 451
        },
        "outputId": "0025c77f-c0e0-443a-c306-180379473a53"
      },
      "execution_count": 216,
      "outputs": [
        {
          "output_type": "display_data",
          "data": {
            "text/plain": [
              "<Figure size 640x480 with 1 Axes>"
            ],
            "image/png": "[encoded data removed]"
          },
          "metadata": {}
        }
      ]
    },
    {
      "cell_type": "code",
      "source": [
        "from sklearn.metrics import roc_auc_score"
      ],
      "metadata": {
        "id": "LJE-yyWMPg8R"
      },
      "execution_count": 217,
      "outputs": []
    },
    {
      "cell_type": "code",
      "source": [
        "print(f'El area bajo la curva ROC es:{roc_auc_score(y_val,y_previsto)}')"
      ],
      "metadata": {
        "id": "7mtvjPHsPi1o",
        "colab": {
          "base_uri": "https://localhost:8080/"
        },
        "outputId": "d12db21a-acab-4b70-e04b-f8615be14cd6"
      },
      "execution_count": 218,
      "outputs": [
        {
          "output_type": "stream",
          "name": "stdout",
          "text": [
            "El area bajo la curva ROC es:0.5141389136985118\n"
          ]
        }
      ]
    },
    {
      "cell_type": "markdown",
      "source": [
        "### Curva de  precisión x sensibilidad"
      ],
      "metadata": {
        "id": "IztSEZfh7QFe"
      }
    },
    {
      "cell_type": "code",
      "source": [
        "Image(url='https://paulvanderlaken.com/wp-content/uploads/2019/08/roc.gif')"
      ],
      "metadata": {
        "colab": {
          "base_uri": "https://localhost:8080/",
          "height": 421
        },
        "id": "EJzfjuxa3fxD",
        "outputId": "67859449-7731-4daa-b9c5-2be5a60b067f"
      },
      "execution_count": 219,
      "outputs": [
        {
          "output_type": "execute_result",
          "data": {
            "text/html": [
              "<img src=\"https://paulvanderlaken.com/wp-content/uploads/2019/08/roc.gif\"/>"
            ],
            "text/plain": [
              "<IPython.core.display.Image object>"
            ]
          },
          "metadata": {},
          "execution_count": 219
        }
      ]
    },
    {
      "cell_type": "markdown",
      "source": [
        "Fuente: [paulvanderlaken.com](https://paulvanderlaken.com/2019/08/16/roc-auc-precision-and-recall-visually-explained/)\n"
      ],
      "metadata": {
        "id": "bUoGCSUB4msC"
      }
    },
    {
      "cell_type": "code",
      "source": [
        "from sklearn.metrics import PrecisionRecallDisplay"
      ],
      "metadata": {
        "id": "7t20ira6Pcds"
      },
      "execution_count": 220,
      "outputs": []
    },
    {
      "cell_type": "code",
      "source": [
        "PrecisionRecallDisplay.from_predictions(y_val,y_previsto,name=\"Arbol de decision\");"
      ],
      "metadata": {
        "id": "Drs3Z6RTPcTc",
        "colab": {
          "base_uri": "https://localhost:8080/",
          "height": 451
        },
        "outputId": "7d928caa-0392-4626-e765-79095368f13a"
      },
      "execution_count": 221,
      "outputs": [
        {
          "output_type": "display_data",
          "data": {
            "text/plain": [
              "<Figure size 640x480 with 1 Axes>"
            ],
            "image/png": "[encoded data removed]"
          },
          "metadata": {}
        }
      ]
    },
    {
      "cell_type": "code",
      "source": [
        "from sklearn.metrics import average_precision_score"
      ],
      "metadata": {
        "id": "DmhO5H5cPcOp"
      },
      "execution_count": 222,
      "outputs": []
    },
    {
      "cell_type": "code",
      "source": [
        "print(f\"El score promedio de Precision vs Recall es de:{average_precision_score(y_val,y_previsto)}\")"
      ],
      "metadata": {
        "colab": {
          "base_uri": "https://localhost:8080/"
        },
        "id": "eg3NWDIye6xo",
        "outputId": "59d5c7f8-93a4-451b-80f7-68ae838d8cc4"
      },
      "execution_count": 223,
      "outputs": [
        {
          "output_type": "stream",
          "name": "stdout",
          "text": [
            "El score promedio de Precision vs Recall es de:0.0936474401247668\n"
          ]
        }
      ]
    },
    {
      "cell_type": "markdown",
      "source": [
        "### Informe de métricas"
      ],
      "metadata": {
        "id": "Bm2E6GEJDJLH"
      }
    },
    {
      "cell_type": "code",
      "source": [
        "from sklearn.metrics import classification_report"
      ],
      "metadata": {
        "id": "C85qunYhPZTJ"
      },
      "execution_count": 224,
      "outputs": []
    },
    {
      "cell_type": "code",
      "source": [
        "print(classification_report(y_val,y_previsto))"
      ],
      "metadata": {
        "id": "pnN6QRlYPZQR",
        "colab": {
          "base_uri": "https://localhost:8080/"
        },
        "outputId": "9ae9daf1-4cd6-423e-e9ee-c82c648b11bb"
      },
      "execution_count": 225,
      "outputs": [
        {
          "output_type": "stream",
          "name": "stdout",
          "text": [
            "              precision    recall  f1-score   support\n",
            "\n",
            "           0       0.92      0.99      0.95     10479\n",
            "           1       0.25      0.04      0.07      1002\n",
            "\n",
            "    accuracy                           0.91     11481\n",
            "   macro avg       0.58      0.51      0.51     11481\n",
            "weighted avg       0.86      0.91      0.87     11481\n",
            "\n"
          ]
        }
      ]
    },
    {
      "cell_type": "markdown",
      "source": [
        "## <font color='dark'> Validación cruzada</h1>"
      ],
      "metadata": {
        "id": "SuxCy_oZZQxE"
      }
    },
    {
      "cell_type": "markdown",
      "source": [
        "### Usando KFold"
      ],
      "metadata": {
        "id": "17q2T0iRnzSg"
      }
    },
    {
      "cell_type": "markdown",
      "source": [
        "La validación del modelo de clasificación a partir de la separación de los datos en conjuntos de entrenamiento y validación hace que el resultado dependa en gran medida de esta división. Puede suceder que, de forma aleatoria, el patrón de los datos de validación sea diferente al de los datos de entrenamiento, lo que podría llevar a obtener un resultado mucho mejor o mucho peor que la realidad simplemente por suerte o mala suerte.  \n",
        "\n",
        "Teniendo esto en cuenta, es posible utilizar la **validación cruzada**, una estrategia más consistente y ampliamente utilizada en proyectos de *machine learning*.  \n",
        "\n",
        "En la validación cruzada, en lugar de separar los datos en entrenamiento y validación una sola vez, se dividen en varias partes de igual tamaño. En cada una de estas divisiones, se usa una parte para validación y todas las demás para entrenamiento. Este proceso se repite hasta que todas las partes hayan sido utilizadas tanto para validación como para entrenamiento.  \n",
        "\n",
        "Se generará un modelo para cada una de estas divisiones y la evaluación del desempeño se realizará promediando la métrica de cada modelo. Esto elimina la dependencia de la separación de los datos, ya que hay una mayor variación en la selección de los mismos y se obtiene un valor medio.  \n",
        "\n",
        "Generalmente, se utilizan 5 o 10 partes. Un número mayor no suele ser necesario, ya que implica un procesamiento más costoso, y valores menores ya ayudan a mitigar el problema de la selección de los datos."
      ],
      "metadata": {
        "id": "zjfYnDWJ6C2A"
      }
    },
    {
      "cell_type": "markdown",
      "source": [
        "<a href=\"https://ibb.co/KcBtshJR\"><img src=\"https://i.ibb.co/nq4X1mFZ/train-y-validacion.png\" alt=\"train-y-validacion\" border=\"0\"></a>"
      ],
      "metadata": {
        "id": "oSboV-QNMG__"
      }
    },
    {
      "cell_type": "code",
      "source": [
        "from sklearn.model_selection import KFold, cross_validate\n"
      ],
      "metadata": {
        "id": "TU8HYdzmPI7P"
      },
      "execution_count": 226,
      "outputs": []
    },
    {
      "cell_type": "code",
      "source": [
        "modelo=DecisionTreeClassifier(max_depth=10)\n",
        "kf=KFold(n_splits=5,shuffle=True,random_state=5)\n",
        "cv_resultados=cross_validate(modelo,X,y,cv=kf)\n",
        "cv_resultados"
      ],
      "metadata": {
        "id": "McSadnzDPI4G",
        "colab": {
          "base_uri": "https://localhost:8080/"
        },
        "outputId": "c03c34f5-0509-4762-d05c-eb2d64770a80"
      },
      "execution_count": 227,
      "outputs": [
        {
          "output_type": "execute_result",
          "data": {
            "text/plain": [
              "{'fit_time': array([0.31284046, 0.31636286, 0.30505371, 0.31045103, 0.31722164]),\n",
              " 'score_time': array([0.0042851 , 0.00409102, 0.00498152, 0.00408769, 0.00434494]),\n",
              " 'test_score': array([0.91344584, 0.90788328, 0.90755662, 0.9135453 , 0.89949913])}"
            ]
          },
          "metadata": {},
          "execution_count": 227
        }
      ]
    },
    {
      "cell_type": "code",
      "source": [
        "cv_resultados[\"test_score\"]"
      ],
      "metadata": {
        "id": "o5oZ8-lhPIy_",
        "colab": {
          "base_uri": "https://localhost:8080/"
        },
        "outputId": "2c747a41-9a76-4445-e2f2-132573ceaa8c"
      },
      "execution_count": 228,
      "outputs": [
        {
          "output_type": "execute_result",
          "data": {
            "text/plain": [
              "array([0.91344584, 0.90788328, 0.90755662, 0.9135453 , 0.89949913])"
            ]
          },
          "metadata": {},
          "execution_count": 228
        }
      ]
    },
    {
      "cell_type": "code",
      "source": [
        "promedio=cv_resultados[\"test_score\"].mean()\n",
        "desvio_estandar=cv_resultados[\"test_score\"].std()\n",
        "print(f'El promedio de la exactitud es de: {promedio}')\n",
        "print(f'El desvio estandar es de: {desvio_estandar}')\n",
        "print(f'El intervalo de confianza es:[{promedio- 2 *desvio_estandar},{min(promedio + 2*desvio_estandar,1)}]')"
      ],
      "metadata": {
        "colab": {
          "base_uri": "https://localhost:8080/"
        },
        "id": "WHUaht58yl6j",
        "outputId": "92ec7174-fe02-41e8-809a-da2feb5dc07b"
      },
      "execution_count": 229,
      "outputs": [
        {
          "output_type": "stream",
          "name": "stdout",
          "text": [
            "El promedio de la exactitud es de: 0.9083860312318031\n",
            "El desvio estandar es de: 0.005140765582021102\n",
            "El intervalo de confianza es:[0.8981045000677609,0.9186675623958452]\n"
          ]
        }
      ]
    },
    {
      "cell_type": "markdown",
      "source": [
        "### Validación cruzada con sensibilidad"
      ],
      "metadata": {
        "id": "GAHrtLM2OCjO"
      }
    },
    {
      "cell_type": "code",
      "source": [
        "def intervalo_confianza(resultados):\n",
        "  promedio=resultados[\"test_score\"].mean()\n",
        "  desvio_estandar=resultados[\"test_score\"].std()\n",
        "  return f'El intervalo de confianza es:[{promedio- 2 *desvio_estandar},{min(promedio + 2*desvio_estandar,1)}]'"
      ],
      "metadata": {
        "id": "Ywfsoe3_PLYZ"
      },
      "execution_count": 230,
      "outputs": []
    },
    {
      "cell_type": "code",
      "source": [
        "modelo=DecisionTreeClassifier(max_depth=10)\n",
        "kf=KFold(n_splits=5,shuffle=True,random_state=5)\n",
        "cv_resultados=cross_validate(modelo,X,y,cv=kf,scoring=\"recall\")\n",
        "cv_resultados"
      ],
      "metadata": {
        "id": "PV3m-6IxPLMf",
        "colab": {
          "base_uri": "https://localhost:8080/"
        },
        "outputId": "140eb608-9cb9-4f1a-8170-1c1196ce6435"
      },
      "execution_count": 231,
      "outputs": [
        {
          "output_type": "execute_result",
          "data": {
            "text/plain": [
              "{'fit_time': array([0.34213471, 0.30812168, 0.31800675, 0.30067396, 0.29857159]),\n",
              " 'score_time': array([0.00746655, 0.00806737, 0.00728846, 0.00772691, 0.00798035]),\n",
              " 'test_score': array([0.02642008, 0.0210396 , 0.01845018, 0.01436031, 0.02427746])}"
            ]
          },
          "metadata": {},
          "execution_count": 231
        }
      ]
    },
    {
      "cell_type": "code",
      "source": [
        "intervalo_confianza(cv_resultados)"
      ],
      "metadata": {
        "id": "Y-gpgU7pPLJv",
        "colab": {
          "base_uri": "https://localhost:8080/",
          "height": 35
        },
        "outputId": "cbd8c326-4b02-4825-ac59-46ea15c14268"
      },
      "execution_count": 232,
      "outputs": [
        {
          "output_type": "execute_result",
          "data": {
            "text/plain": [
              "'El intervalo de confianza es:[0.012392879288412076,0.02942617578590976]'"
            ],
            "application/vnd.google.colaboratory.intrinsic+json": {
              "type": "string"
            }
          },
          "metadata": {},
          "execution_count": 232
        }
      ]
    },
    {
      "cell_type": "markdown",
      "source": [
        "#**DESAFIO, generar el intervalo de confianza para cada una de las métricas utilizando la validación cruzada:**\n",
        "\n",
        "Es siempre importante analizar el problema de negocio antes de evaluar un modelo de clasificación, para que se elija la métrica más adecuada. En nuestro proyecto, estamos clasificando clientes morosos de una agencia de alquiler de vehículos e identificamos que la métrica más relevante es el recall, que busca minimizar la cantidad de personas morosas que son clasificadas como cumplidoras.\n",
        "\n",
        "Para obtener un resultado completo de las métricas en la validación cruzada así como el classification_report, es necesario utilizar el método cross_validate e informar en el parámetro scoring las métricas a evaluar.\n",
        "\n",
        "Como desafío, construye un código para generar el intervalo de confianza para cada una de las métricas utilizando la validación cruzada:\n",
        "\n",
        "Exactitud\n",
        "Recall\n",
        "Precisión\n",
        "F1-score"
      ],
      "metadata": {
        "id": "_9nVcz0n8e27"
      }
    },
    {
      "cell_type": "markdown",
      "source": [
        "Para solucionar el desafío, podemos explorar la documentación y darnos cuenta de que podemos utilizar una lista de métricas en el parámetro scoring. De esta manera, vamos a utilizar el código de la clase para validar el modelo con KFold, pero usando todas las métricas de evaluación de una sola vez:"
      ],
      "metadata": {
        "id": "h4dq1sRB87Td"
      }
    },
    {
      "cell_type": "code",
      "source": [
        "#modelo = DecisionTreeClassifier(max_depth = 10)\n",
        "#kf = KFold(n_splits=5, shuffle = True, random_state = 5)\n",
        "#cv_resultados = cross_validate(modelo, X, y, cv=kf, scoring = ['accuracy','recall', 'precision', 'f1'])\n",
        "#cv_resultados"
      ],
      "metadata": {
        "id": "JH9q9AN-87-2"
      },
      "execution_count": 233,
      "outputs": []
    },
    {
      "cell_type": "markdown",
      "source": [
        "El resultado obtenido es un diccionario con los tiempos de ajuste de los modelos, tiempos de cálculo de las métricas y los resultados de cada una de las métricas para cada uno de los 5 modelos del KFold:"
      ],
      "metadata": {
        "id": "feQdDDie9YRC"
      }
    },
    {
      "cell_type": "code",
      "source": [],
      "metadata": {
        "id": "QNJ6OuTE9gGW"
      },
      "execution_count": 233,
      "outputs": []
    },
    {
      "cell_type": "markdown",
      "source": [
        "Para generar el intervalo de confianza para las métricas, podemos calcular la media y la desviación estándar de cada métrica y utilizar la función print() para presentar el resultado en pantalla. De este modo, podemos construir una función para crear este informe, usando un for para recorrer cada una de las claves del diccionario que acceden a las métricas:"
      ],
      "metadata": {
        "id": "34MpgG8T9xpk"
      }
    },
    {
      "cell_type": "code",
      "source": [
        "#def informe_metricas(resultados):\n",
        "#    for metrica in ['test_accuracy', 'test_recall', 'test_precision', 'test_f1']:\n",
        "#        media = resultados[metrica].mean()\n",
        "#        desvio_estandar = resultados[metrica].std()\n",
        "#        print(f'Intervalo de confianza({metrica}): [{media-2*desvio_estandar}, {min(media+2*desvio_estandar, 1.0)}]')"
      ],
      "metadata": {
        "id": "8DeA4vbA9y20"
      },
      "execution_count": 234,
      "outputs": []
    },
    {
      "cell_type": "markdown",
      "source": [
        "Por último, solo hay que ejecutar la función, utilizando cv_resultados como parámetro:"
      ],
      "metadata": {
        "id": "5axNxR55-A8J"
      }
    },
    {
      "cell_type": "code",
      "source": [
        "#informe_metricas(cv_resultados)"
      ],
      "metadata": {
        "id": "9RyLZUl2-Bwm"
      },
      "execution_count": 235,
      "outputs": []
    },
    {
      "cell_type": "markdown",
      "source": [
        "### Estratificando los datos"
      ],
      "metadata": {
        "id": "-FAOYtNen4qJ"
      }
    },
    {
      "cell_type": "code",
      "source": [
        "# 0=cumplidos 1=morosos\n",
        "datos.moroso.value_counts()"
      ],
      "metadata": {
        "id": "G6bPA6vaPN1A",
        "colab": {
          "base_uri": "https://localhost:8080/",
          "height": 178
        },
        "outputId": "2b37bd32-2bbe-434c-f68e-43a61c10baf5"
      },
      "execution_count": 236,
      "outputs": [
        {
          "output_type": "execute_result",
          "data": {
            "text/plain": [
              "moroso\n",
              "0    49309\n",
              "1     4716\n",
              "Name: count, dtype: int64"
            ],
            "text/html": [
              "<div>\n",
              "<style scoped>\n",
              "    .dataframe tbody tr th:only-of-type {\n",
              "        vertical-align: middle;\n",
              "    }\n",
              "\n",
              "    .dataframe tbody tr th {\n",
              "        vertical-align: top;\n",
              "    }\n",
              "\n",
              "    .dataframe thead th {\n",
              "        text-align: right;\n",
              "    }\n",
              "</style>\n",
              "<table border=\"1\" class=\"dataframe\">\n",
              "  <thead>\n",
              "    <tr style=\"text-align: right;\">\n",
              "      <th></th>\n",
              "      <th>count</th>\n",
              "    </tr>\n",
              "    <tr>\n",
              "      <th>moroso</th>\n",
              "      <th></th>\n",
              "    </tr>\n",
              "  </thead>\n",
              "  <tbody>\n",
              "    <tr>\n",
              "      <th>0</th>\n",
              "      <td>49309</td>\n",
              "    </tr>\n",
              "    <tr>\n",
              "      <th>1</th>\n",
              "      <td>4716</td>\n",
              "    </tr>\n",
              "  </tbody>\n",
              "</table>\n",
              "</div><br><label><b>dtype:</b> int64</label>"
            ]
          },
          "metadata": {},
          "execution_count": 236
        }
      ]
    },
    {
      "cell_type": "code",
      "source": [
        "from sklearn.model_selection import StratifiedKFold"
      ],
      "metadata": {
        "id": "HONIpY1BPNzd"
      },
      "execution_count": 237,
      "outputs": []
    },
    {
      "cell_type": "code",
      "source": [
        "modelo=DecisionTreeClassifier(max_depth=10)\n",
        "skf=StratifiedKFold(n_splits=5,shuffle=True,random_state=5)\n",
        "cv_resultados=cross_validate(modelo,X,y,cv=skf,scoring=\"recall\")\n"
      ],
      "metadata": {
        "id": "jCFRBhd_PNxT"
      },
      "execution_count": 238,
      "outputs": []
    },
    {
      "cell_type": "code",
      "source": [
        "intervalo_confianza(cv_resultados)"
      ],
      "metadata": {
        "id": "45PltAxfGXv1",
        "outputId": "a01d8ce0-5aed-4056-bcf5-924a9bdab1c9",
        "colab": {
          "base_uri": "https://localhost:8080/",
          "height": 35
        }
      },
      "execution_count": 239,
      "outputs": [
        {
          "output_type": "execute_result",
          "data": {
            "text/plain": [
              "'El intervalo de confianza es:[0.019631705038578223,0.03773797936464593]'"
            ],
            "application/vnd.google.colaboratory.intrinsic+json": {
              "type": "string"
            }
          },
          "metadata": {},
          "execution_count": 239
        }
      ]
    },
    {
      "cell_type": "markdown",
      "source": [
        "## <font color='dark'>Balanceo de los datos</h1>"
      ],
      "metadata": {
        "id": "yaVwNb1kn8sX"
      }
    },
    {
      "cell_type": "markdown",
      "source": [
        "### Oversampling"
      ],
      "metadata": {
        "id": "4eYKxWJd6g6w"
      }
    },
    {
      "cell_type": "markdown",
      "source": [
        "https://imbalanced-learn.org/stable/references/generated/imblearn.over_sampling.SMOTE.html#id1"
      ],
      "metadata": {
        "id": "N0MJ7hGUmL4l"
      }
    },
    {
      "cell_type": "code",
      "source": [],
      "metadata": {
        "id": "cO0Dx5xAO4B5"
      },
      "execution_count": 239,
      "outputs": []
    },
    {
      "cell_type": "code",
      "source": [],
      "metadata": {
        "id": "h6DQqcttO3_c"
      },
      "execution_count": 239,
      "outputs": []
    },
    {
      "cell_type": "code",
      "source": [],
      "metadata": {
        "id": "7Lp4GoMRO355"
      },
      "execution_count": 239,
      "outputs": []
    },
    {
      "cell_type": "markdown",
      "source": [
        "### Pipeline para validación"
      ],
      "metadata": {
        "id": "fHSNXznm6ia-"
      }
    },
    {
      "cell_type": "code",
      "source": [],
      "metadata": {
        "id": "DaoAbR84O44S"
      },
      "execution_count": 239,
      "outputs": []
    },
    {
      "cell_type": "code",
      "source": [],
      "metadata": {
        "id": "7UezUduWO41c"
      },
      "execution_count": 239,
      "outputs": []
    },
    {
      "cell_type": "code",
      "source": [],
      "metadata": {
        "id": "b7Z-pe6wO4yN"
      },
      "execution_count": 239,
      "outputs": []
    },
    {
      "cell_type": "markdown",
      "source": [
        "### Undersampling"
      ],
      "metadata": {
        "id": "66PlvwjX6kFv"
      }
    },
    {
      "cell_type": "markdown",
      "source": [
        "https://imbalanced-learn.org/stable/references/generated/imblearn.under_sampling.NearMiss.html"
      ],
      "metadata": {
        "id": "Fh6VZN5Fx7wl"
      }
    },
    {
      "cell_type": "code",
      "source": [],
      "metadata": {
        "id": "lUn59uqAO63N"
      },
      "execution_count": 239,
      "outputs": []
    },
    {
      "cell_type": "code",
      "source": [],
      "metadata": {
        "id": "pOUKHwqRO6zb"
      },
      "execution_count": 239,
      "outputs": []
    },
    {
      "cell_type": "code",
      "source": [],
      "metadata": {
        "id": "ykn9H4kFO6so"
      },
      "execution_count": 239,
      "outputs": []
    },
    {
      "cell_type": "markdown",
      "source": [
        "### Probando el modelo"
      ],
      "metadata": {
        "id": "EP-44U0eHt-a"
      }
    },
    {
      "cell_type": "code",
      "source": [],
      "metadata": {
        "id": "XWhZlwOTO8eN"
      },
      "execution_count": 239,
      "outputs": []
    },
    {
      "cell_type": "code",
      "source": [],
      "metadata": {
        "id": "gZHVqM6hO8bt"
      },
      "execution_count": 239,
      "outputs": []
    },
    {
      "cell_type": "code",
      "source": [],
      "metadata": {
        "id": "QSrpOQpxO8WT"
      },
      "execution_count": 239,
      "outputs": []
    },
    {
      "cell_type": "markdown",
      "source": [
        "#**Desafio Randomforest**\n",
        "\n",
        "El primer paso es identificar cómo importar el algoritmo Random Forest a partir de la documentación, que siempre trae ejemplos de cómo utilizar la función. La importación se puede hacer con el siguiente código:"
      ],
      "metadata": {
        "id": "OzU4FJ0Up4zN"
      }
    },
    {
      "cell_type": "code",
      "source": [
        "from sklearn.ensemble import RandomForestClassifier"
      ],
      "metadata": {
        "id": "vAZyLLONp4Ji"
      },
      "execution_count": 240,
      "outputs": []
    },
    {
      "cell_type": "markdown",
      "source": [
        "Ahora que hemos importado el algoritmo, solo necesitamos instanciar el RandomForestClassifier en una variable y utilizar el parámetro max_depth = 10 así como hicimos con el árbol de decisión. Esto evitará que el modelo se ajuste demasiado a los datos de entrenamiento. Después de eso, podemos ajustar el modelo con datos de entrenamiento y verificar el resultado de la precisión:"
      ],
      "metadata": {
        "id": "MfvV_OZKqI0m"
      }
    },
    {
      "cell_type": "code",
      "source": [
        "modelo = RandomForestClassifier(max_depth = 10)\n",
        "modelo.fit(X_train, y_train)\n",
        "print(f'Precisión de entrenamiento: {modelo.score(X_train, y_train)}')\n",
        "print(f'Precisión de validación: {modelo.score(X_val, y_val)}')"
      ],
      "metadata": {
        "colab": {
          "base_uri": "https://localhost:8080/"
        },
        "id": "P7pFgRbIqKWi",
        "outputId": "93ccbaa2-1a3f-45cc-a01e-944f15927525"
      },
      "execution_count": 241,
      "outputs": [
        {
          "output_type": "stream",
          "name": "stdout",
          "text": [
            "Precisión de entrenamiento: 0.9157084785133566\n",
            "Precisión de validación: 0.9128124727811167\n"
          ]
        }
      ]
    },
    {
      "cell_type": "markdown",
      "source": [
        "Al ejecutar el código, obtendremos el siguiente resultado:\n",
        "\n",
        "Precisión de entrenamiento: 0.9154761904761904\n",
        "\n",
        "Precisión de validación: 0.9127253723543245\n",
        "\n",
        "Este resultado muestra que el RandomForest tuvo una precisión mejor que el árbol de decisión, indicando que el modelo tiene una tasa de aciertos general mejor.\n",
        "\n",
        "Para completar, podemos generar una matriz de confusión a partir del modelo y verificar la cantidad de aciertos y errores para cada clase. Podemos crear la matriz con el siguiente código:"
      ],
      "metadata": {
        "id": "2Q4Nx-TjqwJY"
      }
    },
    {
      "cell_type": "code",
      "source": [
        "y_previsto = modelo.predict(X_val)\n",
        "matriz_confusion = confusion_matrix(y_val, y_previsto)\n",
        "visualizacion = ConfusionMatrixDisplay(confusion_matrix= matriz_confusion,\n",
        "                                      display_labels = ['Cumplido', 'Moroso'])\n",
        "visualizacion.plot();"
      ],
      "metadata": {
        "colab": {
          "base_uri": "https://localhost:8080/",
          "height": 449
        },
        "id": "n0xn63vGqxfR",
        "outputId": "a86023ee-fca5-44dc-d19b-21e2bfc6bfb1"
      },
      "execution_count": 242,
      "outputs": [
        {
          "output_type": "display_data",
          "data": {
            "text/plain": [
              "<Figure size 640x480 with 2 Axes>"
            ],
            "image/png": "[encoded data removed]"
          },
          "metadata": {}
        }
      ]
    },
    {
      "cell_type": "markdown",
      "source": [
        "A partir de esta matriz, nos damos cuenta de que a pesar de una precisión mayor, el modelo RandomForest no logra identificar casi ningún cliente moroso, indicando un resultado bastante malo en relación al modelo de árbol de decisión."
      ],
      "metadata": {
        "id": "7kPqLYFcq8YD"
      }
    },
    {
      "cell_type": "code",
      "source": [],
      "metadata": {
        "id": "aFzgQxCaq8HU"
      },
      "execution_count": 242,
      "outputs": []
    },
    {
      "cell_type": "code",
      "source": [],
      "metadata": {
        "id": "XSb_YjVZq7gp"
      },
      "execution_count": 242,
      "outputs": []
    },
    {
      "cell_type": "markdown",
      "source": [
        "#**Desafio Diabetes**\n",
        "\n",
        "**1 -** Para la construcción de un modelo de machine learning se necesitan datos. Como tarea inicial, realiza la lectura de la base de datos de diabetes y divide los datos en variables explicativas y variable objetivo (x e y). La variable objetivo es la columna que quieres clasificar, que contiene la información de si el paciente tiene o no diabetes. Las variables explicativas son todas las columnas excepto la de diabetes. La separación de los datos se puede hacer con la selección de columnas con pandas.\n",
        "\n",
        "**2 -** Una etapa muy importante en proyectos de clasificación es la validación de los modelos, para identificar si hay una generalización del modelo para datos nuevos. Realiza la división de los datos entre entrenamiento, validación y prueba. Utiliza el 5% de los datos para prueba y con el resto, deja el 25% para validación. En el momento de la separación, usa el parámetro stratify a partir de la variable objetivo para mantener la proporción de los datos.\n",
        "\n",
        "**3 -** La etapa de modelado de datos consiste en utilizar un algoritmo capaz de identificar patrones en los datos y clasificar los valores. A partir del modelo es posible extraer una tasa de acierto para entender su desempeño. Crea 2 modelos utilizando los algoritmos DecisionTreeClassifier y RandomForestClassifier y evalúa la precisión de entrenamiento y prueba, eligiendo el valor 3 para el parámetro max_depth del algoritmo DecisionTreeClassifier y el valor 2 para el max_depth del algoritmo RandomForestClassifier, para que los modelos no se especialicen demasiado en el patrón de los datos de entrenamiento.\n",
        "\n",
        "**4 -** La tasa de acierto generalmente no proporciona información suficiente para entender el comportamiento del modelo. La matriz de confusión es una herramienta más completa, capaz de proporcionar los aciertos y errores del modelo para cada clase. Construye una matriz de confusión para cada uno de los modelos para evaluar el desempeño de la predicción. Para construir la matriz, usa el método predict para generar las predicciones de los valores y comparar con los valores reales de la base de datos.\n",
        "\n"
      ],
      "metadata": {
        "id": "WdWdGVdQK9Pw"
      }
    },
    {
      "cell_type": "code",
      "source": [
        "import pandas as pd\n"
      ],
      "metadata": {
        "id": "IQSc3quJL8gt"
      },
      "execution_count": 243,
      "outputs": []
    },
    {
      "cell_type": "code",
      "source": [
        "datos=pd.read_csv(\"/content/diabetes.csv\")\n",
        "datos"
      ],
      "metadata": {
        "colab": {
          "base_uri": "https://localhost:8080/",
          "height": 424
        },
        "id": "xr3R83N0MHuq",
        "outputId": "bafe71e5-9846-47d8-d464-fd6e0da76e2b"
      },
      "execution_count": 244,
      "outputs": [
        {
          "output_type": "execute_result",
          "data": {
            "text/plain": [
              "     glicemia  presion_sanguinea  grasa_subcutanea_triceps  insulina    imc  \\\n",
              "0          66                 23                        94      28.1  0.167   \n",
              "1          40                 35                       168      43.1  2.288   \n",
              "2          50                 32                        88      31.0  0.248   \n",
              "3          70                 45                       543      30.5  0.158   \n",
              "4          60                 23                       846      30.1  0.398   \n",
              "..        ...                ...                       ...       ...    ...   \n",
              "389        88                 44                       510      43.3  0.222   \n",
              "390        88                 39                       110      36.5  1.057   \n",
              "391        58                 26                        16      28.4  0.766   \n",
              "392        76                 48                       180      32.9  0.171   \n",
              "393        72                 23                       112      26.2  0.245   \n",
              "\n",
              "     diabetes  \n",
              "0           0  \n",
              "1           1  \n",
              "2           1  \n",
              "3           1  \n",
              "4           1  \n",
              "..        ...  \n",
              "389         1  \n",
              "390         1  \n",
              "391         0  \n",
              "392         0  \n",
              "393         0  \n",
              "\n",
              "[394 rows x 6 columns]"
            ],
            "text/html": [
              "\n",
              "  <div id=\"df-2d50f420-0942-4538-a033-f0d1beac83ce\" class=\"colab-df-container\">\n",
              "    <div>\n",
              "<style scoped>\n",
              "    .dataframe tbody tr th:only-of-type {\n",
              "        vertical-align: middle;\n",
              "    }\n",
              "\n",
              "    .dataframe tbody tr th {\n",
              "        vertical-align: top;\n",
              "    }\n",
              "\n",
              "    .dataframe thead th {\n",
              "        text-align: right;\n",
              "    }\n",
              "</style>\n",
              "<table border=\"1\" class=\"dataframe\">\n",
              "  <thead>\n",
              "    <tr style=\"text-align: right;\">\n",
              "      <th></th>\n",
              "      <th>glicemia</th>\n",
              "      <th>presion_sanguinea</th>\n",
              "      <th>grasa_subcutanea_triceps</th>\n",
              "      <th>insulina</th>\n",
              "      <th>imc</th>\n",
              "      <th>diabetes</th>\n",
              "    </tr>\n",
              "  </thead>\n",
              "  <tbody>\n",
              "    <tr>\n",
              "      <th>0</th>\n",
              "      <td>66</td>\n",
              "      <td>23</td>\n",
              "      <td>94</td>\n",
              "      <td>28.1</td>\n",
              "      <td>0.167</td>\n",
              "      <td>0</td>\n",
              "    </tr>\n",
              "    <tr>\n",
              "      <th>1</th>\n",
              "      <td>40</td>\n",
              "      <td>35</td>\n",
              "      <td>168</td>\n",
              "      <td>43.1</td>\n",
              "      <td>2.288</td>\n",
              "      <td>1</td>\n",
              "    </tr>\n",
              "    <tr>\n",
              "      <th>2</th>\n",
              "      <td>50</td>\n",
              "      <td>32</td>\n",
              "      <td>88</td>\n",
              "      <td>31.0</td>\n",
              "      <td>0.248</td>\n",
              "      <td>1</td>\n",
              "    </tr>\n",
              "    <tr>\n",
              "      <th>3</th>\n",
              "      <td>70</td>\n",
              "      <td>45</td>\n",
              "      <td>543</td>\n",
              "      <td>30.5</td>\n",
              "      <td>0.158</td>\n",
              "      <td>1</td>\n",
              "    </tr>\n",
              "    <tr>\n",
              "      <th>4</th>\n",
              "      <td>60</td>\n",
              "      <td>23</td>\n",
              "      <td>846</td>\n",
              "      <td>30.1</td>\n",
              "      <td>0.398</td>\n",
              "      <td>1</td>\n",
              "    </tr>\n",
              "    <tr>\n",
              "      <th>...</th>\n",
              "      <td>...</td>\n",
              "      <td>...</td>\n",
              "      <td>...</td>\n",
              "      <td>...</td>\n",
              "      <td>...</td>\n",
              "      <td>...</td>\n",
              "    </tr>\n",
              "    <tr>\n",
              "      <th>389</th>\n",
              "      <td>88</td>\n",
              "      <td>44</td>\n",
              "      <td>510</td>\n",
              "      <td>43.3</td>\n",
              "      <td>0.222</td>\n",
              "      <td>1</td>\n",
              "    </tr>\n",
              "    <tr>\n",
              "      <th>390</th>\n",
              "      <td>88</td>\n",
              "      <td>39</td>\n",
              "      <td>110</td>\n",
              "      <td>36.5</td>\n",
              "      <td>1.057</td>\n",
              "      <td>1</td>\n",
              "    </tr>\n",
              "    <tr>\n",
              "      <th>391</th>\n",
              "      <td>58</td>\n",
              "      <td>26</td>\n",
              "      <td>16</td>\n",
              "      <td>28.4</td>\n",
              "      <td>0.766</td>\n",
              "      <td>0</td>\n",
              "    </tr>\n",
              "    <tr>\n",
              "      <th>392</th>\n",
              "      <td>76</td>\n",
              "      <td>48</td>\n",
              "      <td>180</td>\n",
              "      <td>32.9</td>\n",
              "      <td>0.171</td>\n",
              "      <td>0</td>\n",
              "    </tr>\n",
              "    <tr>\n",
              "      <th>393</th>\n",
              "      <td>72</td>\n",
              "      <td>23</td>\n",
              "      <td>112</td>\n",
              "      <td>26.2</td>\n",
              "      <td>0.245</td>\n",
              "      <td>0</td>\n",
              "    </tr>\n",
              "  </tbody>\n",
              "</table>\n",
              "<p>394 rows × 6 columns</p>\n",
              "</div>\n",
              "    <div class=\"colab-df-buttons\">\n",
              "\n",
              "  <div class=\"colab-df-container\">\n",
              "    <button class=\"colab-df-convert\" onclick=\"convertToInteractive('df-2d50f420-0942-4538-a033-f0d1beac83ce')\"\n",
              "            title=\"Convert this dataframe to an interactive table.\"\n",
              "            style=\"display:none;\">\n",
              "\n",
              "  <svg xmlns=\"http://www.w3.org/2000/svg\" height=\"24px\" viewBox=\"0 -960 960 960\">\n",
              "    <path d=\"M120-120v-720h720v720H120Zm60-500h600v-160H180v160Zm220 220h160v-160H400v160Zm0 220h160v-160H400v160ZM180-400h160v-160H180v160Zm440 0h160v-160H620v160ZM180-180h160v-160H180v160Zm440 0h160v-160H620v160Z\"/>\n",
              "  </svg>\n",
              "    </button>\n",
              "\n",
              "  <style>\n",
              "    .colab-df-container {\n",
              "      display:flex;\n",
              "      gap: 12px;\n",
              "    }\n",
              "\n",
              "    .colab-df-convert {\n",
              "      background-color: #E8F0FE;\n",
              "      border: none;\n",
              "      border-radius: 50%;\n",
              "      cursor: pointer;\n",
              "      display: none;\n",
              "      fill: #1967D2;\n",
              "      height: 32px;\n",
              "      padding: 0 0 0 0;\n",
              "      width: 32px;\n",
              "    }\n",
              "\n",
              "    .colab-df-convert:hover {\n",
              "      background-color: #E2EBFA;\n",
              "      box-shadow: 0px 1px 2px rgba(60, 64, 67, 0.3), 0px 1px 3px 1px rgba(60, 64, 67, 0.15);\n",
              "      fill: #174EA6;\n",
              "    }\n",
              "\n",
              "    .colab-df-buttons div {\n",
              "      margin-bottom: 4px;\n",
              "    }\n",
              "\n",
              "    [theme=dark] .colab-df-convert {\n",
              "      background-color: #3B4455;\n",
              "      fill: #D2E3FC;\n",
              "    }\n",
              "\n",
              "    [theme=dark] .colab-df-convert:hover {\n",
              "      background-color: #434B5C;\n",
              "      box-shadow: 0px 1px 3px 1px rgba(0, 0, 0, 0.15);\n",
              "      filter: drop-shadow(0px 1px 2px rgba(0, 0, 0, 0.3));\n",
              "      fill: #FFFFFF;\n",
              "    }\n",
              "  </style>\n",
              "\n",
              "    <script>\n",
              "      const buttonEl =\n",
              "        document.querySelector('#df-2d50f420-0942-4538-a033-f0d1beac83ce button.colab-df-convert');\n",
              "      buttonEl.style.display =\n",
              "        google.colab.kernel.accessAllowed ? 'block' : 'none';\n",
              "\n",
              "      async function convertToInteractive(key) {\n",
              "        const element = document.querySelector('#df-2d50f420-0942-4538-a033-f0d1beac83ce');\n",
              "        const dataTable =\n",
              "          await google.colab.kernel.invokeFunction('convertToInteractive',\n",
              "                                                    [key], {});\n",
              "        if (!dataTable) return;\n",
              "\n",
              "        const docLinkHtml = 'Like what you see? Visit the ' +\n",
              "          '<a target=\"_blank\" href=https://colab.research.google.com/notebooks/data_table.ipynb>data table notebook</a>'\n",
              "          + ' to learn more about interactive tables.';\n",
              "        element.innerHTML = '';\n",
              "        dataTable['output_type'] = 'display_data';\n",
              "        await google.colab.output.renderOutput(dataTable, element);\n",
              "        const docLink = document.createElement('div');\n",
              "        docLink.innerHTML = docLinkHtml;\n",
              "        element.appendChild(docLink);\n",
              "      }\n",
              "    </script>\n",
              "  </div>\n",
              "\n",
              "\n",
              "    <div id=\"df-cfc7b63f-688f-4370-8c2e-d2d0b7af0325\">\n",
              "      <button class=\"colab-df-quickchart\" onclick=\"quickchart('df-cfc7b63f-688f-4370-8c2e-d2d0b7af0325')\"\n",
              "                title=\"Suggest charts\"\n",
              "                style=\"display:none;\">\n",
              "\n",
              "<svg xmlns=\"http://www.w3.org/2000/svg\" height=\"24px\"viewBox=\"0 0 24 24\"\n",
              "     width=\"24px\">\n",
              "    <g>\n",
              "        <path d=\"M19 3H5c-1.1 0-2 .9-2 2v14c0 1.1.9 2 2 2h14c1.1 0 2-.9 2-2V5c0-1.1-.9-2-2-2zM9 17H7v-7h2v7zm4 0h-2V7h2v10zm4 0h-2v-4h2v4z\"/>\n",
              "    </g>\n",
              "</svg>\n",
              "      </button>\n",
              "\n",
              "<style>\n",
              "  .colab-df-quickchart {\n",
              "      --bg-color: #E8F0FE;\n",
              "      --fill-color: #1967D2;\n",
              "      --hover-bg-color: #E2EBFA;\n",
              "      --hover-fill-color: #174EA6;\n",
              "      --disabled-fill-color: #AAA;\n",
              "      --disabled-bg-color: #DDD;\n",
              "  }\n",
              "\n",
              "  [theme=dark] .colab-df-quickchart {\n",
              "      --bg-color: #3B4455;\n",
              "      --fill-color: #D2E3FC;\n",
              "      --hover-bg-color: #434B5C;\n",
              "      --hover-fill-color: #FFFFFF;\n",
              "      --disabled-bg-color: #3B4455;\n",
              "      --disabled-fill-color: #666;\n",
              "  }\n",
              "\n",
              "  .colab-df-quickchart {\n",
              "    background-color: var(--bg-color);\n",
              "    border: none;\n",
              "    border-radius: 50%;\n",
              "    cursor: pointer;\n",
              "    display: none;\n",
              "    fill: var(--fill-color);\n",
              "    height: 32px;\n",
              "    padding: 0;\n",
              "    width: 32px;\n",
              "  }\n",
              "\n",
              "  .colab-df-quickchart:hover {\n",
              "    background-color: var(--hover-bg-color);\n",
              "    box-shadow: 0 1px 2px rgba(60, 64, 67, 0.3), 0 1px 3px 1px rgba(60, 64, 67, 0.15);\n",
              "    fill: var(--button-hover-fill-color);\n",
              "  }\n",
              "\n",
              "  .colab-df-quickchart-complete:disabled,\n",
              "  .colab-df-quickchart-complete:disabled:hover {\n",
              "    background-color: var(--disabled-bg-color);\n",
              "    fill: var(--disabled-fill-color);\n",
              "    box-shadow: none;\n",
              "  }\n",
              "\n",
              "  .colab-df-spinner {\n",
              "    border: 2px solid var(--fill-color);\n",
              "    border-color: transparent;\n",
              "    border-bottom-color: var(--fill-color);\n",
              "    animation:\n",
              "      spin 1s steps(1) infinite;\n",
              "  }\n",
              "\n",
              "  @keyframes spin {\n",
              "    0% {\n",
              "      border-color: transparent;\n",
              "      border-bottom-color: var(--fill-color);\n",
              "      border-left-color: var(--fill-color);\n",
              "    }\n",
              "    20% {\n",
              "      border-color: transparent;\n",
              "      border-left-color: var(--fill-color);\n",
              "      border-top-color: var(--fill-color);\n",
              "    }\n",
              "    30% {\n",
              "      border-color: transparent;\n",
              "      border-left-color: var(--fill-color);\n",
              "      border-top-color: var(--fill-color);\n",
              "      border-right-color: var(--fill-color);\n",
              "    }\n",
              "    40% {\n",
              "      border-color: transparent;\n",
              "      border-right-color: var(--fill-color);\n",
              "      border-top-color: var(--fill-color);\n",
              "    }\n",
              "    60% {\n",
              "      border-color: transparent;\n",
              "      border-right-color: var(--fill-color);\n",
              "    }\n",
              "    80% {\n",
              "      border-color: transparent;\n",
              "      border-right-color: var(--fill-color);\n",
              "      border-bottom-color: var(--fill-color);\n",
              "    }\n",
              "    90% {\n",
              "      border-color: transparent;\n",
              "      border-bottom-color: var(--fill-color);\n",
              "    }\n",
              "  }\n",
              "</style>\n",
              "\n",
              "      <script>\n",
              "        async function quickchart(key) {\n",
              "          const quickchartButtonEl =\n",
              "            document.querySelector('#' + key + ' button');\n",
              "          quickchartButtonEl.disabled = true;  // To prevent multiple clicks.\n",
              "          quickchartButtonEl.classList.add('colab-df-spinner');\n",
              "          try {\n",
              "            const charts = await google.colab.kernel.invokeFunction(\n",
              "                'suggestCharts', [key], {});\n",
              "          } catch (error) {\n",
              "            console.error('Error during call to suggestCharts:', error);\n",
              "          }\n",
              "          quickchartButtonEl.classList.remove('colab-df-spinner');\n",
              "          quickchartButtonEl.classList.add('colab-df-quickchart-complete');\n",
              "        }\n",
              "        (() => {\n",
              "          let quickchartButtonEl =\n",
              "            document.querySelector('#df-cfc7b63f-688f-4370-8c2e-d2d0b7af0325 button');\n",
              "          quickchartButtonEl.style.display =\n",
              "            google.colab.kernel.accessAllowed ? 'block' : 'none';\n",
              "        })();\n",
              "      </script>\n",
              "    </div>\n",
              "\n",
              "  <div id=\"id_3a5ef32e-0fdf-4e6a-94ae-f70dbfb1b8f1\">\n",
              "    <style>\n",
              "      .colab-df-generate {\n",
              "        background-color: #E8F0FE;\n",
              "        border: none;\n",
              "        border-radius: 50%;\n",
              "        cursor: pointer;\n",
              "        display: none;\n",
              "        fill: #1967D2;\n",
              "        height: 32px;\n",
              "        padding: 0 0 0 0;\n",
              "        width: 32px;\n",
              "      }\n",
              "\n",
              "      .colab-df-generate:hover {\n",
              "        background-color: #E2EBFA;\n",
              "        box-shadow: 0px 1px 2px rgba(60, 64, 67, 0.3), 0px 1px 3px 1px rgba(60, 64, 67, 0.15);\n",
              "        fill: #174EA6;\n",
              "      }\n",
              "\n",
              "      [theme=dark] .colab-df-generate {\n",
              "        background-color: #3B4455;\n",
              "        fill: #D2E3FC;\n",
              "      }\n",
              "\n",
              "      [theme=dark] .colab-df-generate:hover {\n",
              "        background-color: #434B5C;\n",
              "        box-shadow: 0px 1px 3px 1px rgba(0, 0, 0, 0.15);\n",
              "        filter: drop-shadow(0px 1px 2px rgba(0, 0, 0, 0.3));\n",
              "        fill: #FFFFFF;\n",
              "      }\n",
              "    </style>\n",
              "    <button class=\"colab-df-generate\" onclick=\"generateWithVariable('datos')\"\n",
              "            title=\"Generate code using this dataframe.\"\n",
              "            style=\"display:none;\">\n",
              "\n",
              "  <svg xmlns=\"http://www.w3.org/2000/svg\" height=\"24px\"viewBox=\"0 0 24 24\"\n",
              "       width=\"24px\">\n",
              "    <path d=\"M7,19H8.4L18.45,9,17,7.55,7,17.6ZM5,21V16.75L18.45,3.32a2,2,0,0,1,2.83,0l1.4,1.43a1.91,1.91,0,0,1,.58,1.4,1.91,1.91,0,0,1-.58,1.4L9.25,21ZM18.45,9,17,7.55Zm-12,3A5.31,5.31,0,0,0,4.9,8.1,5.31,5.31,0,0,0,1,6.5,5.31,5.31,0,0,0,4.9,4.9,5.31,5.31,0,0,0,6.5,1,5.31,5.31,0,0,0,8.1,4.9,5.31,5.31,0,0,0,12,6.5,5.46,5.46,0,0,0,6.5,12Z\"/>\n",
              "  </svg>\n",
              "    </button>\n",
              "    <script>\n",
              "      (() => {\n",
              "      const buttonEl =\n",
              "        document.querySelector('#id_3a5ef32e-0fdf-4e6a-94ae-f70dbfb1b8f1 button.colab-df-generate');\n",
              "      buttonEl.style.display =\n",
              "        google.colab.kernel.accessAllowed ? 'block' : 'none';\n",
              "\n",
              "      buttonEl.onclick = () => {\n",
              "        google.colab.notebook.generateWithVariable('datos');\n",
              "      }\n",
              "      })();\n",
              "    </script>\n",
              "  </div>\n",
              "\n",
              "    </div>\n",
              "  </div>\n"
            ],
            "application/vnd.google.colaboratory.intrinsic+json": {
              "type": "dataframe",
              "variable_name": "datos",
              "summary": "{\n  \"name\": \"datos\",\n  \"rows\": 394,\n  \"fields\": [\n    {\n      \"column\": \"glicemia\",\n      \"properties\": {\n        \"dtype\": \"number\",\n        \"std\": 12,\n        \"min\": 24,\n        \"max\": 110,\n        \"num_unique_values\": 37,\n        \"samples\": [\n          68,\n          64,\n          60\n        ],\n        \"semantic_type\": \"\",\n        \"description\": \"\"\n      }\n    },\n    {\n      \"column\": \"presion_sanguinea\",\n      \"properties\": {\n        \"dtype\": \"number\",\n        \"std\": 10,\n        \"min\": 7,\n        \"max\": 63,\n        \"num_unique_values\": 48,\n        \"samples\": [\n          51,\n          52,\n          18\n        ],\n        \"semantic_type\": \"\",\n        \"description\": \"\"\n      }\n    },\n    {\n      \"column\": \"grasa_subcutanea_triceps\",\n      \"properties\": {\n        \"dtype\": \"number\",\n        \"std\": 118,\n        \"min\": 14,\n        \"max\": 846,\n        \"num_unique_values\": 185,\n        \"samples\": [\n          240,\n          18,\n          274\n        ],\n        \"semantic_type\": \"\",\n        \"description\": \"\"\n      }\n    },\n    {\n      \"column\": \"insulina\",\n      \"properties\": {\n        \"dtype\": \"number\",\n        \"std\": 7.210160099590896,\n        \"min\": 0.0,\n        \"max\": 67.1,\n        \"num_unique_values\": 195,\n        \"samples\": [\n          42.1,\n          24.0,\n          46.1\n        ],\n        \"semantic_type\": \"\",\n        \"description\": \"\"\n      }\n    },\n    {\n      \"column\": \"imc\",\n      \"properties\": {\n        \"dtype\": \"number\",\n        \"std\": 0.3501269481387728,\n        \"min\": 0.085,\n        \"max\": 2.42,\n        \"num_unique_values\": 332,\n        \"samples\": [\n          0.962,\n          0.251,\n          0.229\n        ],\n        \"semantic_type\": \"\",\n        \"description\": \"\"\n      }\n    },\n    {\n      \"column\": \"diabetes\",\n      \"properties\": {\n        \"dtype\": \"number\",\n        \"std\": 0,\n        \"min\": 0,\n        \"max\": 1,\n        \"num_unique_values\": 2,\n        \"samples\": [\n          1,\n          0\n        ],\n        \"semantic_type\": \"\",\n        \"description\": \"\"\n      }\n    }\n  ]\n}"
            }
          },
          "metadata": {},
          "execution_count": 244
        }
      ]
    },
    {
      "cell_type": "markdown",
      "source": [
        "La base de datos tiene solo 394 filas y 6 columnas. Podemos observar 6 columnas de datos: glicemia, presion_sanguinea, pliegue_cutaneo_triceps, insulina, imc y diabetes. La clasificación del modelo debe hacerse para la columna de diabetes, que presenta valores de 0 para ausencia de diabetes y 1 para presencia de diabetes, por lo tanto, esta es la variable objetivo y el resto son variables explicativas. Podemos realizar la división de los datos usando el código:"
      ],
      "metadata": {
        "id": "xFBNi7qfNIWO"
      }
    },
    {
      "cell_type": "code",
      "source": [
        "X=datos.drop(\"diabetes\",axis=1)\n",
        "y=datos.diabetes"
      ],
      "metadata": {
        "id": "-1kS8_u1MMzb"
      },
      "execution_count": 245,
      "outputs": []
    },
    {
      "cell_type": "markdown",
      "source": [
        "**2 -** Para realizar la división de datos entre entrenamiento, validación y prueba, podemos usar el método **train_test_split** de la biblioteca Scikit-Learn. Primero debemos importar la función con el código:"
      ],
      "metadata": {
        "id": "xvM4CIo0NXuh"
      }
    },
    {
      "cell_type": "code",
      "source": [
        "from sklearn.model_selection import train_test_split"
      ],
      "metadata": {
        "id": "IfVqWsmUM7xS"
      },
      "execution_count": 246,
      "outputs": []
    },
    {
      "cell_type": "markdown",
      "source": [
        "La primera división se hará de los datos de prueba y luego con el resto se hará una nueva división entre entrenamiento y validación, usando el parámetro stratify = y para mantener la proporción de los datos de la variable objetivo entre los conjuntos. Dado que la base de datos tiene pocos registros, solo se dividirá el 5% de los datos para prueba para que haya una cantidad mayor de registros en la base de datos de entrenamiento:"
      ],
      "metadata": {
        "id": "HcQIjB6LNqzD"
      }
    },
    {
      "cell_type": "code",
      "source": [
        "X, X_test, y, y_test = train_test_split(X, y, stratify = y, test_size = 0.05, random_state = 5)\n",
        "X_train, X_val, y_train, y_val = train_test_split(X, y, stratify = y, random_state = 5)"
      ],
      "metadata": {
        "id": "09San1xDNsMw"
      },
      "execution_count": 247,
      "outputs": []
    },
    {
      "cell_type": "markdown",
      "source": [
        "**3 -** La primera etapa para la creación de los modelos será la importación de los algoritmos DecisionTreeClassifier y RandomForestClassifier, usando el código:"
      ],
      "metadata": {
        "id": "dm41wEeDOXSi"
      }
    },
    {
      "cell_type": "code",
      "source": [
        "from sklearn.tree import DecisionTreeClassifier\n",
        "from sklearn.ensemble import RandomForestClassifier"
      ],
      "metadata": {
        "id": "ygRJNfd-OfUq"
      },
      "execution_count": 248,
      "outputs": []
    },
    {
      "cell_type": "markdown",
      "source": [
        "Después de la importación de los algoritmos, podemos instanciar los modelos y almacenarlos en variables, aquí se eligieron los valores de max_depth = 3 para el DecisionTree y max_depth = 2 para el RandomForest:"
      ],
      "metadata": {
        "id": "YcLPJWCTOwxf"
      }
    },
    {
      "cell_type": "code",
      "source": [
        "arbol = DecisionTreeClassifier(max_depth = 3)\n",
        "random_forest = RandomForestClassifier(max_depth = 2)"
      ],
      "metadata": {
        "id": "CWWz3666OwK2"
      },
      "execution_count": 249,
      "outputs": []
    },
    {
      "cell_type": "markdown",
      "source": [
        "Para hacer el ajuste de los modelos podemos usar el método fit() y para evaluar la tasa de acierto, el método score():"
      ],
      "metadata": {
        "id": "-pCibXU-O6Uv"
      }
    },
    {
      "cell_type": "code",
      "source": [
        "arbol.fit(X_train, y_train)\n",
        "print(f'Precisión de entrenamiento: {arbol.score(X_train, y_train)}')\n",
        "print(f'Precisión de prueba: {arbol.score(X_val, y_val)}')"
      ],
      "metadata": {
        "colab": {
          "base_uri": "https://localhost:8080/"
        },
        "id": "BDvu3Q3sOuy3",
        "outputId": "d84facaf-46e5-44fa-e11b-1b2c7336b225"
      },
      "execution_count": 250,
      "outputs": [
        {
          "output_type": "stream",
          "name": "stdout",
          "text": [
            "Precisión de entrenamiento: 0.7571428571428571\n",
            "Precisión de prueba: 0.776595744680851\n"
          ]
        }
      ]
    },
    {
      "cell_type": "code",
      "source": [
        "random_forest.fit(X_train, y_train)\n",
        "print(f'Precisión de entrenamiento: {random_forest.score(X_train, y_train)}')\n",
        "print(f'Precisión de prueba: {random_forest.score(X_val, y_val)}')"
      ],
      "metadata": {
        "colab": {
          "base_uri": "https://localhost:8080/"
        },
        "id": "6XGxQ2VsPakY",
        "outputId": "cb2074be-4e3c-4db4-ef37-0c1a1d7df139"
      },
      "execution_count": 251,
      "outputs": [
        {
          "output_type": "stream",
          "name": "stdout",
          "text": [
            "Precisión de entrenamiento: 0.7321428571428571\n",
            "Precisión de prueba: 0.7127659574468085\n"
          ]
        }
      ]
    },
    {
      "cell_type": "markdown",
      "source": [
        "4 - Para generar la matriz de confusión, primero es necesario importar la función ConfusionMatrixDisplay, usando el código:"
      ],
      "metadata": {
        "id": "HHccnhvYQ_ha"
      }
    },
    {
      "cell_type": "code",
      "source": [
        "from sklearn.metrics import ConfusionMatrixDisplay"
      ],
      "metadata": {
        "id": "q4LJJO8bRAVO"
      },
      "execution_count": 252,
      "outputs": []
    },
    {
      "cell_type": "markdown",
      "source": [
        "Hecho esto, basta con utilizar el método predict() para hacer la predicción de datos con los modelos y luego utilizar los valores reales y previstos en el método from_predictions() de la matriz de confusión:"
      ],
      "metadata": {
        "id": "iK7-3L16RKUd"
      }
    },
    {
      "cell_type": "code",
      "source": [
        "prediccion_arbol = arbol.predict(X_val)\n",
        "ConfusionMatrixDisplay.from_predictions(y_val, prediccion_arbol);"
      ],
      "metadata": {
        "colab": {
          "base_uri": "https://localhost:8080/",
          "height": 449
        },
        "id": "ItB9wdk2RLH-",
        "outputId": "fe5ba85e-0d8d-4143-ca34-fe64061d51d5"
      },
      "execution_count": 253,
      "outputs": [
        {
          "output_type": "display_data",
          "data": {
            "text/plain": [
              "<Figure size 640x480 with 2 Axes>"
            ],
            "image/png": "[encoded data removed]"
          },
          "metadata": {}
        }
      ]
    },
    {
      "cell_type": "code",
      "source": [
        "prediccion_rf = random_forest.predict(X_val)\n",
        "ConfusionMatrixDisplay.from_predictions(y_val, prediccion_rf);"
      ],
      "metadata": {
        "colab": {
          "base_uri": "https://localhost:8080/",
          "height": 449
        },
        "id": "a1GCA_p-SUS5",
        "outputId": "3f4a540c-b48d-440c-a045-d5daf845970f"
      },
      "execution_count": 254,
      "outputs": [
        {
          "output_type": "display_data",
          "data": {
            "text/plain": [
              "<Figure size 640x480 with 2 Axes>"
            ],
            "image/png": "[encoded data removed]"
          },
          "metadata": {}
        }
      ]
    },
    {
      "cell_type": "markdown",
      "source": [
        "1 - Para extraer las métricas de un modelo, primero importaremos las funciones que calculan automáticamente:\n",
        "\n",
        "**accuracy_score**\n",
        "\n",
        "**recall_score**\n",
        "\n",
        "**precision_score**\n",
        "\n",
        "**f1_score**"
      ],
      "metadata": {
        "id": "X2aLn7v2hqRZ"
      }
    },
    {
      "cell_type": "code",
      "source": [
        "from sklearn.metrics import accuracy_score, recall_score, precision_score, f1_score"
      ],
      "metadata": {
        "id": "8V1floUhh2U8"
      },
      "execution_count": 255,
      "outputs": []
    },
    {
      "cell_type": "markdown",
      "source": [
        "Ahora vamos a calcular cada una de las métricas para los dos modelos, utilizando los datos reales y los valores previstos:"
      ],
      "metadata": {
        "id": "iQ3gDtzBh7cQ"
      }
    },
    {
      "cell_type": "code",
      "source": [
        "prediccion_arbol = arbol.predict(X_val)\n",
        "\n",
        "print(f'Precisión (Decision Tree): {accuracy_score(y_val, prediccion_arbol)}')\n",
        "print(f'Recall (Decision Tree): {recall_score(y_val, prediccion_arbol)}')\n",
        "print(f'Precisión (Decision Tree): {precision_score(y_val, prediccion_arbol)}')\n",
        "print(f'F1_Score (Decision Tree): {f1_score(y_val, prediccion_arbol)}')"
      ],
      "metadata": {
        "colab": {
          "base_uri": "https://localhost:8080/"
        },
        "id": "r1JCinYOh_Hh",
        "outputId": "2478bb56-4661-4057-f4c9-c216e1d4d5e9"
      },
      "execution_count": 256,
      "outputs": [
        {
          "output_type": "stream",
          "name": "stdout",
          "text": [
            "Precisión (Decision Tree): 0.776595744680851\n",
            "Recall (Decision Tree): 0.6774193548387096\n",
            "Precisión (Decision Tree): 0.65625\n",
            "F1_Score (Decision Tree): 0.6666666666666666\n"
          ]
        }
      ]
    },
    {
      "cell_type": "code",
      "source": [
        "prediccion_rf = random_forest.predict(X_val)\n",
        "\n",
        "print(f'Precisión (Random Forest): {accuracy_score(y_val, prediccion_rf)}')\n",
        "print(f'Recall (Random Forest): {recall_score(y_val, prediccion_rf)}')\n",
        "print(f'Precisión (Random Forest): {precision_score(y_val, prediccion_rf)}')\n",
        "print(f'F1_Score (Random Forest): {f1_score(y_val, prediccion_rf)}')"
      ],
      "metadata": {
        "id": "RZBWQwjxk9fC",
        "outputId": "1f55af61-f8d1-47b5-a7c1-f7d92116efe7",
        "colab": {
          "base_uri": "https://localhost:8080/"
        }
      },
      "execution_count": 257,
      "outputs": [
        {
          "output_type": "stream",
          "name": "stdout",
          "text": [
            "Precisión (Random Forest): 0.7127659574468085\n",
            "Recall (Random Forest): 0.25806451612903225\n",
            "Precisión (Random Forest): 0.6666666666666666\n",
            "F1_Score (Random Forest): 0.37209302325581395\n"
          ]
        }
      ]
    },
    {
      "cell_type": "markdown",
      "source": [
        "2 - Para obtener el gráfico de la curva ROC y la métrica AUC, primero importaremos las funciones para generar el gráfico y calcular la métrica:"
      ],
      "metadata": {
        "id": "Lnv98HGZlT4w"
      }
    },
    {
      "cell_type": "code",
      "source": [
        "from sklearn.metrics import RocCurveDisplay, roc_auc_score"
      ],
      "metadata": {
        "id": "gXmZa18KlU-A"
      },
      "execution_count": 258,
      "outputs": []
    },
    {
      "cell_type": "markdown",
      "source": [
        "Para presentar los resultados de la curva ROC en el mismo gráfico, podemos almacenar el gráfico en una variable y utilizar el parámetro ax para usar el gráfico ya existente como base:"
      ],
      "metadata": {
        "id": "Qh8qbWuQlYFI"
      }
    },
    {
      "cell_type": "code",
      "source": [
        "curva_roc = RocCurveDisplay.from_predictions(y_val, prediccion_arbol, name = 'Decision Tree')\n",
        "curva_roc = RocCurveDisplay.from_predictions(y_val, prediccion_rf, name = 'Random Forest', ax = curva_roc.ax_)"
      ],
      "metadata": {
        "id": "kTkiuz1_lZGT",
        "outputId": "020da596-5fa1-405b-e55a-151afaff61e3",
        "colab": {
          "base_uri": "https://localhost:8080/",
          "height": 451
        }
      },
      "execution_count": 259,
      "outputs": [
        {
          "output_type": "display_data",
          "data": {
            "text/plain": [
              "<Figure size 640x480 with 1 Axes>"
            ],
            "image/png": "[encoded data removed]"
          },
          "metadata": {}
        }
      ]
    },
    {
      "cell_type": "markdown",
      "source": [
        "Ahora solo falta usar el método roc_auc_score para calcular el AUC de los dos modelos:"
      ],
      "metadata": {
        "id": "07M1-qQWltWQ"
      }
    },
    {
      "cell_type": "code",
      "source": [
        "print(f'AUC (Decision Tree): {roc_auc_score(y_val, prediccion_arbol)}')\n",
        "print(f'AUC (Random Forest): {roc_auc_score(y_val, prediccion_rf)}')"
      ],
      "metadata": {
        "id": "0fFF3CtNlq9i",
        "outputId": "ecf94217-3109-4164-a6df-8f1d6bed0c3d",
        "colab": {
          "base_uri": "https://localhost:8080/"
        }
      },
      "execution_count": 260,
      "outputs": [
        {
          "output_type": "stream",
          "name": "stdout",
          "text": [
            "AUC (Decision Tree): 0.7514080901177674\n",
            "AUC (Random Forest): 0.5972862263184844\n"
          ]
        }
      ]
    },
    {
      "cell_type": "markdown",
      "source": [
        "3 - Para obtener el gráfico de la curva de precisión x recall y la métrica AP, primero importaremos las funciones para generar el gráfico y calcular la métrica:"
      ],
      "metadata": {
        "id": "SH5WWKSnl4LZ"
      }
    },
    {
      "cell_type": "code",
      "source": [
        "from sklearn.metrics import PrecisionRecallDisplay, average_precision_score"
      ],
      "metadata": {
        "id": "NwB1E2vTl7xq"
      },
      "execution_count": 261,
      "outputs": []
    },
    {
      "cell_type": "markdown",
      "source": [
        "Para presentar los resultados de la curva de precisión x recall en el mismo gráfico, podemos almacenar el gráfico en una variable y utilizar el parámetro ax para usar el gráfico ya existente como base:"
      ],
      "metadata": {
        "id": "4rtAoSHDmAXj"
      }
    },
    {
      "cell_type": "code",
      "source": [
        "curva_precision_recall = PrecisionRecallDisplay.from_predictions(y_val, prediccion_arbol, name = 'Decision Tree')\n",
        "curva_precision_recall = PrecisionRecallDisplay.from_predictions(y_val, prediccion_rf, name = 'Random Forest', ax = curva_precision_recall.ax_)"
      ],
      "metadata": {
        "id": "0Yi3wNk4mBLU",
        "outputId": "2f8bbdbd-65e8-4f83-e9a4-e7c15839f58b",
        "colab": {
          "base_uri": "https://localhost:8080/",
          "height": 451
        }
      },
      "execution_count": 262,
      "outputs": [
        {
          "output_type": "display_data",
          "data": {
            "text/plain": [
              "<Figure size 640x480 with 1 Axes>"
            ],
            "image/png": "[encoded data removed]"
          },
          "metadata": {}
        }
      ]
    },
    {
      "cell_type": "markdown",
      "source": [
        "Ahora solo falta usar el método average_precision_score para calcular el AP de los dos modelos:"
      ],
      "metadata": {
        "id": "DHdjaXhCmNEg"
      }
    },
    {
      "cell_type": "code",
      "source": [
        "print(f'AP (Decision Tree): {average_precision_score(y_val, prediccion_arbol)}')\n",
        "print(f'AP (Random Forest): {average_precision_score(y_val, prediccion_rf)}')"
      ],
      "metadata": {
        "id": "rkBJhjf6mQTv",
        "outputId": "6e9d173f-86f5-423f-be71-92defbe4d41d",
        "colab": {
          "base_uri": "https://localhost:8080/"
        }
      },
      "execution_count": 263,
      "outputs": [
        {
          "output_type": "stream",
          "name": "stdout",
          "text": [
            "AP (Decision Tree): 0.5509394303363074\n",
            "AP (Random Forest): 0.41672386181651794\n"
          ]
        }
      ]
    },
    {
      "cell_type": "markdown",
      "source": [
        "4 - Para generar el informe de métricas, primero necesitamos importar la función classification_report:"
      ],
      "metadata": {
        "id": "kYeQXoPRmaRi"
      }
    },
    {
      "cell_type": "code",
      "source": [
        "from sklearn.metrics import classification_report"
      ],
      "metadata": {
        "id": "R8WuSk79mVzT"
      },
      "execution_count": 264,
      "outputs": []
    },
    {
      "cell_type": "markdown",
      "source": [
        "A partir de ahí, podemos generar los informes para cada uno de los modelos, utilizando los valores reales y previstos:"
      ],
      "metadata": {
        "id": "xl2Im-wQme4r"
      }
    },
    {
      "cell_type": "code",
      "source": [
        "print('Decision Tree')\n",
        "print(classification_report(y_val, prediccion_arbol))\n",
        "print('Random Forest')\n",
        "print(classification_report(y_val, prediccion_rf))"
      ],
      "metadata": {
        "id": "S07yvgUtmfly",
        "outputId": "6e591589-657c-44e5-c4ca-936080bad98d",
        "colab": {
          "base_uri": "https://localhost:8080/"
        }
      },
      "execution_count": 265,
      "outputs": [
        {
          "output_type": "stream",
          "name": "stdout",
          "text": [
            "Decision Tree\n",
            "              precision    recall  f1-score   support\n",
            "\n",
            "           0       0.84      0.83      0.83        63\n",
            "           1       0.66      0.68      0.67        31\n",
            "\n",
            "    accuracy                           0.78        94\n",
            "   macro avg       0.75      0.75      0.75        94\n",
            "weighted avg       0.78      0.78      0.78        94\n",
            "\n",
            "Random Forest\n",
            "              precision    recall  f1-score   support\n",
            "\n",
            "           0       0.72      0.94      0.81        63\n",
            "           1       0.67      0.26      0.37        31\n",
            "\n",
            "    accuracy                           0.71        94\n",
            "   macro avg       0.69      0.60      0.59        94\n",
            "weighted avg       0.70      0.71      0.67        94\n",
            "\n"
          ]
        }
      ]
    },
    {
      "cell_type": "markdown",
      "source": [
        "**1 -** En el proceso de validación cruzada, se generan diferentes modelos para cada división realizada en los datos y, en consecuencia, diferentes valores de métricas de evaluación. Para encontrar un resultado promedio de las métricas, se puede construir un intervalo de confianza a partir de la media y la desviación estándar de las métricas. Crea una función para calcular el intervalo de confianza de los resultados de una validación cruzada con 2 desviaciones estándar. La función necesita 2 parámetros: uno para recibir una lista con los resultados de las métricas de la validación cruzada y otro para recibir el nombre del algoritmo. Para generar el intervalo de confianza, extrae la media de los resultados de la lista y la desviación estándar. El intervalo de confianza debe ser presentado en un print con el valor mínimo siendo la media restada de 2 desviaciones estándar y el valor máximo siendo la media sumada de 2 desviaciones estándar. Ejemplo de retorno de la función:\n",
        "\n",
        "**Intervalo de confianza (\"nombre del modelo\"): [\"valor mínimo del intervalo\", \"valor máximo del intervalo\"]**\n",
        "\n",
        "**2 -** KFold es la estrategia más simple de validación cruzada, que permite la división aleatoria de los datos en k partes, siendo utilizada una parte para validación y el resto para entrenamiento del modelo. El proceso de creación de modelos se repite hasta que todas las partes son utilizadas como validación. Sabiendo esto, evalúa el desempeño de los modelos con un intervalo de confianza utilizando la validación cruzada con el método KFold, usando 10 partes, con el uso del parámetro n_splits y mezclando los datos antes de la separación con el parámetro shuffle. Usa el método cross_val_score que no retorna el tiempo de ejecución, solo las métricas.\n",
        "\n",
        "**3 -** En el proceso de división de datos con el KFold aleatorio, puede ser que la proporción de cada categoría de la variable objetivo no se mantenga en cada una de las partes de los datos. Para mantener esa proporción en cada una de las partes, podemos utilizar el KFold estratificado, haciendo que el proceso de validación de datos sea mucho más consistente. Evalúa el desempeño de los modelos con un intervalo de confianza utilizando la validación cruzada (cross_val_score) con el método StratifiedKFold, usando el parámetro n_splits y mezclando los datos antes de la separación con el parámetro shuffle y evaluando la métrica F1-Score usando el parámetro scoring.\n",
        "\n",
        "**4 -** En conjuntos de datos con pocos registros (pocas filas), las estrategias de separación de los datos para validación pueden hacer que quede poca información en los datos de entrenamiento, haciendo que el modelo no comprenda bien el patrón de los datos. El LeaveOneOut es una estrategia para sortear este problema, utilizando solo un registro como dato de validación. Evalúa el desempeño de los modelos utilizando la validación cruzada (cross_val_score) con el método LeaveOneOut.\n",
        "\n",
        "El método LeaveOneOut generará un modelo para cada una de las filas de la base de datos, por lo tanto, la lista de resultados tendrá tasa de acierto solo de 0 o 1 para cada modelo. De esta forma, extrae solo la media del resultado con el método mean(), sin utilizar el intervalo de confianza."
      ],
      "metadata": {
        "id": "VIs_ylHiJDT_"
      }
    },
    {
      "cell_type": "markdown",
      "source": [
        "**Solución para los desafíos**\n",
        "\n",
        "**1 -** Para calcular el intervalo de confianza de los resultados de la validación cruzada, necesitamos la lista de resultados y también el nombre del modelo para presentarlo en la función print. Vamos a crear una función llamada intervalo_conf que recibe dos parámetros: resultados y nombre_modelo.\n",
        "\n",
        "A partir de los resultados, podemos extraer la media y la desviación estándar y generar el intervalo de confianza que está a una distancia de dos desviaciones estándar por debajo y por encima de esa media:"
      ],
      "metadata": {
        "id": "F49V-AvEK0dZ"
      }
    },
    {
      "cell_type": "code",
      "source": [
        "def intervalo_conf(resultados, nombre_modelo):\n",
        "    media = resultados.mean()\n",
        "    desvio_estandar = resultados.std()\n",
        "    print(f'Intervalo de confianza ({nombre_modelo}): [{media - 2*desvio_estandar}, {min(media + 2*desvio_estandar, 1)}]')"
      ],
      "metadata": {
        "id": "BoDpdWpGK3rU"
      },
      "execution_count": 266,
      "outputs": []
    },
    {
      "cell_type": "markdown",
      "source": [
        "**2 -** El primer paso a realizar es importar la función cross_val_score y el método KFold:"
      ],
      "metadata": {
        "id": "5vuNY97OLXlF"
      }
    },
    {
      "cell_type": "code",
      "source": [
        "from sklearn.model_selection import cross_val_score, KFold"
      ],
      "metadata": {
        "id": "qZCIqFRhLYdc"
      },
      "execution_count": 267,
      "outputs": []
    },
    {
      "cell_type": "markdown",
      "source": [
        "Hecho esto, vamos a inicializar los modelos y utilizar el KFold con n_splits=10 para generar una división de 10 partes. Además, utilizaremos el parámetro shuffle=True para barajar los datos antes de realizar la separación.\n",
        "\n",
        "Posteriormente, vamos a usar el método cross_val_score para realizar el procedimiento de validación cruzada con los dos modelos y generar el intervalo de confianza a partir de los resultados:"
      ],
      "metadata": {
        "id": "rvXZo7HJLgpY"
      }
    },
    {
      "cell_type": "code",
      "source": [
        "arbol = DecisionTreeClassifier(max_depth = 3)\n",
        "random_forest = RandomForestClassifier(max_depth = 2)\n",
        "\n",
        "kf = KFold(n_splits = 10, shuffle = True, random_state = 5)\n",
        "\n",
        "resultado_arbol = cross_val_score(arbol, X, y, cv = kf)\n",
        "resultado_rf = cross_val_score(random_forest, X, y, cv = kf)\n",
        "\n",
        "intervalo_conf(resultado_arbol, 'Decision Tree')\n",
        "intervalo_conf(resultado_rf, 'Random Forest')"
      ],
      "metadata": {
        "id": "KKpcbL_eLh9g",
        "outputId": "7b302164-10f2-414e-eca9-4cfd916b1ccc",
        "colab": {
          "base_uri": "https://localhost:8080/"
        }
      },
      "execution_count": 268,
      "outputs": [
        {
          "output_type": "stream",
          "name": "stdout",
          "text": [
            "Intervalo de confianza (Decision Tree): [0.5337181765177326, 0.8684155361422958]\n",
            "Intervalo de confianza (Random Forest): [0.5983136147037935, 0.7752283483118536]\n"
          ]
        }
      ]
    },
    {
      "cell_type": "markdown",
      "source": [
        "**3 -** El primer paso a realizar es importar la función cross_val_score y el método StratifiedKFold:"
      ],
      "metadata": {
        "id": "M00IO5c3MO9q"
      }
    },
    {
      "cell_type": "code",
      "source": [
        "from sklearn.model_selection import cross_val_score, StratifiedKFold"
      ],
      "metadata": {
        "id": "5UInGVNKMP_t"
      },
      "execution_count": 269,
      "outputs": []
    },
    {
      "cell_type": "markdown",
      "source": [
        "El paso sigue de forma muy parecida al desafío anterior, diferenciándose en la elección del método de validación que será estratificado, con el método StratifiedKFold. Además, la métrica de evaluación necesita ser alterada a f1, a partir del parámetro scoring de la función cross_val_score:"
      ],
      "metadata": {
        "id": "PSQiivRiMdy6"
      }
    },
    {
      "cell_type": "code",
      "source": [
        "arbol = DecisionTreeClassifier(max_depth = 3)\n",
        "random_forest = RandomForestClassifier(max_depth = 2)\n",
        "\n",
        "skf = StratifiedKFold(n_splits = 10, shuffle = True, random_state = 5)\n",
        "\n",
        "resultado_arbol = cross_val_score(arbol, X, y, cv = skf, scoring = 'f1')\n",
        "resultado_rf = cross_val_score(random_forest, X, y, cv = skf, scoring =  'f1')\n",
        "\n",
        "intervalo_conf(resultado_arbol, 'Decision Tree')\n",
        "intervalo_conf(resultado_rf, 'Random Forest')"
      ],
      "metadata": {
        "id": "KO_b_WHIMiYz",
        "outputId": "1309c94a-62b8-42b6-fef6-8097f5b12512",
        "colab": {
          "base_uri": "https://localhost:8080/"
        }
      },
      "execution_count": 270,
      "outputs": [
        {
          "output_type": "stream",
          "name": "stdout",
          "text": [
            "Intervalo de confianza (Decision Tree): [0.2681981750463088, 0.7354166140441551]\n",
            "Intervalo de confianza (Random Forest): [0.0995989866418808, 0.5452282329221808]\n"
          ]
        }
      ]
    },
    {
      "cell_type": "markdown",
      "source": [
        "**4 -** El primer paso a realizar es importar la función cross_val_score y el método LeaveOneOut:"
      ],
      "metadata": {
        "id": "8wELyxQbNLlE"
      }
    },
    {
      "cell_type": "code",
      "source": [
        "from sklearn.model_selection import cross_val_score, LeaveOneOut"
      ],
      "metadata": {
        "id": "Ib8KzIN-NMtS"
      },
      "execution_count": 271,
      "outputs": []
    },
    {
      "cell_type": "markdown",
      "source": [
        "La construcción del código se da de forma muy parecida a los desafíos anteriores. Primero, los modelos son inicializados y luego se inicializa el método LeaveOneOut, sin la necesidad de definir parámetros, ya que recorre toda la base de datos hasta que todos los valores han sido elegidos como datos de validación y el resto como datos de entrenamiento.\n",
        "\n",
        "Aquí vamos a calcular solo la media de los resultados, por lo tanto, utilizaremos el método mean() en cada una de las listas de resultados para obtener la precisión media."
      ],
      "metadata": {
        "id": "yvLvQQz6O8pB"
      }
    },
    {
      "cell_type": "code",
      "source": [
        "arbol = DecisionTreeClassifier(max_depth = 3)\n",
        "random_forest = RandomForestClassifier(max_depth = 2)\n",
        "\n",
        "loo = LeaveOneOut()\n",
        "\n",
        "resultado_arbol = cross_val_score(arbol, X, y, cv = loo)\n",
        "resultado_rf = cross_val_score(random_forest, X, y, cv = loo)\n",
        "\n",
        "print(f'Precisión media (Decision Tree): {resultado_arbol.mean()}')\n",
        "print(f'Precisión media (Random Forest):{resultado_rf.mean()}')"
      ],
      "metadata": {
        "id": "aZnXlzRJO-7o",
        "outputId": "1828f9a0-9411-4f9a-e26a-096c14414bfc",
        "colab": {
          "base_uri": "https://localhost:8080/"
        }
      },
      "execution_count": 273,
      "outputs": [
        {
          "output_type": "stream",
          "name": "stdout",
          "text": [
            "Precisión media (Decision Tree): 0.7085561497326203\n",
            "Precisión media (Random Forest):0.6684491978609626\n"
          ]
        }
      ]
    }
  ]
}