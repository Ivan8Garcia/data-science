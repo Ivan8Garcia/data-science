{
  "nbformat": 4,
  "nbformat_minor": 0,
  "metadata": {
    "colab": {
      "provenance": [],
      "mount_file_id": "https://github.com/Ivan8Garcia/data-science/blob/main/numpy.ipynb",
      "authorship_tag": "ABX9TyM/gi84OTGx5SmowAgeVHFO",
      "include_colab_link": true
    },
    "kernelspec": {
      "name": "python3",
      "display_name": "Python 3"
    },
    "language_info": {
      "name": "python"
    }
  },
  "cells": [
    {
      "cell_type": "markdown",
      "metadata": {
        "id": "view-in-github",
        "colab_type": "text"
      },
      "source": [
        "<a href=\"https://colab.research.google.com/github/Ivan8Garcia/data-science/blob/main/numpy.ipynb\" target=\"_parent\"><img src=\"https://colab.research.google.com/assets/colab-badge.svg\" alt=\"Open In Colab\"/></a>"
      ]
    },
    {
      "cell_type": "markdown",
      "source": [
        "crea un array utilizando la función np.arange() que liste todos los años en los que ocurrió o se prevé que ocurra la Copa del Mundo, considerando el intervalo cerrado desde el año 2000 hasta el 2102.\n",
        "\n",
        "Tip: La primera Copa del Mundo ocurrió en el año 2002."
      ],
      "metadata": {
        "id": "sG7L0rUikadH"
      }
    },
    {
      "cell_type": "markdown",
      "source": [
        "primer ejemplo es el correcto, el segundo no logró realizar correctamente hasta el año 2102"
      ],
      "metadata": {
        "id": "dDTwJNs3klCr"
      }
    },
    {
      "cell_type": "code",
      "execution_count": 145,
      "metadata": {
        "colab": {
          "base_uri": "https://localhost:8080/"
        },
        "id": "TJgRdR9mj4Uk",
        "outputId": "2d353569-b737-4481-fc64-08761e646a42"
      },
      "outputs": [
        {
          "output_type": "execute_result",
          "data": {
            "text/plain": [
              "array([2002, 2006, 2010, 2014, 2018, 2022, 2026, 2030, 2034, 2038, 2042,\n",
              "       2046, 2050, 2054, 2058, 2062, 2066, 2070, 2074, 2078, 2082, 2086,\n",
              "       2090, 2094, 2098, 2102])"
            ]
          },
          "metadata": {},
          "execution_count": 145
        }
      ],
      "source": [
        "import numpy as np\n",
        "ano_inicial = 2002\n",
        "ano_final = 2102\n",
        "np.arange(ano_inicial, ano_final + 1, 4)"
      ]
    },
    {
      "cell_type": "code",
      "source": [
        "ano_inicial = 2002\n",
        "ano_final = 2102\n",
        "np.arange(ano_inicial, ano_final, 4)"
      ],
      "metadata": {
        "colab": {
          "base_uri": "https://localhost:8080/"
        },
        "id": "x41L00P_kLjH",
        "outputId": "b48a7bf6-e6fb-4a74-ea98-fabafc5d30fc"
      },
      "execution_count": 146,
      "outputs": [
        {
          "output_type": "execute_result",
          "data": {
            "text/plain": [
              "array([2002, 2006, 2010, 2014, 2018, 2022, 2026, 2030, 2034, 2038, 2042,\n",
              "       2046, 2050, 2054, 2058, 2062, 2066, 2070, 2074, 2078, 2082, 2086,\n",
              "       2090, 2094, 2098])"
            ]
          },
          "metadata": {},
          "execution_count": 146
        }
      ]
    },
    {
      "cell_type": "code",
      "source": [],
      "metadata": {
        "id": "MpF80iB14juv"
      },
      "execution_count": 146,
      "outputs": []
    },
    {
      "cell_type": "code",
      "source": [
        "url= \"https://gist.githubusercontent.com/ahcamachod/41b8a65c5e5b58125401deafb68af460/raw/f84320f69efa1cc3e86e1db054422cfa4869c63e/manzanas.csv\"\n",
        "\n",
        "np.loadtxt(url,delimiter=\",\")"
      ],
      "metadata": {
        "colab": {
          "base_uri": "https://localhost:8080/",
          "height": 339
        },
        "id": "34ckZQR44jYB",
        "outputId": "59495748-966a-436f-d7a4-fd24f46ac3bb"
      },
      "execution_count": 147,
      "outputs": [
        {
          "output_type": "error",
          "ename": "ValueError",
          "evalue": "could not convert string '' to float64 at row 0, column 1.",
          "traceback": [
            "\u001b[0;31m---------------------------------------------------------------------------\u001b[0m",
            "\u001b[0;31mValueError\u001b[0m                                Traceback (most recent call last)",
            "\u001b[0;32m<ipython-input-147-f930fafedc70>\u001b[0m in \u001b[0;36m<cell line: 0>\u001b[0;34m()\u001b[0m\n\u001b[1;32m      1\u001b[0m \u001b[0murl\u001b[0m\u001b[0;34m=\u001b[0m \u001b[0;34m\"https://gist.githubusercontent.com/ahcamachod/41b8a65c5e5b58125401deafb68af460/raw/f84320f69efa1cc3e86e1db054422cfa4869c63e/manzanas.csv\"\u001b[0m\u001b[0;34m\u001b[0m\u001b[0;34m\u001b[0m\u001b[0m\n\u001b[1;32m      2\u001b[0m \u001b[0;34m\u001b[0m\u001b[0m\n\u001b[0;32m----> 3\u001b[0;31m \u001b[0mnp\u001b[0m\u001b[0;34m.\u001b[0m\u001b[0mloadtxt\u001b[0m\u001b[0;34m(\u001b[0m\u001b[0murl\u001b[0m\u001b[0;34m,\u001b[0m\u001b[0mdelimiter\u001b[0m\u001b[0;34m=\u001b[0m\u001b[0;34m\",\"\u001b[0m\u001b[0;34m)\u001b[0m\u001b[0;34m\u001b[0m\u001b[0;34m\u001b[0m\u001b[0m\n\u001b[0m",
            "\u001b[0;32m/usr/local/lib/python3.11/dist-packages/numpy/lib/_npyio_impl.py\u001b[0m in \u001b[0;36mloadtxt\u001b[0;34m(fname, dtype, comments, delimiter, converters, skiprows, usecols, unpack, ndmin, encoding, max_rows, quotechar, like)\u001b[0m\n\u001b[1;32m   1379\u001b[0m         \u001b[0mdelimiter\u001b[0m \u001b[0;34m=\u001b[0m \u001b[0mdelimiter\u001b[0m\u001b[0;34m.\u001b[0m\u001b[0mdecode\u001b[0m\u001b[0;34m(\u001b[0m\u001b[0;34m'latin1'\u001b[0m\u001b[0;34m)\u001b[0m\u001b[0;34m\u001b[0m\u001b[0;34m\u001b[0m\u001b[0m\n\u001b[1;32m   1380\u001b[0m \u001b[0;34m\u001b[0m\u001b[0m\n\u001b[0;32m-> 1381\u001b[0;31m     arr = _read(fname, dtype=dtype, comment=comment, delimiter=delimiter,\n\u001b[0m\u001b[1;32m   1382\u001b[0m                 \u001b[0mconverters\u001b[0m\u001b[0;34m=\u001b[0m\u001b[0mconverters\u001b[0m\u001b[0;34m,\u001b[0m \u001b[0mskiplines\u001b[0m\u001b[0;34m=\u001b[0m\u001b[0mskiprows\u001b[0m\u001b[0;34m,\u001b[0m \u001b[0musecols\u001b[0m\u001b[0;34m=\u001b[0m\u001b[0musecols\u001b[0m\u001b[0;34m,\u001b[0m\u001b[0;34m\u001b[0m\u001b[0;34m\u001b[0m\u001b[0m\n\u001b[1;32m   1383\u001b[0m                 \u001b[0munpack\u001b[0m\u001b[0;34m=\u001b[0m\u001b[0munpack\u001b[0m\u001b[0;34m,\u001b[0m \u001b[0mndmin\u001b[0m\u001b[0;34m=\u001b[0m\u001b[0mndmin\u001b[0m\u001b[0;34m,\u001b[0m \u001b[0mencoding\u001b[0m\u001b[0;34m=\u001b[0m\u001b[0mencoding\u001b[0m\u001b[0;34m,\u001b[0m\u001b[0;34m\u001b[0m\u001b[0;34m\u001b[0m\u001b[0m\n",
            "\u001b[0;32m/usr/local/lib/python3.11/dist-packages/numpy/lib/_npyio_impl.py\u001b[0m in \u001b[0;36m_read\u001b[0;34m(fname, delimiter, comment, quote, imaginary_unit, usecols, skiplines, max_rows, converters, ndmin, unpack, dtype, encoding)\u001b[0m\n\u001b[1;32m   1019\u001b[0m \u001b[0;34m\u001b[0m\u001b[0m\n\u001b[1;32m   1020\u001b[0m         \u001b[0;32mif\u001b[0m \u001b[0mread_dtype_via_object_chunks\u001b[0m \u001b[0;32mis\u001b[0m \u001b[0;32mNone\u001b[0m\u001b[0;34m:\u001b[0m\u001b[0;34m\u001b[0m\u001b[0;34m\u001b[0m\u001b[0m\n\u001b[0;32m-> 1021\u001b[0;31m             arr = _load_from_filelike(\n\u001b[0m\u001b[1;32m   1022\u001b[0m                 \u001b[0mdata\u001b[0m\u001b[0;34m,\u001b[0m \u001b[0mdelimiter\u001b[0m\u001b[0;34m=\u001b[0m\u001b[0mdelimiter\u001b[0m\u001b[0;34m,\u001b[0m \u001b[0mcomment\u001b[0m\u001b[0;34m=\u001b[0m\u001b[0mcomment\u001b[0m\u001b[0;34m,\u001b[0m \u001b[0mquote\u001b[0m\u001b[0;34m=\u001b[0m\u001b[0mquote\u001b[0m\u001b[0;34m,\u001b[0m\u001b[0;34m\u001b[0m\u001b[0;34m\u001b[0m\u001b[0m\n\u001b[1;32m   1023\u001b[0m                 \u001b[0mimaginary_unit\u001b[0m\u001b[0;34m=\u001b[0m\u001b[0mimaginary_unit\u001b[0m\u001b[0;34m,\u001b[0m\u001b[0;34m\u001b[0m\u001b[0;34m\u001b[0m\u001b[0m\n",
            "\u001b[0;31mValueError\u001b[0m: could not convert string '' to float64 at row 0, column 1."
          ]
        }
      ]
    },
    {
      "cell_type": "code",
      "source": [
        "12*7 + 3\n",
        "# 12 meses * 7 años + 3 meses\n",
        "# np.arange(1,88,1)... ¨1¨para saber el numero de columna en el que deseamos iniciar(en realidad comienza en 0), 87+1 para que aparezca el 87, y el ultimo ¨1¨ es el numero de pasos\n",
        "np.arange(1,88,1)"
      ],
      "metadata": {
        "id": "igXmraYc-TqO"
      },
      "execution_count": null,
      "outputs": []
    },
    {
      "cell_type": "code",
      "source": [
        "#primer manera de cargar datos con url proporcionada desde un archivo descargable\n",
        "np.loadtxt(url,delimiter=\",\", usecols= np.arange(1,88,1))"
      ],
      "metadata": {
        "id": "4BPiFUaI-XAd"
      },
      "execution_count": null,
      "outputs": []
    },
    {
      "cell_type": "code",
      "source": [
        "#segunda manera de cargar los datos desde mi drive\n",
        "path = \"/content/drive/MyDrive/manzanas.csv\"\n",
        "\n",
        "datos = np.loadtxt(path,delimiter=\",\", usecols= np.arange(1,88,1))"
      ],
      "metadata": {
        "id": "mkfg4AaYERle"
      },
      "execution_count": null,
      "outputs": []
    },
    {
      "cell_type": "code",
      "source": [],
      "metadata": {
        "id": "2_o6IswELD7d"
      },
      "execution_count": null,
      "outputs": []
    },
    {
      "cell_type": "markdown",
      "source": [
        "EJEMPLOS\n",
        "\n",
        "Aquí tienes un ejemplo de cómo convertir una lista en un array Numpy:"
      ],
      "metadata": {
        "id": "TFYmi-4SLE0Z"
      }
    },
    {
      "cell_type": "code",
      "source": [
        "import numpy as np\n",
        "\n",
        "# crea una lista\n",
        "lista = [1, 2, 3, 4, 5]\n",
        "\n",
        "# convierte la lista en un array Numpy\n",
        "array = np.array(lista)\n",
        "\n",
        "print(\"Lista: \", lista)\n",
        "print(\"Array: \", array)"
      ],
      "metadata": {
        "id": "q9OCuZJ-LDw5"
      },
      "execution_count": null,
      "outputs": []
    },
    {
      "cell_type": "markdown",
      "source": [
        "Ejemplo de la eficiencia de las listas y los arrays, donde se puede ver que es muchisimo mas rapido el conteo con arrays."
      ],
      "metadata": {
        "id": "5RCgEvpkLdB9"
      }
    },
    {
      "cell_type": "code",
      "source": [
        "import numpy as np\n",
        "import time\n",
        "\n",
        "# crea una lista con 1000000 elementos\n",
        "lista = list(range(1000000))\n",
        "\n",
        "# convierte la lista en un array Numpy\n",
        "array = np.array(lista)\n",
        "\n",
        "# comienza a medir el tiempo para la operación con la lista\n",
        "start_time = time.time()\n",
        "\n",
        "# realiza la operación de elevar al cuadrado cada elemento de la lista\n",
        "lista_cuadrado = [i**2 for i in lista]\n",
        "\n",
        "# detiene el cronómetro\n",
        "tiempo_lista = time.time() - start_time\n",
        "\n",
        "# comienza a medir el tiempo para la operación con el array\n",
        "start_time = time.time()\n",
        "\n",
        "# realiza la operación de elevar al cuadrado cada elemento del array\n",
        "array_cuadrado = array**2\n",
        "\n",
        "# detiene el cronómetro\n",
        "tiempo_array = time.time() - start_time\n",
        "\n",
        "print(\"Tiempo de la operación con la lista: \", tiempo_lista)\n",
        "print(\"Tiempo de la operación con el array: \", tiempo_array)"
      ],
      "metadata": {
        "id": "czz6Q6BiLkK4"
      },
      "execution_count": null,
      "outputs": []
    },
    {
      "cell_type": "code",
      "source": [
        "datos.ndim"
      ],
      "metadata": {
        "id": "13gzXqUCnSze",
        "outputId": "9cb8b5f0-b97f-4761-b9d9-67c10d3cb996",
        "colab": {
          "base_uri": "https://localhost:8080/"
        }
      },
      "execution_count": 148,
      "outputs": [
        {
          "output_type": "execute_result",
          "data": {
            "text/plain": [
              "2"
            ]
          },
          "metadata": {},
          "execution_count": 148
        }
      ]
    },
    {
      "cell_type": "code",
      "source": [
        "datos.shape"
      ],
      "metadata": {
        "id": "Yzja9bvunSig",
        "outputId": "f95596ab-eaf9-4aeb-c4e0-9e3e3c77a629",
        "colab": {
          "base_uri": "https://localhost:8080/"
        }
      },
      "execution_count": 149,
      "outputs": [
        {
          "output_type": "execute_result",
          "data": {
            "text/plain": [
              "(100, 2)"
            ]
          },
          "metadata": {},
          "execution_count": 149
        }
      ]
    },
    {
      "cell_type": "code",
      "source": [
        "#En esta funcion vamos a ordenar la info para visualizarla mejor, la primer columna muestra mes y año y a su derecha los precios de las diferentes ciudades\n",
        "datos.T"
      ],
      "metadata": {
        "id": "rQdOVNOloPEt",
        "outputId": "8adf8bf7-f83e-4851-d800-d64795ca8f05",
        "colab": {
          "base_uri": "https://localhost:8080/"
        }
      },
      "execution_count": 150,
      "outputs": [
        {
          "output_type": "execute_result",
          "data": {
            "text/plain": [
              "array([[3.38131403e+02, 4.27973504e+02, 2.42932460e+02, 3.45536045e+02,\n",
              "        4.89890938e+02, 5.09212848e+02, 3.47169779e+02, 3.42536214e+02,\n",
              "        2.40529348e+02, 3.35184970e+02, 4.05161545e+02, 2.40661833e+02,\n",
              "        4.77675083e+02, 4.35127466e+02, 4.11696646e+02, 3.69067153e+02,\n",
              "        3.06246339e+02, 3.09242218e+02, 3.31850569e+02, 3.43387020e+02,\n",
              "        2.50802893e+02, 4.43083241e+02, 2.54772644e+02, 2.67487648e+02,\n",
              "        4.71811909e+02, 3.68294879e+02, 2.82915265e+02, 5.05060155e+02,\n",
              "        2.54088225e+02, 4.84067990e+02, 4.27794174e+02, 3.65257540e+02,\n",
              "        3.20238665e+02, 2.69784103e+02, 3.07713980e+02, 2.73718309e+02,\n",
              "        3.69581219e+02, 2.50695258e+02, 3.98213562e+02, 2.79366025e+02,\n",
              "        2.47347278e+02, 3.79926816e+02, 2.80821434e+02, 5.00294309e+02,\n",
              "        4.44061016e+02, 3.40475900e+02, 2.69288740e+02, 3.86755557e+02,\n",
              "        2.89568153e+02, 4.73220657e+02, 2.84693961e+02, 5.15256274e+02,\n",
              "        3.37361938e+02, 4.40865597e+02, 2.50691225e+02, 3.85577363e+02,\n",
              "        4.71335893e+02, 3.91357759e+02, 2.92797800e+02, 2.63968331e+02,\n",
              "        4.04371497e+02, 2.66527412e+02, 3.07605644e+02, 3.44718539e+02,\n",
              "        2.44081877e+02, 3.88449423e+02, 3.48393654e+02, 3.19032981e+02,\n",
              "        2.66221899e+02, 3.82031687e+02, 3.20802772e+02, 4.17222313e+02,\n",
              "        3.47613958e+02, 3.09251139e+02, 4.30431645e+02, 2.40495018e+02,\n",
              "        5.06230550e+02, 3.60594180e+02, 4.75433235e+02, 3.77750400e+02,\n",
              "        3.70846710e+02, 4.43115409e+02, 4.06225678e+02, 3.01409007e+02,\n",
              "        3.52862353e+02, 3.40434234e+02, 4.36341547e+02, 2.99446652e+02,\n",
              "        2.43238936e+02, 3.32089765e+02, 3.31017447e+02, 4.41989943e+02,\n",
              "        3.29916101e+02, 2.82747154e+02, 4.71631888e+02, 3.86885366e+02,\n",
              "        4.15690665e+02, 4.52371720e+02, 3.37328788e+02, 3.29091180e+02],\n",
              "       [5.50890101e-01, 3.16156508e-01, 8.82705550e-01, 5.30262100e-01,\n",
              "        1.66248049e-01, 1.20587047e-01, 5.25753754e-01, 5.38579765e-01,\n",
              "        8.95654400e-01, 5.59192613e-01, 3.73249332e-01, 8.94921595e-01,\n",
              "        1.95354369e-01, 2.98493606e-01, 3.56764042e-01, 4.66622059e-01,\n",
              "        6.44304907e-01, 6.35137131e-01, 5.68657863e-01, 5.36215428e-01,\n",
              "        8.44303406e-01, 2.78970906e-01, 8.26652627e-01, 7.75227834e-01,\n",
              "        2.09396505e-01, 4.68670568e-01, 7.19730905e-01, 1.30364269e-01,\n",
              "        8.29629759e-01, 1.80097676e-01, 3.16600642e-01, 4.76751451e-01,\n",
              "        6.02256554e-01, 7.66572307e-01, 6.39801567e-01, 7.52096526e-01,\n",
              "        4.65259814e-01, 8.44795661e-01, 3.90902425e-01, 7.31999913e-01,\n",
              "        8.60521182e-01, 4.38063764e-01, 7.26937507e-01, 1.41608978e-01,\n",
              "        2.76579826e-01, 5.44323077e-01, 7.68425880e-01, 4.20325570e-01,\n",
              "        6.97378327e-01, 2.06018131e-01, 7.13676348e-01, 1.06391588e-01,\n",
              "        5.53052912e-01, 2.84400601e-01, 8.44814123e-01, 4.23374694e-01,\n",
              "        2.10538707e-01, 4.08458548e-01, 6.86796655e-01, 7.88822702e-01,\n",
              "        3.75249917e-01, 7.78895918e-01, 6.40133178e-01, 5.32523672e-01,\n",
              "        8.76746951e-01, 4.15949917e-01, 5.22386091e-01, 6.05807290e-01,\n",
              "        7.80069283e-01, 4.32579037e-01, 6.00599539e-01, 3.42909193e-01,\n",
              "        5.24530585e-01, 6.35109977e-01, 3.10075468e-01, 8.95844672e-01,\n",
              "        1.27606725e-01, 4.89236081e-01, 2.00717792e-01, 4.43751578e-01,\n",
              "        4.61910903e-01, 2.78892213e-01, 3.70557347e-01, 6.59322611e-01,\n",
              "        5.10157680e-01, 5.44439488e-01, 2.95506420e-01, 6.65495900e-01,\n",
              "        8.81102932e-01, 5.67976327e-01, 5.71034792e-01, 2.81646590e-01,\n",
              "        5.74184532e-01, 7.20306288e-01, 2.09828427e-01, 4.19989911e-01,\n",
              "        3.46742147e-01, 2.56326112e-01, 5.53146177e-01, 5.76549453e-01]])"
            ]
          },
          "metadata": {},
          "execution_count": 150
        }
      ]
    },
    {
      "cell_type": "code",
      "source": [
        "datos_transpuestos= datos.T\n",
        "datos_transpuestos"
      ],
      "metadata": {
        "id": "Zhq67QHiHL75",
        "outputId": "2f31548c-20d3-4f16-ef0a-d7c3165529c2",
        "colab": {
          "base_uri": "https://localhost:8080/"
        }
      },
      "execution_count": 151,
      "outputs": [
        {
          "output_type": "execute_result",
          "data": {
            "text/plain": [
              "array([[3.38131403e+02, 4.27973504e+02, 2.42932460e+02, 3.45536045e+02,\n",
              "        4.89890938e+02, 5.09212848e+02, 3.47169779e+02, 3.42536214e+02,\n",
              "        2.40529348e+02, 3.35184970e+02, 4.05161545e+02, 2.40661833e+02,\n",
              "        4.77675083e+02, 4.35127466e+02, 4.11696646e+02, 3.69067153e+02,\n",
              "        3.06246339e+02, 3.09242218e+02, 3.31850569e+02, 3.43387020e+02,\n",
              "        2.50802893e+02, 4.43083241e+02, 2.54772644e+02, 2.67487648e+02,\n",
              "        4.71811909e+02, 3.68294879e+02, 2.82915265e+02, 5.05060155e+02,\n",
              "        2.54088225e+02, 4.84067990e+02, 4.27794174e+02, 3.65257540e+02,\n",
              "        3.20238665e+02, 2.69784103e+02, 3.07713980e+02, 2.73718309e+02,\n",
              "        3.69581219e+02, 2.50695258e+02, 3.98213562e+02, 2.79366025e+02,\n",
              "        2.47347278e+02, 3.79926816e+02, 2.80821434e+02, 5.00294309e+02,\n",
              "        4.44061016e+02, 3.40475900e+02, 2.69288740e+02, 3.86755557e+02,\n",
              "        2.89568153e+02, 4.73220657e+02, 2.84693961e+02, 5.15256274e+02,\n",
              "        3.37361938e+02, 4.40865597e+02, 2.50691225e+02, 3.85577363e+02,\n",
              "        4.71335893e+02, 3.91357759e+02, 2.92797800e+02, 2.63968331e+02,\n",
              "        4.04371497e+02, 2.66527412e+02, 3.07605644e+02, 3.44718539e+02,\n",
              "        2.44081877e+02, 3.88449423e+02, 3.48393654e+02, 3.19032981e+02,\n",
              "        2.66221899e+02, 3.82031687e+02, 3.20802772e+02, 4.17222313e+02,\n",
              "        3.47613958e+02, 3.09251139e+02, 4.30431645e+02, 2.40495018e+02,\n",
              "        5.06230550e+02, 3.60594180e+02, 4.75433235e+02, 3.77750400e+02,\n",
              "        3.70846710e+02, 4.43115409e+02, 4.06225678e+02, 3.01409007e+02,\n",
              "        3.52862353e+02, 3.40434234e+02, 4.36341547e+02, 2.99446652e+02,\n",
              "        2.43238936e+02, 3.32089765e+02, 3.31017447e+02, 4.41989943e+02,\n",
              "        3.29916101e+02, 2.82747154e+02, 4.71631888e+02, 3.86885366e+02,\n",
              "        4.15690665e+02, 4.52371720e+02, 3.37328788e+02, 3.29091180e+02],\n",
              "       [5.50890101e-01, 3.16156508e-01, 8.82705550e-01, 5.30262100e-01,\n",
              "        1.66248049e-01, 1.20587047e-01, 5.25753754e-01, 5.38579765e-01,\n",
              "        8.95654400e-01, 5.59192613e-01, 3.73249332e-01, 8.94921595e-01,\n",
              "        1.95354369e-01, 2.98493606e-01, 3.56764042e-01, 4.66622059e-01,\n",
              "        6.44304907e-01, 6.35137131e-01, 5.68657863e-01, 5.36215428e-01,\n",
              "        8.44303406e-01, 2.78970906e-01, 8.26652627e-01, 7.75227834e-01,\n",
              "        2.09396505e-01, 4.68670568e-01, 7.19730905e-01, 1.30364269e-01,\n",
              "        8.29629759e-01, 1.80097676e-01, 3.16600642e-01, 4.76751451e-01,\n",
              "        6.02256554e-01, 7.66572307e-01, 6.39801567e-01, 7.52096526e-01,\n",
              "        4.65259814e-01, 8.44795661e-01, 3.90902425e-01, 7.31999913e-01,\n",
              "        8.60521182e-01, 4.38063764e-01, 7.26937507e-01, 1.41608978e-01,\n",
              "        2.76579826e-01, 5.44323077e-01, 7.68425880e-01, 4.20325570e-01,\n",
              "        6.97378327e-01, 2.06018131e-01, 7.13676348e-01, 1.06391588e-01,\n",
              "        5.53052912e-01, 2.84400601e-01, 8.44814123e-01, 4.23374694e-01,\n",
              "        2.10538707e-01, 4.08458548e-01, 6.86796655e-01, 7.88822702e-01,\n",
              "        3.75249917e-01, 7.78895918e-01, 6.40133178e-01, 5.32523672e-01,\n",
              "        8.76746951e-01, 4.15949917e-01, 5.22386091e-01, 6.05807290e-01,\n",
              "        7.80069283e-01, 4.32579037e-01, 6.00599539e-01, 3.42909193e-01,\n",
              "        5.24530585e-01, 6.35109977e-01, 3.10075468e-01, 8.95844672e-01,\n",
              "        1.27606725e-01, 4.89236081e-01, 2.00717792e-01, 4.43751578e-01,\n",
              "        4.61910903e-01, 2.78892213e-01, 3.70557347e-01, 6.59322611e-01,\n",
              "        5.10157680e-01, 5.44439488e-01, 2.95506420e-01, 6.65495900e-01,\n",
              "        8.81102932e-01, 5.67976327e-01, 5.71034792e-01, 2.81646590e-01,\n",
              "        5.74184532e-01, 7.20306288e-01, 2.09828427e-01, 4.19989911e-01,\n",
              "        3.46742147e-01, 2.56326112e-01, 5.53146177e-01, 5.76549453e-01]])"
            ]
          },
          "metadata": {},
          "execution_count": 151
        }
      ]
    },
    {
      "cell_type": "markdown",
      "source": [
        "VISUALIZACION Y SELECCION\n"
      ],
      "metadata": {
        "id": "NVNyihhQG4zD"
      }
    },
    {
      "cell_type": "code",
      "source": [],
      "metadata": {
        "id": "Z0MyVQW7HKxR"
      },
      "execution_count": 151,
      "outputs": []
    },
    {
      "cell_type": "code",
      "source": [
        "# (:) <-- esto significa que trae a todas las filas, y el 0 representa la primer columna\n",
        "fechas= datos_transpuestos[:,0]\n",
        "fechas"
      ],
      "metadata": {
        "id": "zy86zd4JDtWO",
        "outputId": "f62a6758-4a22-4516-eb6b-0d941c4a2bc3",
        "colab": {
          "base_uri": "https://localhost:8080/"
        }
      },
      "execution_count": 152,
      "outputs": [
        {
          "output_type": "execute_result",
          "data": {
            "text/plain": [
              "array([338.13140273,   0.5508901 ])"
            ]
          },
          "metadata": {},
          "execution_count": 152
        }
      ]
    },
    {
      "cell_type": "code",
      "source": [
        "precios = datos_transpuestos[:,1:]\n",
        "precios"
      ],
      "metadata": {
        "id": "Kuxxhju4JPqg",
        "outputId": "ae23f2dd-0fd1-473e-8f9f-34f10bd11a07",
        "colab": {
          "base_uri": "https://localhost:8080/"
        }
      },
      "execution_count": 153,
      "outputs": [
        {
          "output_type": "execute_result",
          "data": {
            "text/plain": [
              "array([[4.27973504e+02, 2.42932460e+02, 3.45536045e+02, 4.89890938e+02,\n",
              "        5.09212848e+02, 3.47169779e+02, 3.42536214e+02, 2.40529348e+02,\n",
              "        3.35184970e+02, 4.05161545e+02, 2.40661833e+02, 4.77675083e+02,\n",
              "        4.35127466e+02, 4.11696646e+02, 3.69067153e+02, 3.06246339e+02,\n",
              "        3.09242218e+02, 3.31850569e+02, 3.43387020e+02, 2.50802893e+02,\n",
              "        4.43083241e+02, 2.54772644e+02, 2.67487648e+02, 4.71811909e+02,\n",
              "        3.68294879e+02, 2.82915265e+02, 5.05060155e+02, 2.54088225e+02,\n",
              "        4.84067990e+02, 4.27794174e+02, 3.65257540e+02, 3.20238665e+02,\n",
              "        2.69784103e+02, 3.07713980e+02, 2.73718309e+02, 3.69581219e+02,\n",
              "        2.50695258e+02, 3.98213562e+02, 2.79366025e+02, 2.47347278e+02,\n",
              "        3.79926816e+02, 2.80821434e+02, 5.00294309e+02, 4.44061016e+02,\n",
              "        3.40475900e+02, 2.69288740e+02, 3.86755557e+02, 2.89568153e+02,\n",
              "        4.73220657e+02, 2.84693961e+02, 5.15256274e+02, 3.37361938e+02,\n",
              "        4.40865597e+02, 2.50691225e+02, 3.85577363e+02, 4.71335893e+02,\n",
              "        3.91357759e+02, 2.92797800e+02, 2.63968331e+02, 4.04371497e+02,\n",
              "        2.66527412e+02, 3.07605644e+02, 3.44718539e+02, 2.44081877e+02,\n",
              "        3.88449423e+02, 3.48393654e+02, 3.19032981e+02, 2.66221899e+02,\n",
              "        3.82031687e+02, 3.20802772e+02, 4.17222313e+02, 3.47613958e+02,\n",
              "        3.09251139e+02, 4.30431645e+02, 2.40495018e+02, 5.06230550e+02,\n",
              "        3.60594180e+02, 4.75433235e+02, 3.77750400e+02, 3.70846710e+02,\n",
              "        4.43115409e+02, 4.06225678e+02, 3.01409007e+02, 3.52862353e+02,\n",
              "        3.40434234e+02, 4.36341547e+02, 2.99446652e+02, 2.43238936e+02,\n",
              "        3.32089765e+02, 3.31017447e+02, 4.41989943e+02, 3.29916101e+02,\n",
              "        2.82747154e+02, 4.71631888e+02, 3.86885366e+02, 4.15690665e+02,\n",
              "        4.52371720e+02, 3.37328788e+02, 3.29091180e+02],\n",
              "       [3.16156508e-01, 8.82705550e-01, 5.30262100e-01, 1.66248049e-01,\n",
              "        1.20587047e-01, 5.25753754e-01, 5.38579765e-01, 8.95654400e-01,\n",
              "        5.59192613e-01, 3.73249332e-01, 8.94921595e-01, 1.95354369e-01,\n",
              "        2.98493606e-01, 3.56764042e-01, 4.66622059e-01, 6.44304907e-01,\n",
              "        6.35137131e-01, 5.68657863e-01, 5.36215428e-01, 8.44303406e-01,\n",
              "        2.78970906e-01, 8.26652627e-01, 7.75227834e-01, 2.09396505e-01,\n",
              "        4.68670568e-01, 7.19730905e-01, 1.30364269e-01, 8.29629759e-01,\n",
              "        1.80097676e-01, 3.16600642e-01, 4.76751451e-01, 6.02256554e-01,\n",
              "        7.66572307e-01, 6.39801567e-01, 7.52096526e-01, 4.65259814e-01,\n",
              "        8.44795661e-01, 3.90902425e-01, 7.31999913e-01, 8.60521182e-01,\n",
              "        4.38063764e-01, 7.26937507e-01, 1.41608978e-01, 2.76579826e-01,\n",
              "        5.44323077e-01, 7.68425880e-01, 4.20325570e-01, 6.97378327e-01,\n",
              "        2.06018131e-01, 7.13676348e-01, 1.06391588e-01, 5.53052912e-01,\n",
              "        2.84400601e-01, 8.44814123e-01, 4.23374694e-01, 2.10538707e-01,\n",
              "        4.08458548e-01, 6.86796655e-01, 7.88822702e-01, 3.75249917e-01,\n",
              "        7.78895918e-01, 6.40133178e-01, 5.32523672e-01, 8.76746951e-01,\n",
              "        4.15949917e-01, 5.22386091e-01, 6.05807290e-01, 7.80069283e-01,\n",
              "        4.32579037e-01, 6.00599539e-01, 3.42909193e-01, 5.24530585e-01,\n",
              "        6.35109977e-01, 3.10075468e-01, 8.95844672e-01, 1.27606725e-01,\n",
              "        4.89236081e-01, 2.00717792e-01, 4.43751578e-01, 4.61910903e-01,\n",
              "        2.78892213e-01, 3.70557347e-01, 6.59322611e-01, 5.10157680e-01,\n",
              "        5.44439488e-01, 2.95506420e-01, 6.65495900e-01, 8.81102932e-01,\n",
              "        5.67976327e-01, 5.71034792e-01, 2.81646590e-01, 5.74184532e-01,\n",
              "        7.20306288e-01, 2.09828427e-01, 4.19989911e-01, 3.46742147e-01,\n",
              "        2.56326112e-01, 5.53146177e-01, 5.76549453e-01]])"
            ]
          },
          "metadata": {},
          "execution_count": 153
        }
      ]
    },
    {
      "cell_type": "code",
      "source": [
        "import matplotlib.pyplot as plt\n",
        "fechas = np.arange(1,88,1)\n",
        "plt.plot(fechas,precios[:,0])"
      ],
      "metadata": {
        "id": "kq9ZHefwKkYM",
        "outputId": "bda3cc7a-858a-44bd-cdbc-f6ebc2e08a1d",
        "colab": {
          "base_uri": "https://localhost:8080/",
          "height": 739
        }
      },
      "execution_count": 173,
      "outputs": [
        {
          "output_type": "error",
          "ename": "ValueError",
          "evalue": "x and y must have same first dimension, but have shapes (87,) and (2,)",
          "traceback": [
            "\u001b[0;31m---------------------------------------------------------------------------\u001b[0m",
            "\u001b[0;31mValueError\u001b[0m                                Traceback (most recent call last)",
            "\u001b[0;32m<ipython-input-173-8abe202b065b>\u001b[0m in \u001b[0;36m<cell line: 0>\u001b[0;34m()\u001b[0m\n\u001b[1;32m      1\u001b[0m \u001b[0;32mimport\u001b[0m \u001b[0mmatplotlib\u001b[0m\u001b[0;34m.\u001b[0m\u001b[0mpyplot\u001b[0m \u001b[0;32mas\u001b[0m \u001b[0mplt\u001b[0m\u001b[0;34m\u001b[0m\u001b[0;34m\u001b[0m\u001b[0m\n\u001b[1;32m      2\u001b[0m \u001b[0mfechas\u001b[0m \u001b[0;34m=\u001b[0m \u001b[0mnp\u001b[0m\u001b[0;34m.\u001b[0m\u001b[0marange\u001b[0m\u001b[0;34m(\u001b[0m\u001b[0;36m1\u001b[0m\u001b[0;34m,\u001b[0m\u001b[0;36m88\u001b[0m\u001b[0;34m,\u001b[0m\u001b[0;36m1\u001b[0m\u001b[0;34m)\u001b[0m\u001b[0;34m\u001b[0m\u001b[0;34m\u001b[0m\u001b[0m\n\u001b[0;32m----> 3\u001b[0;31m \u001b[0mplt\u001b[0m\u001b[0;34m.\u001b[0m\u001b[0mplot\u001b[0m\u001b[0;34m(\u001b[0m\u001b[0mfechas\u001b[0m\u001b[0;34m,\u001b[0m\u001b[0mprecios\u001b[0m\u001b[0;34m[\u001b[0m\u001b[0;34m:\u001b[0m\u001b[0;34m,\u001b[0m\u001b[0;36m0\u001b[0m\u001b[0;34m]\u001b[0m\u001b[0;34m)\u001b[0m\u001b[0;34m\u001b[0m\u001b[0;34m\u001b[0m\u001b[0m\n\u001b[0m",
            "\u001b[0;32m/usr/local/lib/python3.11/dist-packages/matplotlib/pyplot.py\u001b[0m in \u001b[0;36mplot\u001b[0;34m(scalex, scaley, data, *args, **kwargs)\u001b[0m\n\u001b[1;32m   3827\u001b[0m     \u001b[0;34m**\u001b[0m\u001b[0mkwargs\u001b[0m\u001b[0;34m,\u001b[0m\u001b[0;34m\u001b[0m\u001b[0;34m\u001b[0m\u001b[0m\n\u001b[1;32m   3828\u001b[0m ) -> list[Line2D]:\n\u001b[0;32m-> 3829\u001b[0;31m     return gca().plot(\n\u001b[0m\u001b[1;32m   3830\u001b[0m         \u001b[0;34m*\u001b[0m\u001b[0margs\u001b[0m\u001b[0;34m,\u001b[0m\u001b[0;34m\u001b[0m\u001b[0;34m\u001b[0m\u001b[0m\n\u001b[1;32m   3831\u001b[0m         \u001b[0mscalex\u001b[0m\u001b[0;34m=\u001b[0m\u001b[0mscalex\u001b[0m\u001b[0;34m,\u001b[0m\u001b[0;34m\u001b[0m\u001b[0;34m\u001b[0m\u001b[0m\n",
            "\u001b[0;32m/usr/local/lib/python3.11/dist-packages/matplotlib/axes/_axes.py\u001b[0m in \u001b[0;36mplot\u001b[0;34m(self, scalex, scaley, data, *args, **kwargs)\u001b[0m\n\u001b[1;32m   1775\u001b[0m         \"\"\"\n\u001b[1;32m   1776\u001b[0m         \u001b[0mkwargs\u001b[0m \u001b[0;34m=\u001b[0m \u001b[0mcbook\u001b[0m\u001b[0;34m.\u001b[0m\u001b[0mnormalize_kwargs\u001b[0m\u001b[0;34m(\u001b[0m\u001b[0mkwargs\u001b[0m\u001b[0;34m,\u001b[0m \u001b[0mmlines\u001b[0m\u001b[0;34m.\u001b[0m\u001b[0mLine2D\u001b[0m\u001b[0;34m)\u001b[0m\u001b[0;34m\u001b[0m\u001b[0;34m\u001b[0m\u001b[0m\n\u001b[0;32m-> 1777\u001b[0;31m         \u001b[0mlines\u001b[0m \u001b[0;34m=\u001b[0m \u001b[0;34m[\u001b[0m\u001b[0;34m*\u001b[0m\u001b[0mself\u001b[0m\u001b[0;34m.\u001b[0m\u001b[0m_get_lines\u001b[0m\u001b[0;34m(\u001b[0m\u001b[0mself\u001b[0m\u001b[0;34m,\u001b[0m \u001b[0;34m*\u001b[0m\u001b[0margs\u001b[0m\u001b[0;34m,\u001b[0m \u001b[0mdata\u001b[0m\u001b[0;34m=\u001b[0m\u001b[0mdata\u001b[0m\u001b[0;34m,\u001b[0m \u001b[0;34m**\u001b[0m\u001b[0mkwargs\u001b[0m\u001b[0;34m)\u001b[0m\u001b[0;34m]\u001b[0m\u001b[0;34m\u001b[0m\u001b[0;34m\u001b[0m\u001b[0m\n\u001b[0m\u001b[1;32m   1778\u001b[0m         \u001b[0;32mfor\u001b[0m \u001b[0mline\u001b[0m \u001b[0;32min\u001b[0m \u001b[0mlines\u001b[0m\u001b[0;34m:\u001b[0m\u001b[0;34m\u001b[0m\u001b[0;34m\u001b[0m\u001b[0m\n\u001b[1;32m   1779\u001b[0m             \u001b[0mself\u001b[0m\u001b[0;34m.\u001b[0m\u001b[0madd_line\u001b[0m\u001b[0;34m(\u001b[0m\u001b[0mline\u001b[0m\u001b[0;34m)\u001b[0m\u001b[0;34m\u001b[0m\u001b[0;34m\u001b[0m\u001b[0m\n",
            "\u001b[0;32m/usr/local/lib/python3.11/dist-packages/matplotlib/axes/_base.py\u001b[0m in \u001b[0;36m__call__\u001b[0;34m(self, axes, data, return_kwargs, *args, **kwargs)\u001b[0m\n\u001b[1;32m    295\u001b[0m                 \u001b[0mthis\u001b[0m \u001b[0;34m+=\u001b[0m \u001b[0margs\u001b[0m\u001b[0;34m[\u001b[0m\u001b[0;36m0\u001b[0m\u001b[0;34m]\u001b[0m\u001b[0;34m,\u001b[0m\u001b[0;34m\u001b[0m\u001b[0;34m\u001b[0m\u001b[0m\n\u001b[1;32m    296\u001b[0m                 \u001b[0margs\u001b[0m \u001b[0;34m=\u001b[0m \u001b[0margs\u001b[0m\u001b[0;34m[\u001b[0m\u001b[0;36m1\u001b[0m\u001b[0;34m:\u001b[0m\u001b[0;34m]\u001b[0m\u001b[0;34m\u001b[0m\u001b[0;34m\u001b[0m\u001b[0m\n\u001b[0;32m--> 297\u001b[0;31m             yield from self._plot_args(\n\u001b[0m\u001b[1;32m    298\u001b[0m                 \u001b[0maxes\u001b[0m\u001b[0;34m,\u001b[0m \u001b[0mthis\u001b[0m\u001b[0;34m,\u001b[0m \u001b[0mkwargs\u001b[0m\u001b[0;34m,\u001b[0m \u001b[0mambiguous_fmt_datakey\u001b[0m\u001b[0;34m=\u001b[0m\u001b[0mambiguous_fmt_datakey\u001b[0m\u001b[0;34m,\u001b[0m\u001b[0;34m\u001b[0m\u001b[0;34m\u001b[0m\u001b[0m\n\u001b[1;32m    299\u001b[0m                 \u001b[0mreturn_kwargs\u001b[0m\u001b[0;34m=\u001b[0m\u001b[0mreturn_kwargs\u001b[0m\u001b[0;34m\u001b[0m\u001b[0;34m\u001b[0m\u001b[0m\n",
            "\u001b[0;32m/usr/local/lib/python3.11/dist-packages/matplotlib/axes/_base.py\u001b[0m in \u001b[0;36m_plot_args\u001b[0;34m(self, axes, tup, kwargs, return_kwargs, ambiguous_fmt_datakey)\u001b[0m\n\u001b[1;32m    492\u001b[0m \u001b[0;34m\u001b[0m\u001b[0m\n\u001b[1;32m    493\u001b[0m         \u001b[0;32mif\u001b[0m \u001b[0mx\u001b[0m\u001b[0;34m.\u001b[0m\u001b[0mshape\u001b[0m\u001b[0;34m[\u001b[0m\u001b[0;36m0\u001b[0m\u001b[0;34m]\u001b[0m \u001b[0;34m!=\u001b[0m \u001b[0my\u001b[0m\u001b[0;34m.\u001b[0m\u001b[0mshape\u001b[0m\u001b[0;34m[\u001b[0m\u001b[0;36m0\u001b[0m\u001b[0;34m]\u001b[0m\u001b[0;34m:\u001b[0m\u001b[0;34m\u001b[0m\u001b[0;34m\u001b[0m\u001b[0m\n\u001b[0;32m--> 494\u001b[0;31m             raise ValueError(f\"x and y must have same first dimension, but \"\n\u001b[0m\u001b[1;32m    495\u001b[0m                              f\"have shapes {x.shape} and {y.shape}\")\n\u001b[1;32m    496\u001b[0m         \u001b[0;32mif\u001b[0m \u001b[0mx\u001b[0m\u001b[0;34m.\u001b[0m\u001b[0mndim\u001b[0m \u001b[0;34m>\u001b[0m \u001b[0;36m2\u001b[0m \u001b[0;32mor\u001b[0m \u001b[0my\u001b[0m\u001b[0;34m.\u001b[0m\u001b[0mndim\u001b[0m \u001b[0;34m>\u001b[0m \u001b[0;36m2\u001b[0m\u001b[0;34m:\u001b[0m\u001b[0;34m\u001b[0m\u001b[0;34m\u001b[0m\u001b[0m\n",
            "\u001b[0;31mValueError\u001b[0m: x and y must have same first dimension, but have shapes (87,) and (2,)"
          ]
        },
        {
          "output_type": "display_data",
          "data": {
            "text/plain": [
              "<Figure size 640x480 with 1 Axes>"
            ],
            "image/png": "[encoded data removed]"
          },
          "metadata": {}
        }
      ]
    },
    {
      "cell_type": "code",
      "source": [
        "moscu = precios[:0]\n",
        "kaliningrado = precios[:,1]\n",
        "petersburgo = precios[:,2]\n",
        "krasnodar = precios[:,3]\n",
        "ekaterimburgo= precios[:,4]"
      ],
      "metadata": {
        "id": "m3JhfhWhKkNi"
      },
      "execution_count": 174,
      "outputs": []
    },
    {
      "cell_type": "code",
      "source": [
        "plt.plot(fechas, kaliningrado)"
      ],
      "metadata": {
        "id": "wGLRUurJKkFh",
        "outputId": "b356f71e-d1b4-49cf-d034-32656805c421",
        "colab": {
          "base_uri": "https://localhost:8080/",
          "height": 705
        }
      },
      "execution_count": 175,
      "outputs": [
        {
          "output_type": "error",
          "ename": "ValueError",
          "evalue": "x and y must have same first dimension, but have shapes (87,) and (2,)",
          "traceback": [
            "\u001b[0;31m---------------------------------------------------------------------------\u001b[0m",
            "\u001b[0;31mValueError\u001b[0m                                Traceback (most recent call last)",
            "\u001b[0;32m<ipython-input-175-2dba28e73c7f>\u001b[0m in \u001b[0;36m<cell line: 0>\u001b[0;34m()\u001b[0m\n\u001b[0;32m----> 1\u001b[0;31m \u001b[0mplt\u001b[0m\u001b[0;34m.\u001b[0m\u001b[0mplot\u001b[0m\u001b[0;34m(\u001b[0m\u001b[0mfechas\u001b[0m\u001b[0;34m,\u001b[0m \u001b[0mkaliningrado\u001b[0m\u001b[0;34m)\u001b[0m\u001b[0;34m\u001b[0m\u001b[0;34m\u001b[0m\u001b[0m\n\u001b[0m",
            "\u001b[0;32m/usr/local/lib/python3.11/dist-packages/matplotlib/pyplot.py\u001b[0m in \u001b[0;36mplot\u001b[0;34m(scalex, scaley, data, *args, **kwargs)\u001b[0m\n\u001b[1;32m   3827\u001b[0m     \u001b[0;34m**\u001b[0m\u001b[0mkwargs\u001b[0m\u001b[0;34m,\u001b[0m\u001b[0;34m\u001b[0m\u001b[0;34m\u001b[0m\u001b[0m\n\u001b[1;32m   3828\u001b[0m ) -> list[Line2D]:\n\u001b[0;32m-> 3829\u001b[0;31m     return gca().plot(\n\u001b[0m\u001b[1;32m   3830\u001b[0m         \u001b[0;34m*\u001b[0m\u001b[0margs\u001b[0m\u001b[0;34m,\u001b[0m\u001b[0;34m\u001b[0m\u001b[0;34m\u001b[0m\u001b[0m\n\u001b[1;32m   3831\u001b[0m         \u001b[0mscalex\u001b[0m\u001b[0;34m=\u001b[0m\u001b[0mscalex\u001b[0m\u001b[0;34m,\u001b[0m\u001b[0;34m\u001b[0m\u001b[0;34m\u001b[0m\u001b[0m\n",
            "\u001b[0;32m/usr/local/lib/python3.11/dist-packages/matplotlib/axes/_axes.py\u001b[0m in \u001b[0;36mplot\u001b[0;34m(self, scalex, scaley, data, *args, **kwargs)\u001b[0m\n\u001b[1;32m   1775\u001b[0m         \"\"\"\n\u001b[1;32m   1776\u001b[0m         \u001b[0mkwargs\u001b[0m \u001b[0;34m=\u001b[0m \u001b[0mcbook\u001b[0m\u001b[0;34m.\u001b[0m\u001b[0mnormalize_kwargs\u001b[0m\u001b[0;34m(\u001b[0m\u001b[0mkwargs\u001b[0m\u001b[0;34m,\u001b[0m \u001b[0mmlines\u001b[0m\u001b[0;34m.\u001b[0m\u001b[0mLine2D\u001b[0m\u001b[0;34m)\u001b[0m\u001b[0;34m\u001b[0m\u001b[0;34m\u001b[0m\u001b[0m\n\u001b[0;32m-> 1777\u001b[0;31m         \u001b[0mlines\u001b[0m \u001b[0;34m=\u001b[0m \u001b[0;34m[\u001b[0m\u001b[0;34m*\u001b[0m\u001b[0mself\u001b[0m\u001b[0;34m.\u001b[0m\u001b[0m_get_lines\u001b[0m\u001b[0;34m(\u001b[0m\u001b[0mself\u001b[0m\u001b[0;34m,\u001b[0m \u001b[0;34m*\u001b[0m\u001b[0margs\u001b[0m\u001b[0;34m,\u001b[0m \u001b[0mdata\u001b[0m\u001b[0;34m=\u001b[0m\u001b[0mdata\u001b[0m\u001b[0;34m,\u001b[0m \u001b[0;34m**\u001b[0m\u001b[0mkwargs\u001b[0m\u001b[0;34m)\u001b[0m\u001b[0;34m]\u001b[0m\u001b[0;34m\u001b[0m\u001b[0;34m\u001b[0m\u001b[0m\n\u001b[0m\u001b[1;32m   1778\u001b[0m         \u001b[0;32mfor\u001b[0m \u001b[0mline\u001b[0m \u001b[0;32min\u001b[0m \u001b[0mlines\u001b[0m\u001b[0;34m:\u001b[0m\u001b[0;34m\u001b[0m\u001b[0;34m\u001b[0m\u001b[0m\n\u001b[1;32m   1779\u001b[0m             \u001b[0mself\u001b[0m\u001b[0;34m.\u001b[0m\u001b[0madd_line\u001b[0m\u001b[0;34m(\u001b[0m\u001b[0mline\u001b[0m\u001b[0;34m)\u001b[0m\u001b[0;34m\u001b[0m\u001b[0;34m\u001b[0m\u001b[0m\n",
            "\u001b[0;32m/usr/local/lib/python3.11/dist-packages/matplotlib/axes/_base.py\u001b[0m in \u001b[0;36m__call__\u001b[0;34m(self, axes, data, return_kwargs, *args, **kwargs)\u001b[0m\n\u001b[1;32m    295\u001b[0m                 \u001b[0mthis\u001b[0m \u001b[0;34m+=\u001b[0m \u001b[0margs\u001b[0m\u001b[0;34m[\u001b[0m\u001b[0;36m0\u001b[0m\u001b[0;34m]\u001b[0m\u001b[0;34m,\u001b[0m\u001b[0;34m\u001b[0m\u001b[0;34m\u001b[0m\u001b[0m\n\u001b[1;32m    296\u001b[0m                 \u001b[0margs\u001b[0m \u001b[0;34m=\u001b[0m \u001b[0margs\u001b[0m\u001b[0;34m[\u001b[0m\u001b[0;36m1\u001b[0m\u001b[0;34m:\u001b[0m\u001b[0;34m]\u001b[0m\u001b[0;34m\u001b[0m\u001b[0;34m\u001b[0m\u001b[0m\n\u001b[0;32m--> 297\u001b[0;31m             yield from self._plot_args(\n\u001b[0m\u001b[1;32m    298\u001b[0m                 \u001b[0maxes\u001b[0m\u001b[0;34m,\u001b[0m \u001b[0mthis\u001b[0m\u001b[0;34m,\u001b[0m \u001b[0mkwargs\u001b[0m\u001b[0;34m,\u001b[0m \u001b[0mambiguous_fmt_datakey\u001b[0m\u001b[0;34m=\u001b[0m\u001b[0mambiguous_fmt_datakey\u001b[0m\u001b[0;34m,\u001b[0m\u001b[0;34m\u001b[0m\u001b[0;34m\u001b[0m\u001b[0m\n\u001b[1;32m    299\u001b[0m                 \u001b[0mreturn_kwargs\u001b[0m\u001b[0;34m=\u001b[0m\u001b[0mreturn_kwargs\u001b[0m\u001b[0;34m\u001b[0m\u001b[0;34m\u001b[0m\u001b[0m\n",
            "\u001b[0;32m/usr/local/lib/python3.11/dist-packages/matplotlib/axes/_base.py\u001b[0m in \u001b[0;36m_plot_args\u001b[0;34m(self, axes, tup, kwargs, return_kwargs, ambiguous_fmt_datakey)\u001b[0m\n\u001b[1;32m    492\u001b[0m \u001b[0;34m\u001b[0m\u001b[0m\n\u001b[1;32m    493\u001b[0m         \u001b[0;32mif\u001b[0m \u001b[0mx\u001b[0m\u001b[0;34m.\u001b[0m\u001b[0mshape\u001b[0m\u001b[0;34m[\u001b[0m\u001b[0;36m0\u001b[0m\u001b[0;34m]\u001b[0m \u001b[0;34m!=\u001b[0m \u001b[0my\u001b[0m\u001b[0;34m.\u001b[0m\u001b[0mshape\u001b[0m\u001b[0;34m[\u001b[0m\u001b[0;36m0\u001b[0m\u001b[0;34m]\u001b[0m\u001b[0;34m:\u001b[0m\u001b[0;34m\u001b[0m\u001b[0;34m\u001b[0m\u001b[0m\n\u001b[0;32m--> 494\u001b[0;31m             raise ValueError(f\"x and y must have same first dimension, but \"\n\u001b[0m\u001b[1;32m    495\u001b[0m                              f\"have shapes {x.shape} and {y.shape}\")\n\u001b[1;32m    496\u001b[0m         \u001b[0;32mif\u001b[0m \u001b[0mx\u001b[0m\u001b[0;34m.\u001b[0m\u001b[0mndim\u001b[0m \u001b[0;34m>\u001b[0m \u001b[0;36m2\u001b[0m \u001b[0;32mor\u001b[0m \u001b[0my\u001b[0m\u001b[0;34m.\u001b[0m\u001b[0mndim\u001b[0m \u001b[0;34m>\u001b[0m \u001b[0;36m2\u001b[0m\u001b[0;34m:\u001b[0m\u001b[0;34m\u001b[0m\u001b[0;34m\u001b[0m\u001b[0m\n",
            "\u001b[0;31mValueError\u001b[0m: x and y must have same first dimension, but have shapes (87,) and (2,)"
          ]
        },
        {
          "output_type": "display_data",
          "data": {
            "text/plain": [
              "<Figure size 640x480 with 1 Axes>"
            ],
            "image/png": "[encoded data removed]"
          },
          "metadata": {}
        }
      ]
    },
    {
      "cell_type": "markdown",
      "source": [
        "COMPARACION ENTRE ARRAYS"
      ],
      "metadata": {
        "id": "urVrsIl3RwUI"
      }
    },
    {
      "cell_type": "code",
      "source": [
        "Moscu = np.arange(1,88,1)"
      ],
      "metadata": {
        "id": "3gNOTH-8XOGC"
      },
      "execution_count": null,
      "outputs": []
    },
    {
      "cell_type": "code",
      "source": [
        "Moscu.shape"
      ],
      "metadata": {
        "id": "Zl5ecptvR0KG"
      },
      "execution_count": null,
      "outputs": []
    },
    {
      "cell_type": "code",
      "source": [
        "moscu_1= Moscu[0:12]\n",
        "moscu_2= Moscu[12:24]\n",
        "moscu_3= Moscu[24:36]\n",
        "moscu_4= Moscu[36:48]"
      ],
      "metadata": {
        "id": "TH9TvHNKR1CV"
      },
      "execution_count": null,
      "outputs": []
    },
    {
      "cell_type": "code",
      "source": [
        "plt.plot(np.arange(1,13,1),moscu_1)\n",
        "plt.plot(np.arange(1,13,1),moscu_2)\n",
        "plt.plot(np.arange(1,13,1),moscu_3)\n",
        "plt.plot(np.arange(1,13,1),moscu_4)\n",
        "plt.legend([\"2013\",\"2014\",\"2015\",\"2016\"])"
      ],
      "metadata": {
        "id": "WAiXtHUxR0HY"
      },
      "execution_count": null,
      "outputs": []
    },
    {
      "cell_type": "markdown",
      "source": [
        "TRATAMIENTO DE NAN"
      ],
      "metadata": {
        "id": "2uyn-kVZZc1R"
      }
    },
    {
      "cell_type": "code",
      "source": [
        "np.mean(Moscu)"
      ],
      "metadata": {
        "id": "gLd1dTR_Rzsj"
      },
      "execution_count": null,
      "outputs": []
    },
    {
      "cell_type": "code",
      "source": [
        "np.mean(kaliningrado)"
      ],
      "metadata": {
        "id": "oGFlWgtwZb8i"
      },
      "execution_count": null,
      "outputs": []
    },
    {
      "cell_type": "code",
      "source": [
        "plt.plot(fechas,kaliningrado)"
      ],
      "metadata": {
        "id": "a2E7XSs9Zbz8"
      },
      "execution_count": null,
      "outputs": []
    },
    {
      "cell_type": "code",
      "source": [
        "kaliningrado"
      ],
      "metadata": {
        "id": "Vz6vn8ZkZblx"
      },
      "execution_count": null,
      "outputs": []
    },
    {
      "cell_type": "code",
      "source": [
        "# NAN significada \"not a number\", la funcion de abajo es para saber si existen NAN\n",
        "np.isnan(kaliningrado)"
      ],
      "metadata": {
        "id": "LHqiUjvkaZ96"
      },
      "execution_count": null,
      "outputs": []
    },
    {
      "cell_type": "code",
      "source": [
        "#esta funcion hace una suma y nos dice la cantidad de NAN que existen, en este caso solo hay uno\n",
        "np.sum(np.isnan(kaliningrado))"
      ],
      "metadata": {
        "id": "Si1Y7gA4aZ4s"
      },
      "execution_count": null,
      "outputs": []
    },
    {
      "cell_type": "code",
      "source": [
        "#aqui estamos sumando la posicion numero 3 y 5 para dividirla entre 2 para poder sacar un promedio y asignarlo a la posicion donde se encuentra el NAN\n",
        "kaliningrado[4] =(kaliningrado[3] + kaliningrado[5])/2\n",
        "kaliningrado [4]"
      ],
      "metadata": {
        "id": "MLR564PEaZwg"
      },
      "execution_count": null,
      "outputs": []
    },
    {
      "cell_type": "code",
      "source": [
        "#despues de haber encontrado el promedio y de asignarlo a un espacio de memoria que es la 4 posicion, volvemos a hacer esta funcion\n",
        "#para saber si siguen existiendo NAN\n",
        "\n",
        "np.sum(np.isnan(kaliningrado))"
      ],
      "metadata": {
        "id": "qTo-x_K5aZog"
      },
      "execution_count": null,
      "outputs": []
    },
    {
      "cell_type": "code",
      "source": [
        "plt.plot(fechas, kaliningrado)"
      ],
      "metadata": {
        "id": "XrI9A5OKcLA2"
      },
      "execution_count": null,
      "outputs": []
    },
    {
      "cell_type": "code",
      "source": [
        "np.mean(kaliningrado)"
      ],
      "metadata": {
        "id": "VlmxNZoIcK1N"
      },
      "execution_count": null,
      "outputs": []
    },
    {
      "cell_type": "markdown",
      "source": [
        "DIFERENCIA ENTRE ARRAYS"
      ],
      "metadata": {
        "id": "7Lo8S5eS9Rh9"
      }
    },
    {
      "cell_type": "code",
      "source": [
        "plt.plot(fechas, kaliningrado)"
      ],
      "metadata": {
        "id": "9ur88tL9cKyj"
      },
      "execution_count": null,
      "outputs": []
    },
    {
      "cell_type": "markdown",
      "source": [
        "### **y = ax+b**"
      ],
      "metadata": {
        "id": "L506i1dgFIhI"
      }
    },
    {
      "cell_type": "code",
      "source": [
        "x= fechas\n",
        "y= 1.5* x + 44"
      ],
      "metadata": {
        "id": "W9GSBbOU9PlX"
      },
      "execution_count": null,
      "outputs": []
    },
    {
      "cell_type": "code",
      "source": [
        "y"
      ],
      "metadata": {
        "id": "GvJlz57X9PeD"
      },
      "execution_count": null,
      "outputs": []
    },
    {
      "cell_type": "code",
      "source": [
        "plt.plot(fechas, kaliningrado)\n",
        "plt.plot(x,y)"
      ],
      "metadata": {
        "id": "VF-mVALX9PVo"
      },
      "execution_count": null,
      "outputs": []
    },
    {
      "cell_type": "code",
      "source": [
        "kaliningrado-y"
      ],
      "metadata": {
        "id": "-SwtMgM6IbX2"
      },
      "execution_count": null,
      "outputs": []
    },
    {
      "cell_type": "code",
      "source": [
        "x= fechas\n",
        "y= 0.5* x + 44"
      ],
      "metadata": {
        "id": "GMKKBR0mIbOJ"
      },
      "execution_count": null,
      "outputs": []
    },
    {
      "cell_type": "code",
      "source": [
        "plt.plot(fechas, kaliningrado)\n",
        "plt.plot(x,y)"
      ],
      "metadata": {
        "id": "T5Q1PYWFIbG-"
      },
      "execution_count": null,
      "outputs": []
    },
    {
      "cell_type": "code",
      "source": [
        "kaliningrado-y"
      ],
      "metadata": {
        "id": "Y1zb3adJJM-T"
      },
      "execution_count": null,
      "outputs": []
    },
    {
      "cell_type": "code",
      "source": [
        "np.sum(np.power(kaliningrado-y,2))"
      ],
      "metadata": {
        "colab": {
          "base_uri": "https://localhost:8080/",
          "height": 141
        },
        "id": "-Did_QZ8JM3I",
        "outputId": "87ab12db-51dc-4f54-9d60-89a16c7a7f06"
      },
      "execution_count": 155,
      "outputs": [
        {
          "output_type": "error",
          "ename": "ValueError",
          "evalue": "operands could not be broadcast together with shapes (87,) (11,) ",
          "traceback": [
            "\u001b[0;31m---------------------------------------------------------------------------\u001b[0m",
            "\u001b[0;31mValueError\u001b[0m                                Traceback (most recent call last)",
            "\u001b[0;32m<ipython-input-155-c83922e55e08>\u001b[0m in \u001b[0;36m<cell line: 0>\u001b[0;34m()\u001b[0m\n\u001b[0;32m----> 1\u001b[0;31m \u001b[0mnp\u001b[0m\u001b[0;34m.\u001b[0m\u001b[0msum\u001b[0m\u001b[0;34m(\u001b[0m\u001b[0mnp\u001b[0m\u001b[0;34m.\u001b[0m\u001b[0mpower\u001b[0m\u001b[0;34m(\u001b[0m\u001b[0mkaliningrado\u001b[0m\u001b[0;34m-\u001b[0m\u001b[0my\u001b[0m\u001b[0;34m,\u001b[0m\u001b[0;36m2\u001b[0m\u001b[0;34m)\u001b[0m\u001b[0;34m)\u001b[0m\u001b[0;34m\u001b[0m\u001b[0;34m\u001b[0m\u001b[0m\n\u001b[0m",
            "\u001b[0;31mValueError\u001b[0m: operands could not be broadcast together with shapes (87,) (11,) "
          ]
        }
      ]
    },
    {
      "cell_type": "code",
      "source": [
        "np.sqrt(np.sum(np.power(kaliningrado-y,2)))"
      ],
      "metadata": {
        "id": "8ITtmg40J3jQ"
      },
      "execution_count": null,
      "outputs": []
    },
    {
      "cell_type": "code",
      "source": [
        "##esta forma es mas rapida y sencilla que las dos anteriores y llegamos al mismo resultado\n",
        "np.linalg.norm(kaliningrado-y)"
      ],
      "metadata": {
        "colab": {
          "base_uri": "https://localhost:8080/",
          "height": 159
        },
        "id": "twTh8qRDJ3f9",
        "outputId": "6b05a0bd-12e1-4743-933b-22b8b835c31c"
      },
      "execution_count": 156,
      "outputs": [
        {
          "output_type": "error",
          "ename": "ValueError",
          "evalue": "operands could not be broadcast together with shapes (87,) (11,) ",
          "traceback": [
            "\u001b[0;31m---------------------------------------------------------------------------\u001b[0m",
            "\u001b[0;31mValueError\u001b[0m                                Traceback (most recent call last)",
            "\u001b[0;32m<ipython-input-156-c0f9712561e7>\u001b[0m in \u001b[0;36m<cell line: 0>\u001b[0;34m()\u001b[0m\n\u001b[1;32m      1\u001b[0m \u001b[0;31m##esta forma es mas rapida y sencilla que las dos anteriores y llegamos al mismo resultado\u001b[0m\u001b[0;34m\u001b[0m\u001b[0;34m\u001b[0m\u001b[0m\n\u001b[0;32m----> 2\u001b[0;31m \u001b[0mnp\u001b[0m\u001b[0;34m.\u001b[0m\u001b[0mlinalg\u001b[0m\u001b[0;34m.\u001b[0m\u001b[0mnorm\u001b[0m\u001b[0;34m(\u001b[0m\u001b[0mkaliningrado\u001b[0m\u001b[0;34m-\u001b[0m\u001b[0my\u001b[0m\u001b[0;34m)\u001b[0m\u001b[0;34m\u001b[0m\u001b[0;34m\u001b[0m\u001b[0m\n\u001b[0m",
            "\u001b[0;31mValueError\u001b[0m: operands could not be broadcast together with shapes (87,) (11,) "
          ]
        }
      ]
    },
    {
      "cell_type": "code",
      "source": [],
      "metadata": {
        "id": "_flBVCDPJ3dO"
      },
      "execution_count": null,
      "outputs": []
    },
    {
      "cell_type": "markdown",
      "source": [
        "VALORES ALEATORIOS"
      ],
      "metadata": {
        "id": "A5ybYRkiljeN"
      }
    },
    {
      "cell_type": "code",
      "source": [
        "#enteros\n",
        "np.random.randint(40,100,100)"
      ],
      "metadata": {
        "colab": {
          "base_uri": "https://localhost:8080/"
        },
        "id": "YskoUIy3lkFi",
        "outputId": "90b8d7b3-cbab-4044-fac1-8fc9608af76c"
      },
      "execution_count": 218,
      "outputs": [
        {
          "output_type": "execute_result",
          "data": {
            "text/plain": [
              "array([88, 85, 61, 89, 91, 50, 67, 84, 53, 49, 55, 69, 74, 99, 58, 54, 78,\n",
              "       69, 96, 49, 91, 44, 93, 93, 47, 99, 82, 81, 66, 42, 78, 49, 77, 86,\n",
              "       57, 83, 55, 68, 67, 83, 62, 71, 60, 85, 61, 48, 68, 68, 71, 87, 50,\n",
              "       40, 47, 85, 42, 78, 47, 71, 76, 99, 96, 65, 78, 67, 44, 77, 83, 42,\n",
              "       58, 78, 94, 62, 79, 98, 86, 81, 46, 71, 72, 49, 74, 47, 49, 74, 78,\n",
              "       82, 59, 99, 88, 49, 56, 88, 54, 94, 97, 95, 92, 95, 81, 60])"
            ]
          },
          "metadata": {},
          "execution_count": 218
        }
      ]
    },
    {
      "cell_type": "code",
      "source": [
        "#decimales\n",
        "np.random.uniform(0.1,0.9,100)"
      ],
      "metadata": {
        "colab": {
          "base_uri": "https://localhost:8080/"
        },
        "id": "WJ1Qblr8lk2q",
        "outputId": "706b4436-d9b9-46ed-dc92-d5ca51714577"
      },
      "execution_count": 219,
      "outputs": [
        {
          "output_type": "execute_result",
          "data": {
            "text/plain": [
              "array([0.85465455, 0.3997908 , 0.5766002 , 0.62958617, 0.50846436,\n",
              "       0.47671407, 0.10709783, 0.15431712, 0.44785298, 0.4451949 ,\n",
              "       0.24870695, 0.52376425, 0.579269  , 0.67673957, 0.34511669,\n",
              "       0.42351637, 0.75822594, 0.56970428, 0.66521243, 0.5084658 ,\n",
              "       0.76404933, 0.67654241, 0.79300935, 0.26272782, 0.33882788,\n",
              "       0.48064322, 0.4948836 , 0.5861409 , 0.75514846, 0.52217907,\n",
              "       0.85136331, 0.67870673, 0.24300561, 0.59578033, 0.54982671,\n",
              "       0.71072369, 0.74531707, 0.33890016, 0.21070777, 0.60831833,\n",
              "       0.1066467 , 0.73086661, 0.50166191, 0.89769493, 0.88723252,\n",
              "       0.2816629 , 0.77996583, 0.75025403, 0.2889075 , 0.62548264,\n",
              "       0.8817368 , 0.68525481, 0.17650269, 0.50048488, 0.46988806,\n",
              "       0.10059511, 0.89115115, 0.80209595, 0.27376892, 0.584302  ,\n",
              "       0.4775625 , 0.38728713, 0.52343396, 0.55185849, 0.7668392 ,\n",
              "       0.15025066, 0.5850933 , 0.5028902 , 0.22823895, 0.21635638,\n",
              "       0.61027269, 0.80632491, 0.12629265, 0.44241752, 0.80231446,\n",
              "       0.48120566, 0.39405643, 0.2925202 , 0.13858542, 0.24013342,\n",
              "       0.54542035, 0.52406839, 0.53537724, 0.3392422 , 0.79233922,\n",
              "       0.77755723, 0.47256029, 0.70108656, 0.72685654, 0.39447748,\n",
              "       0.24185048, 0.3022964 , 0.28967285, 0.41351645, 0.10576513,\n",
              "       0.32471268, 0.52965609, 0.43844744, 0.52546106, 0.69206189])"
            ]
          },
          "metadata": {},
          "execution_count": 219
        }
      ]
    },
    {
      "cell_type": "code",
      "source": [
        "pendientes=np.random.uniform(0.1,0.9,100)\n",
        "pendientes"
      ],
      "metadata": {
        "colab": {
          "base_uri": "https://localhost:8080/"
        },
        "id": "lVkIpHpzlkrM",
        "outputId": "8c10d823-f3ee-4fd3-8ffd-eb1e57499448"
      },
      "execution_count": 220,
      "outputs": [
        {
          "output_type": "execute_result",
          "data": {
            "text/plain": [
              "array([0.84497235, 0.36079764, 0.31645882, 0.48097913, 0.58769297,\n",
              "       0.24980035, 0.12239629, 0.26319484, 0.29608365, 0.44906445,\n",
              "       0.60474339, 0.34113889, 0.88040537, 0.79691867, 0.59658563,\n",
              "       0.37030966, 0.23578528, 0.62778412, 0.67235926, 0.15288057,\n",
              "       0.72009297, 0.81090305, 0.60577902, 0.66268202, 0.79075538,\n",
              "       0.85897913, 0.38150114, 0.14736144, 0.34876407, 0.23668078,\n",
              "       0.39923899, 0.50317683, 0.73239352, 0.86198552, 0.33185667,\n",
              "       0.86161128, 0.24723541, 0.45204908, 0.24599958, 0.30852077,\n",
              "       0.11376552, 0.29702369, 0.40920951, 0.49773444, 0.34283319,\n",
              "       0.11043285, 0.8014801 , 0.28887605, 0.27512118, 0.10333216,\n",
              "       0.30802475, 0.319994  , 0.55873717, 0.51632527, 0.7393838 ,\n",
              "       0.72267561, 0.84406299, 0.52056794, 0.84796581, 0.75309197,\n",
              "       0.25131983, 0.65799611, 0.83197728, 0.82244115, 0.78936083,\n",
              "       0.61810912, 0.8680341 , 0.30001341, 0.6578992 , 0.19890544,\n",
              "       0.63021401, 0.66771266, 0.63758751, 0.49852031, 0.42912083,\n",
              "       0.79334336, 0.47579896, 0.35425741, 0.13770972, 0.62729853,\n",
              "       0.70445427, 0.50309844, 0.68357354, 0.61175097, 0.50174699,\n",
              "       0.25063394, 0.38576932, 0.68377789, 0.70045141, 0.14250183,\n",
              "       0.44250868, 0.58725633, 0.68582468, 0.41933409, 0.53553915,\n",
              "       0.40283556, 0.37206533, 0.3609788 , 0.75650102, 0.16189264])"
            ]
          },
          "metadata": {},
          "execution_count": 220
        }
      ]
    },
    {
      "cell_type": "code",
      "source": [
        "for i in range(100):\n",
        "  print(np.linalg.norm(kaliningrado-(pendientes[i]*x + b)))\n",
        ""
      ],
      "metadata": {
        "colab": {
          "base_uri": "https://localhost:8080/",
          "height": 176
        },
        "id": "xkNfe-vTlkoW",
        "outputId": "ae9b2d20-42ca-4b41-a83e-aa8444e9906a"
      },
      "execution_count": 222,
      "outputs": [
        {
          "output_type": "error",
          "ename": "ValueError",
          "evalue": "operands could not be broadcast together with shapes (11,) (5,) ",
          "traceback": [
            "\u001b[0;31m---------------------------------------------------------------------------\u001b[0m",
            "\u001b[0;31mValueError\u001b[0m                                Traceback (most recent call last)",
            "\u001b[0;32m<ipython-input-222-bd6bc38e985e>\u001b[0m in \u001b[0;36m<cell line: 0>\u001b[0;34m()\u001b[0m\n\u001b[1;32m      1\u001b[0m \u001b[0;32mfor\u001b[0m \u001b[0mi\u001b[0m \u001b[0;32min\u001b[0m \u001b[0mrange\u001b[0m\u001b[0;34m(\u001b[0m\u001b[0;36m100\u001b[0m\u001b[0;34m)\u001b[0m\u001b[0;34m:\u001b[0m\u001b[0;34m\u001b[0m\u001b[0;34m\u001b[0m\u001b[0m\n\u001b[0;32m----> 2\u001b[0;31m   \u001b[0mprint\u001b[0m\u001b[0;34m(\u001b[0m\u001b[0mnp\u001b[0m\u001b[0;34m.\u001b[0m\u001b[0mlinalg\u001b[0m\u001b[0;34m.\u001b[0m\u001b[0mnorm\u001b[0m\u001b[0;34m(\u001b[0m\u001b[0mkaliningrado\u001b[0m\u001b[0;34m-\u001b[0m\u001b[0;34m(\u001b[0m\u001b[0mpendientes\u001b[0m\u001b[0;34m[\u001b[0m\u001b[0mi\u001b[0m\u001b[0;34m]\u001b[0m\u001b[0;34m*\u001b[0m\u001b[0mx\u001b[0m \u001b[0;34m+\u001b[0m \u001b[0mb\u001b[0m\u001b[0;34m)\u001b[0m\u001b[0;34m)\u001b[0m\u001b[0;34m)\u001b[0m\u001b[0;34m\u001b[0m\u001b[0;34m\u001b[0m\u001b[0m\n\u001b[0m\u001b[1;32m      3\u001b[0m \u001b[0;34m\u001b[0m\u001b[0m\n",
            "\u001b[0;31mValueError\u001b[0m: operands could not be broadcast together with shapes (11,) (5,) "
          ]
        }
      ]
    },
    {
      "cell_type": "code",
      "source": [
        "norma= np.array([])\n",
        "for i in range(100):\n",
        "  norma= np.append(norma, np.linalg.norm(kaliningrado-(pendientes[i]*x + b)))"
      ],
      "metadata": {
        "colab": {
          "base_uri": "https://localhost:8080/",
          "height": 176
        },
        "id": "cneK7Kz1sllG",
        "outputId": "881f0bbe-e62c-4d73-fe35-7f23d97a8611"
      },
      "execution_count": 223,
      "outputs": [
        {
          "output_type": "error",
          "ename": "ValueError",
          "evalue": "operands could not be broadcast together with shapes (11,) (5,) ",
          "traceback": [
            "\u001b[0;31m---------------------------------------------------------------------------\u001b[0m",
            "\u001b[0;31mValueError\u001b[0m                                Traceback (most recent call last)",
            "\u001b[0;32m<ipython-input-223-c70192909ba9>\u001b[0m in \u001b[0;36m<cell line: 0>\u001b[0;34m()\u001b[0m\n\u001b[1;32m      1\u001b[0m \u001b[0mnorma\u001b[0m\u001b[0;34m=\u001b[0m \u001b[0mnp\u001b[0m\u001b[0;34m.\u001b[0m\u001b[0marray\u001b[0m\u001b[0;34m(\u001b[0m\u001b[0;34m[\u001b[0m\u001b[0;34m]\u001b[0m\u001b[0;34m)\u001b[0m\u001b[0;34m\u001b[0m\u001b[0;34m\u001b[0m\u001b[0m\n\u001b[1;32m      2\u001b[0m \u001b[0;32mfor\u001b[0m \u001b[0mi\u001b[0m \u001b[0;32min\u001b[0m \u001b[0mrange\u001b[0m\u001b[0;34m(\u001b[0m\u001b[0;36m100\u001b[0m\u001b[0;34m)\u001b[0m\u001b[0;34m:\u001b[0m\u001b[0;34m\u001b[0m\u001b[0;34m\u001b[0m\u001b[0m\n\u001b[0;32m----> 3\u001b[0;31m   \u001b[0mnorma\u001b[0m\u001b[0;34m=\u001b[0m \u001b[0mnp\u001b[0m\u001b[0;34m.\u001b[0m\u001b[0mappend\u001b[0m\u001b[0;34m(\u001b[0m\u001b[0mnorma\u001b[0m\u001b[0;34m,\u001b[0m \u001b[0mnp\u001b[0m\u001b[0;34m.\u001b[0m\u001b[0mlinalg\u001b[0m\u001b[0;34m.\u001b[0m\u001b[0mnorm\u001b[0m\u001b[0;34m(\u001b[0m\u001b[0mkaliningrado\u001b[0m\u001b[0;34m-\u001b[0m\u001b[0;34m(\u001b[0m\u001b[0mpendientes\u001b[0m\u001b[0;34m[\u001b[0m\u001b[0mi\u001b[0m\u001b[0;34m]\u001b[0m\u001b[0;34m*\u001b[0m\u001b[0mx\u001b[0m \u001b[0;34m+\u001b[0m \u001b[0mb\u001b[0m\u001b[0;34m)\u001b[0m\u001b[0;34m)\u001b[0m\u001b[0;34m)\u001b[0m\u001b[0;34m\u001b[0m\u001b[0;34m\u001b[0m\u001b[0m\n\u001b[0m",
            "\u001b[0;31mValueError\u001b[0m: operands could not be broadcast together with shapes (11,) (5,) "
          ]
        }
      ]
    },
    {
      "cell_type": "code",
      "source": [
        "norma"
      ],
      "metadata": {
        "id": "AjKMyLyxsldZ"
      },
      "execution_count": null,
      "outputs": []
    },
    {
      "cell_type": "code",
      "source": [
        "# estos ultimos 3 son para demostrar que se han generado arrays aleatorios y que todos son diferentes\n",
        "\n",
        "np.random.uniform(0.1,0.9,5)"
      ],
      "metadata": {
        "id": "tR-m6B9mslR6"
      },
      "execution_count": null,
      "outputs": []
    },
    {
      "cell_type": "code",
      "source": [
        "np.random.uniform(0.1,0.9,5)"
      ],
      "metadata": {
        "id": "9gQ-ZM47thlw"
      },
      "execution_count": null,
      "outputs": []
    },
    {
      "cell_type": "code",
      "source": [
        "np.random.uniform(0.1,0.9,5)"
      ],
      "metadata": {
        "colab": {
          "base_uri": "https://localhost:8080/"
        },
        "id": "vW_tEdRHthjK",
        "outputId": "6f90cc03-45a0-4658-9a1c-0332403914a1"
      },
      "execution_count": 157,
      "outputs": [
        {
          "output_type": "execute_result",
          "data": {
            "text/plain": [
              "array([0.76244679, 0.39762029, 0.8266868 , 0.18553677, 0.73421204])"
            ]
          },
          "metadata": {},
          "execution_count": 157
        }
      ]
    },
    {
      "cell_type": "code",
      "source": [
        "##usando SEED, esta caracteristica llamada seed se usa para reproducir los mismos dantos sin importar el numero de veces, siempres seran los mismos valores\n",
        "\n",
        "np.random.seed(99)\n",
        "norma= np.array([])\n",
        "\n",
        "for i in range(100):\n",
        "  norma= np.append(norma, np.linalg.norm(kaliningrado-(pendientes[i]*x + b)))"
      ],
      "metadata": {
        "colab": {
          "base_uri": "https://localhost:8080/",
          "height": 176
        },
        "id": "7HmaG745the5",
        "outputId": "6cdb7f2c-0588-4d8a-b48b-1309d325cf83"
      },
      "execution_count": 158,
      "outputs": [
        {
          "output_type": "error",
          "ename": "ValueError",
          "evalue": "operands could not be broadcast together with shapes (11,) (5,) ",
          "traceback": [
            "\u001b[0;31m---------------------------------------------------------------------------\u001b[0m",
            "\u001b[0;31mValueError\u001b[0m                                Traceback (most recent call last)",
            "\u001b[0;32m<ipython-input-158-e8c5c9b19eea>\u001b[0m in \u001b[0;36m<cell line: 0>\u001b[0;34m()\u001b[0m\n\u001b[1;32m      5\u001b[0m \u001b[0;34m\u001b[0m\u001b[0m\n\u001b[1;32m      6\u001b[0m \u001b[0;32mfor\u001b[0m \u001b[0mi\u001b[0m \u001b[0;32min\u001b[0m \u001b[0mrange\u001b[0m\u001b[0;34m(\u001b[0m\u001b[0;36m100\u001b[0m\u001b[0;34m)\u001b[0m\u001b[0;34m:\u001b[0m\u001b[0;34m\u001b[0m\u001b[0;34m\u001b[0m\u001b[0m\n\u001b[0;32m----> 7\u001b[0;31m   \u001b[0mnorma\u001b[0m\u001b[0;34m=\u001b[0m \u001b[0mnp\u001b[0m\u001b[0;34m.\u001b[0m\u001b[0mappend\u001b[0m\u001b[0;34m(\u001b[0m\u001b[0mnorma\u001b[0m\u001b[0;34m,\u001b[0m \u001b[0mnp\u001b[0m\u001b[0;34m.\u001b[0m\u001b[0mlinalg\u001b[0m\u001b[0;34m.\u001b[0m\u001b[0mnorm\u001b[0m\u001b[0;34m(\u001b[0m\u001b[0mkaliningrado\u001b[0m\u001b[0;34m-\u001b[0m\u001b[0;34m(\u001b[0m\u001b[0mpendientes\u001b[0m\u001b[0;34m[\u001b[0m\u001b[0mi\u001b[0m\u001b[0;34m]\u001b[0m\u001b[0;34m*\u001b[0m\u001b[0mx\u001b[0m \u001b[0;34m+\u001b[0m \u001b[0mb\u001b[0m\u001b[0;34m)\u001b[0m\u001b[0;34m)\u001b[0m\u001b[0;34m)\u001b[0m\u001b[0;34m\u001b[0m\u001b[0;34m\u001b[0m\u001b[0m\n\u001b[0m",
            "\u001b[0;31mValueError\u001b[0m: operands could not be broadcast together with shapes (11,) (5,) "
          ]
        }
      ]
    },
    {
      "cell_type": "code",
      "source": [
        "norma"
      ],
      "metadata": {
        "id": "1KMpDexzvoDi"
      },
      "execution_count": null,
      "outputs": []
    },
    {
      "cell_type": "code",
      "source": [
        "norma"
      ],
      "metadata": {
        "id": "-5CJVObqvriU"
      },
      "execution_count": null,
      "outputs": []
    },
    {
      "cell_type": "markdown",
      "source": [
        "La elección del primer valor dentro de random.uniform es el primer valor posible en la secuencia, el segundo valor es el último valor posible y el último valor es el número de valores en la secuencia. Además, colocar random.seed con el mismo número justo antes de la llamada a la función hará que se genere la misma secuencia. Un ejemplo de código que resolvería el problema correctamente es este, observe que se generarán secuencias de 5 números:"
      ],
      "metadata": {
        "id": "UewXh8rC1O6O"
      }
    },
    {
      "cell_type": "code",
      "source": [
        "import numpy as np\n",
        "\n",
        "np.random.seed(42)\n",
        "a = np.random.uniform(0, 5, 5)\n",
        "np.random.seed(8)\n",
        "b = np.random.uniform(0, 5, 5)\n",
        "a,b"
      ],
      "metadata": {
        "colab": {
          "base_uri": "https://localhost:8080/"
        },
        "id": "OpyfV5L8vrby",
        "outputId": "243d3465-259b-4c01-b190-0697bf878e2e"
      },
      "execution_count": 216,
      "outputs": [
        {
          "output_type": "execute_result",
          "data": {
            "text/plain": [
              "(array([1.87270059, 4.75357153, 3.65996971, 2.99329242, 0.7800932 ]),\n",
              " array([4.36714701, 4.84270331, 4.3459727 , 2.65427846, 1.16364164]))"
            ]
          },
          "metadata": {},
          "execution_count": 216
        }
      ]
    },
    {
      "cell_type": "code",
      "source": [
        "a,b"
      ],
      "metadata": {
        "colab": {
          "base_uri": "https://localhost:8080/"
        },
        "id": "Zls-hchVv0Hu",
        "outputId": "bc868b2a-20d0-49d0-db92-6c52efa9b2d5"
      },
      "execution_count": 200,
      "outputs": [
        {
          "output_type": "execute_result",
          "data": {
            "text/plain": [
              "(array([1.87270059, 4.75357153, 3.65996971, 2.99329242, 0.7800932 ]),\n",
              " array([4.36714701, 4.84270331, 4.3459727 , 2.65427846, 1.16364164]))"
            ]
          },
          "metadata": {},
          "execution_count": 200
        }
      ]
    },
    {
      "cell_type": "code",
      "source": [],
      "metadata": {
        "id": "7XjwbRgbv0AI"
      },
      "execution_count": 178,
      "outputs": []
    },
    {
      "cell_type": "markdown",
      "source": [
        "EXPORTANDO EL ARCHIVO GENERADO"
      ],
      "metadata": {
        "id": "FrFkx8-W1k1v"
      }
    },
    {
      "cell_type": "code",
      "source": [
        "pendientes"
      ],
      "metadata": {
        "colab": {
          "base_uri": "https://localhost:8080/"
        },
        "id": "6v8Md0Be1qg9",
        "outputId": "7d39fa3f-5418-4064-d986-3faad321fc33"
      },
      "execution_count": 217,
      "outputs": [
        {
          "output_type": "execute_result",
          "data": {
            "text/plain": [
              "array([0.5508901 , 0.31615651, 0.88270555, 0.5302621 , 0.16624805,\n",
              "       0.12058705, 0.52575375, 0.53857976, 0.8956544 , 0.55919261,\n",
              "       0.37324933, 0.8949216 , 0.19535437, 0.29849361, 0.35676404,\n",
              "       0.46662206, 0.64430491, 0.63513713, 0.56865786, 0.53621543,\n",
              "       0.84430341, 0.27897091, 0.82665263, 0.77522783, 0.20939651,\n",
              "       0.46867057, 0.71973091, 0.13036427, 0.82962976, 0.18009768,\n",
              "       0.31660064, 0.47675145, 0.60225655, 0.76657231, 0.63980157,\n",
              "       0.75209653, 0.46525981, 0.84479566, 0.39090243, 0.73199991,\n",
              "       0.86052118, 0.43806376, 0.72693751, 0.14160898, 0.27657983,\n",
              "       0.54432308, 0.76842588, 0.42032557, 0.69737833, 0.20601813,\n",
              "       0.71367635, 0.10639159, 0.55305291, 0.2844006 , 0.84481412,\n",
              "       0.42337469, 0.21053871, 0.40845855, 0.68679665, 0.7888227 ,\n",
              "       0.37524992, 0.77889592, 0.64013318, 0.53252367, 0.87674695,\n",
              "       0.41594992, 0.52238609, 0.60580729, 0.78006928, 0.43257904,\n",
              "       0.60059954, 0.34290919, 0.52453058, 0.63510998, 0.31007547,\n",
              "       0.89584467, 0.12760672, 0.48923608, 0.20071779, 0.44375158,\n",
              "       0.4619109 , 0.27889221, 0.37055735, 0.65932261, 0.51015768,\n",
              "       0.54443949, 0.29550642, 0.6654959 , 0.88110293, 0.56797633,\n",
              "       0.57103479, 0.28164659, 0.57418453, 0.72030629, 0.20982843,\n",
              "       0.41998991, 0.34674215, 0.25632611, 0.55314618, 0.57654945])"
            ]
          },
          "metadata": {},
          "execution_count": 217
        }
      ]
    },
    {
      "cell_type": "code",
      "source": [
        "norma"
      ],
      "metadata": {
        "colab": {
          "base_uri": "https://localhost:8080/"
        },
        "id": "tML-PCaY1qY0",
        "outputId": "dc19eedf-1023-4da4-8ba9-48f6c9052527"
      },
      "execution_count": 202,
      "outputs": [
        {
          "output_type": "execute_result",
          "data": {
            "text/plain": [
              "array([ 57.86796392, 243.32293272, 168.71755649, 394.73364449,\n",
              "       607.2688863 , 104.37764109, 128.96929484, 178.01424415,\n",
              "       271.50751821, 104.6223292 , 196.72584459, 316.57902984,\n",
              "       593.68211261, 200.77163357, 408.42973896, 340.22201471,\n",
              "       546.65849924, 533.47344902, 578.11701731,  90.40130458,\n",
              "       385.77461692, 131.84736669,  72.86934427, 610.69287204,\n",
              "       235.15500738, 518.70472761, 400.3660529 , 149.76201242,\n",
              "       600.39883044, 108.8270818 , 350.5552683 , 182.91299574,\n",
              "       209.11431799, 220.38548091, 113.05841978, 507.70390112,\n",
              "       121.80652282, 318.36018902, 220.40481894, 141.2176727 ,\n",
              "       113.34201279, 428.94317337, 609.92039331, 193.40809395,\n",
              "       358.16628101,  98.55244881,  56.48557538, 119.93465522,\n",
              "       280.0678986 , 247.40178128,  65.31034733, 392.59472252,\n",
              "       312.17557048, 267.59420697, 290.91925514, 350.19515274,\n",
              "       574.75765684, 181.56275044,  43.89711247, 435.80853841,\n",
              "       499.81820154, 402.87449171, 335.46462737, 514.52485053,\n",
              "       232.13597718, 138.17115973,  43.7161208 , 601.75012648,\n",
              "       501.98182635, 590.031145  ,  41.66553184, 192.45135501,\n",
              "       160.01311679,  37.44295533, 230.88042969, 284.0519727 ,\n",
              "       133.54021583, 323.92192427, 192.26917365, 584.88740801,\n",
              "       304.58633262, 179.01769718, 207.55084059,  45.61598798,\n",
              "       192.19878148, 177.79348576, 582.47102516, 450.21400318,\n",
              "       512.57718098, 362.4312574 , 100.2373924 , 365.79543055,\n",
              "       345.2683914 , 309.17782253, 381.3254654 , 342.0309128 ,\n",
              "       283.05388313, 444.92432255, 212.59593597, 216.16511966])"
            ]
          },
          "metadata": {},
          "execution_count": 202
        }
      ]
    },
    {
      "cell_type": "code",
      "source": [
        "datos= np.column_stack([norma,pendientes])\n",
        "datos"
      ],
      "metadata": {
        "colab": {
          "base_uri": "https://localhost:8080/"
        },
        "id": "BTPvEQsa1qR-",
        "outputId": "2c0f5888-6161-491b-b0da-58e53b86e1c2"
      },
      "execution_count": 181,
      "outputs": [
        {
          "output_type": "execute_result",
          "data": {
            "text/plain": [
              "array([[5.78914652e+01, 5.50890101e-01],\n",
              "       [2.43344137e+02, 3.16156508e-01],\n",
              "       [1.68739252e+02, 8.82705550e-01],\n",
              "       [3.94754383e+02, 5.30262100e-01],\n",
              "       [6.07289346e+02, 1.66248049e-01],\n",
              "       [1.04400164e+02, 1.20587047e-01],\n",
              "       [1.28991431e+02, 5.25753754e-01],\n",
              "       [1.78035859e+02, 5.38579765e-01],\n",
              "       [2.71528600e+02, 8.95654400e-01],\n",
              "       [1.04644847e+02, 5.59192613e-01],\n",
              "       [1.96747318e+02, 3.73249332e-01],\n",
              "       [3.16599958e+02, 8.94921595e-01],\n",
              "       [5.93702584e+02, 1.95354369e-01],\n",
              "       [2.00793080e+02, 2.98493606e-01],\n",
              "       [4.08450451e+02, 3.56764042e-01],\n",
              "       [3.40242877e+02, 4.66622059e-01],\n",
              "       [5.46679017e+02, 6.44304907e-01],\n",
              "       [5.33493981e+02, 6.35137131e-01],\n",
              "       [5.78137503e+02, 5.68657863e-01],\n",
              "       [9.04241000e+01, 5.36215428e-01],\n",
              "       [3.85795373e+02, 8.44303406e-01],\n",
              "       [1.31869464e+02, 2.78970906e-01],\n",
              "       [7.28925327e+01, 8.26652627e-01],\n",
              "       [6.10713328e+02, 7.75227834e-01],\n",
              "       [2.35176252e+02, 2.09396505e-01],\n",
              "       [5.18725277e+02, 4.68670568e-01],\n",
              "       [4.00386780e+02, 7.19730905e-01],\n",
              "       [1.49783895e+02, 1.30364269e-01],\n",
              "       [6.00419296e+02, 8.29629759e-01],\n",
              "       [1.08849526e+02, 1.80097676e-01],\n",
              "       [3.50576104e+02, 3.16600642e-01],\n",
              "       [1.82934572e+02, 4.76751451e-01],\n",
              "       [2.09135710e+02, 6.02256554e-01],\n",
              "       [2.20406806e+02, 7.66572307e-01],\n",
              "       [1.13080793e+02, 6.39801567e-01],\n",
              "       [5.07724463e+02, 7.52096526e-01],\n",
              "       [1.21828760e+02, 4.65259814e-01],\n",
              "       [3.18381112e+02, 8.44795661e-01],\n",
              "       [2.20426144e+02, 3.90902425e-01],\n",
              "       [1.41239652e+02, 7.31999913e-01],\n",
              "       [1.13364382e+02, 8.60521182e-01],\n",
              "       [4.28963849e+02, 4.38063764e-01],\n",
              "       [6.09940850e+02, 7.26937507e-01],\n",
              "       [1.93429591e+02, 1.41608978e-01],\n",
              "       [3.58187098e+02, 2.76579826e-01],\n",
              "       [9.85750802e+01, 5.44323077e-01],\n",
              "       [5.65090962e+01, 7.68425880e-01],\n",
              "       [1.19956921e+02, 4.20325570e-01],\n",
              "       [2.80088948e+02, 6.97378327e-01],\n",
              "       [2.47422967e+02, 2.06018131e-01],\n",
              "       [6.53337072e+01, 7.13676348e-01],\n",
              "       [3.92615465e+02, 1.06391588e-01],\n",
              "       [3.12196512e+02, 5.53052912e-01],\n",
              "       [2.67615305e+02, 2.84400601e-01],\n",
              "       [2.90940265e+02, 8.44814123e-01],\n",
              "       [3.50215989e+02, 4.23374694e-01],\n",
              "       [5.74778146e+02, 2.10538707e-01],\n",
              "       [1.81584337e+02, 4.08458548e-01],\n",
              "       [4.39205214e+01, 6.86796655e-01],\n",
              "       [4.35829203e+02, 7.88822702e-01],\n",
              "       [4.99838774e+02, 3.75249917e-01],\n",
              "       [4.02895214e+02, 7.78895918e-01],\n",
              "       [3.35485502e+02, 6.40133178e-01],\n",
              "       [5.14545405e+02, 5.32523672e-01],\n",
              "       [2.32157238e+02, 8.76746951e-01],\n",
              "       [1.38193176e+02, 4.15949917e-01],\n",
              "       [4.37395208e+01, 5.22386091e-01],\n",
              "       [6.01770591e+02, 6.05807290e-01],\n",
              "       [5.02002396e+02, 7.80069283e-01],\n",
              "       [5.90051620e+02, 4.32579037e-01],\n",
              "       [4.16888027e+01, 6.00599539e-01],\n",
              "       [1.92472859e+02, 3.42909193e-01],\n",
              "       [1.60034893e+02, 5.24530585e-01],\n",
              "       [3.74657212e+01, 6.35109977e-01],\n",
              "       [2.30901697e+02, 3.10075468e-01],\n",
              "       [2.84073007e+02, 8.95844672e-01],\n",
              "       [1.33562291e+02, 1.27606725e-01],\n",
              "       [3.23942831e+02, 4.89236081e-01],\n",
              "       [1.92290679e+02, 2.00717792e-01],\n",
              "       [5.84907888e+02, 4.43751578e-01],\n",
              "       [3.04607297e+02, 4.61910903e-01],\n",
              "       [1.79039304e+02, 2.78892213e-01],\n",
              "       [2.07572242e+02, 3.70557347e-01],\n",
              "       [4.56394654e+01, 6.59322611e-01],\n",
              "       [1.92220287e+02, 5.10157680e-01],\n",
              "       [1.77815103e+02, 5.44439488e-01],\n",
              "       [5.82491507e+02, 2.95506420e-01],\n",
              "       [4.50234645e+02, 6.65495900e-01],\n",
              "       [5.12597737e+02, 8.81102932e-01],\n",
              "       [3.62452065e+02, 5.67976327e-01],\n",
              "       [1.00259992e+02, 5.71034792e-01],\n",
              "       [3.65816230e+02, 2.81646590e-01],\n",
              "       [3.45289240e+02, 5.74184532e-01],\n",
              "       [3.09198773e+02, 7.20306288e-01],\n",
              "       [3.81346231e+02, 2.09828427e-01],\n",
              "       [3.42051770e+02, 4.19989911e-01],\n",
              "       [2.83074922e+02, 3.46742147e-01],\n",
              "       [4.44944972e+02, 2.56326112e-01],\n",
              "       [2.12617307e+02, 5.53146177e-01],\n",
              "       [2.16186469e+02, 5.76549453e-01]])"
            ]
          },
          "metadata": {},
          "execution_count": 181
        }
      ]
    },
    {
      "cell_type": "code",
      "source": [
        "datos.shape"
      ],
      "metadata": {
        "colab": {
          "base_uri": "https://localhost:8080/"
        },
        "id": "I7P7ISd21qJv",
        "outputId": "a9d8cf68-c990-4449-d1f9-d8814dcfd1b7"
      },
      "execution_count": 182,
      "outputs": [
        {
          "output_type": "execute_result",
          "data": {
            "text/plain": [
              "(100, 2)"
            ]
          },
          "metadata": {},
          "execution_count": 182
        }
      ]
    },
    {
      "cell_type": "code",
      "source": [
        "# ESTE PASO ES EL INDICADO PARA CARGAR Y GUARDAR LOS ARCHIVOS A DRIVE, en este caso fue copiando y pegando la ruta desde el simbolo de carpeta\n",
        "\n",
        "np.savetxt(\"/content/drive/MyDrive/norma_y_pendientes.csv\",datos,delimiter=\",\")"
      ],
      "metadata": {
        "id": "nvx4HLxC239a"
      },
      "execution_count": 183,
      "outputs": []
    },
    {
      "cell_type": "code",
      "source": [],
      "metadata": {
        "id": "PYJsmnFE230A"
      },
      "execution_count": null,
      "outputs": []
    },
    {
      "cell_type": "code",
      "source": [],
      "metadata": {
        "id": "-ZmwAo0d23rz"
      },
      "execution_count": null,
      "outputs": []
    },
    {
      "cell_type": "code",
      "source": [],
      "metadata": {
        "id": "oofL9r7R23iN"
      },
      "execution_count": null,
      "outputs": []
    },
    {
      "cell_type": "markdown",
      "source": [
        "PRIMER EJERCICIO"
      ],
      "metadata": {
        "id": "IT9o5rDAEAkU"
      }
    },
    {
      "cell_type": "markdown",
      "source": [
        "Un colega te pidió que cargues una base de datos y verifiques el número de filas y columnas del archivo cargado. Tenía dudas sobre si se habían cargado todas las filas.\n",
        "\n",
        "¿Cómo determinar las dimensiones correctas de una matriz?\n",
        "\n",
        "Para responder a esta pregunta, necesitarás acceder al siguiente dataset. Puedes usar la opción skiprows=1 para omitir la primera línea del archivo."
      ],
      "metadata": {
        "id": "m91KSxB4DuKP"
      }
    },
    {
      "cell_type": "code",
      "source": [
        "url = \"https://raw.githubusercontent.com/allanspadini/numpy/dados/bytebank.csv\"\n",
        "import numpy as np\n",
        "dato = np.loadtxt(url, delimiter=',', skiprows=1, dtype=float)\n",
        "np.shape(dato)"
      ],
      "metadata": {
        "id": "uUf3H7uCDwGi",
        "colab": {
          "base_uri": "https://localhost:8080/"
        },
        "outputId": "6b180833-4707-470c-d130-ddef738c5a1e"
      },
      "execution_count": 159,
      "outputs": [
        {
          "output_type": "execute_result",
          "data": {
            "text/plain": [
              "(12, 2)"
            ]
          },
          "metadata": {},
          "execution_count": 159
        }
      ]
    },
    {
      "cell_type": "code",
      "source": [
        "url = 'https://raw.githubusercontent.com/allanspadini/numpy/dados/bytebank.csv'\n",
        "import numpy as np\n",
        "dato = np.loadtxt(url, delimiter=',', skiprows=1, dtype=float)\n",
        "dato.shape"
      ],
      "metadata": {
        "id": "9M8lwwRsD7b9",
        "colab": {
          "base_uri": "https://localhost:8080/"
        },
        "outputId": "fae7bb38-03b0-40a8-8e1b-e722e439f34f"
      },
      "execution_count": 160,
      "outputs": [
        {
          "output_type": "execute_result",
          "data": {
            "text/plain": [
              "(12, 2)"
            ]
          },
          "metadata": {},
          "execution_count": 160
        }
      ]
    },
    {
      "cell_type": "markdown",
      "source": [
        "SEGUNDO EJERCICIO\n",
        "\n",
        "En esta etapa, debes cargar los datos. Para hacerlo, importa NumPy y utiliza la función loadtxt. Utiliza el enlace de la URL y el parámetro usecols para omitir la primera columna. Puedes usar np.arange para crear la secuencia de números que representan las columnas. Por último, también es necesario incluir el parámetro skiprows=1 para que la primera línea de texto se omita al leer el archivo."
      ],
      "metadata": {
        "id": "3ZToYUAnETnH"
      }
    },
    {
      "cell_type": "code",
      "source": [
        "import numpy as np\n",
        "url = 'https://gist.githubusercontent.com/ahcamachod/9be09de793dc3bf1e6c3d98eb4e5b1ef/raw/21b85572693200040e11284ef6dcfc3457ec8e11/citrus.csv'\n",
        "datos = np.loadtxt(url, delimiter=',', usecols=np.arange(1, 6, 1), skiprows=1)\n",
        "datos"
      ],
      "metadata": {
        "id": "86RJOitkEess",
        "colab": {
          "base_uri": "https://localhost:8080/"
        },
        "outputId": "0eff0007-c012-4688-ea48-a04e2f28f0aa"
      },
      "execution_count": 161,
      "outputs": [
        {
          "output_type": "execute_result",
          "data": {
            "text/plain": [
              "array([[  2.96,  86.76, 172.  ,  85.  ,   2.  ],\n",
              "       [  3.91,  88.05, 166.  ,  78.  ,   3.  ],\n",
              "       [  4.42,  95.17, 156.  ,  81.  ,   2.  ],\n",
              "       ...,\n",
              "       [ 15.59, 256.5 , 168.  ,  82.  ,  20.  ],\n",
              "       [ 15.92, 260.14, 142.  ,  72.  ,  11.  ],\n",
              "       [ 16.45, 261.51, 152.  ,  74.  ,   2.  ]])"
            ]
          },
          "metadata": {},
          "execution_count": 161
        }
      ]
    },
    {
      "cell_type": "code",
      "source": [],
      "metadata": {
        "id": "TMcHpEYWE1f1"
      },
      "execution_count": 161,
      "outputs": []
    },
    {
      "cell_type": "markdown",
      "source": [
        "TERCER EJERCICIO\n",
        "\n",
        "Continuando con el proyecto de las naranjas/toronjas, ahora debes seleccionar parte de los datos. Las columnas que evaluaremos son el diámetro y el peso. Crea arrays específicos para almacenar el diámetro y el peso de la naranja y la toronja. El diámetro está en la columna cero y el peso en la columna uno. Los datos de las naranjas van hasta la fila 4999 y los datos de las toronjas comienzan en la fila 5000 del archivo.\n",
        "\n",
        "Después de seleccionar los datos, importa la biblioteca matplotlib y crea un gráfico para el peso en función del diámetro tanto para las naranjas como para las toronjas."
      ],
      "metadata": {
        "id": "xXIAshNghJfn"
      }
    },
    {
      "cell_type": "code",
      "source": [
        "import numpy as np\n",
        "url=\"https://gist.githubusercontent.com/ahcamachod/9be09de793dc3bf1e6c3d98eb4e5b1ef/raw/21b85572693200040e11284ef6dcfc3457ec8e11/citrus.csv\"\n",
        "dato = np.loadtxt(url, delimiter=',', usecols=np.arange(1, 6, 1), skiprows=1)\n",
        "dato"
      ],
      "metadata": {
        "id": "BwHbY1AJkG3J",
        "colab": {
          "base_uri": "https://localhost:8080/"
        },
        "outputId": "4fad6e27-a119-49a6-c068-4da2226f844c"
      },
      "execution_count": 162,
      "outputs": [
        {
          "output_type": "execute_result",
          "data": {
            "text/plain": [
              "array([[  2.96,  86.76, 172.  ,  85.  ,   2.  ],\n",
              "       [  3.91,  88.05, 166.  ,  78.  ,   3.  ],\n",
              "       [  4.42,  95.17, 156.  ,  81.  ,   2.  ],\n",
              "       ...,\n",
              "       [ 15.59, 256.5 , 168.  ,  82.  ,  20.  ],\n",
              "       [ 15.92, 260.14, 142.  ,  72.  ,  11.  ],\n",
              "       [ 16.45, 261.51, 152.  ,  74.  ,   2.  ]])"
            ]
          },
          "metadata": {},
          "execution_count": 162
        }
      ]
    },
    {
      "cell_type": "code",
      "source": [
        "diametro_naranja = dato[:5000, 0]\n",
        "diametro_toronja = dato[5000:, 0]\n",
        "peso_naranja = dato[:5000, 1]\n",
        "peso_toronja = dato[5000:, 1]"
      ],
      "metadata": {
        "id": "MM-OotjLhRcn"
      },
      "execution_count": 163,
      "outputs": []
    },
    {
      "cell_type": "code",
      "source": [
        "import matplotlib.pyplot as plt\n",
        "plt.plot(diametro_toronja, peso_toronja)\n",
        "plt.plot(diametro_naranja, peso_naranja)\n",
        "plt.legend([\"naranja\",\"toronja\"])\n"
      ],
      "metadata": {
        "id": "aPob4P0hhSF7",
        "colab": {
          "base_uri": "https://localhost:8080/",
          "height": 447
        },
        "outputId": "522a645f-56fb-4e85-ce39-8e9761c8630f"
      },
      "execution_count": 164,
      "outputs": [
        {
          "output_type": "execute_result",
          "data": {
            "text/plain": [
              "<matplotlib.legend.Legend at 0x7a57c931df50>"
            ]
          },
          "metadata": {},
          "execution_count": 164
        },
        {
          "output_type": "display_data",
          "data": {
            "text/plain": [
              "<Figure size 640x480 with 1 Axes>"
            ],
            "image/png": "[encoded data removed]"
          },
          "metadata": {}
        }
      ]
    },
    {
      "cell_type": "code",
      "source": [
        "plt.plot(diametro_toronja, peso_toronja)\n"
      ],
      "metadata": {
        "id": "Fnq6DwnXhSDe",
        "colab": {
          "base_uri": "https://localhost:8080/",
          "height": 447
        },
        "outputId": "c14b6b73-3639-4a1a-f797-1fe9a8bd3f22"
      },
      "execution_count": 165,
      "outputs": [
        {
          "output_type": "execute_result",
          "data": {
            "text/plain": [
              "[<matplotlib.lines.Line2D at 0x7a57c94c3f50>]"
            ]
          },
          "metadata": {},
          "execution_count": 165
        },
        {
          "output_type": "display_data",
          "data": {
            "text/plain": [
              "<Figure size 640x480 with 1 Axes>"
            ],
            "image/png": "[encoded data removed]"
          },
          "metadata": {}
        }
      ]
    },
    {
      "cell_type": "code",
      "source": [
        "plt.plot(diametro_naranja, peso_naranja)"
      ],
      "metadata": {
        "id": "4nx8ac4en2vy",
        "colab": {
          "base_uri": "https://localhost:8080/",
          "height": 447
        },
        "outputId": "f581f914-e686-4ead-c39c-b7961319535a"
      },
      "execution_count": 166,
      "outputs": [
        {
          "output_type": "execute_result",
          "data": {
            "text/plain": [
              "[<matplotlib.lines.Line2D at 0x7a57c82398d0>]"
            ]
          },
          "metadata": {},
          "execution_count": 166
        },
        {
          "output_type": "display_data",
          "data": {
            "text/plain": [
              "<Figure size 640x480 with 1 Axes>"
            ],
            "image/png": "[encoded data removed]"
          },
          "metadata": {}
        }
      ]
    },
    {
      "cell_type": "markdown",
      "source": [
        "CUARTO EJERCICIO\n",
        "\n",
        "Ha llegado el momento de poner a prueba los conocimientos adquiridos durante la lección. Continuando con el proyecto de las naranjas/toronjas, ahora debes calcular el coeficiente angular y lineal para la recta de las naranjas y para la recta de las toronjas. Utiliza la fórmula de mínimos cuadrados para encontrar cada uno."
      ],
      "metadata": {
        "id": "KdudNw6RWGjX"
      }
    },
    {
      "cell_type": "markdown",
      "source": [
        "Y = peso_naranja\n",
        "\n",
        "X = diametro_naranja\n",
        "\n",
        "n = np.size(X)\n",
        "\n",
        "a = (n*np.sum(X*Y) - np.sum(X)*np.sum(Y))/(n*np.sum(X**2)-np.sum(X)**2)\n",
        "b = np.mean(Y) - a*np.mean(X)\n",
        "\n",
        "Para las toronjas, simplemente reemplaza \"naranja\" por \"toronja\" en el nombre de las variables."
      ],
      "metadata": {
        "id": "tLQ-OhPQV8gd"
      }
    },
    {
      "cell_type": "code",
      "source": [
        "Y = peso_naranja\n",
        "X = diametro_naranja\n",
        "n = np.size(X)\n",
        "\n",
        "a = (n*np.sum(X*Y) - np.sum(X)*np.sum(Y))/(n*np.sum(X**2)-np.sum(X)**2)\n",
        "b = np.mean(Y) - a*np.mean(X)"
      ],
      "metadata": {
        "id": "5p3M96BxWCdg"
      },
      "execution_count": 167,
      "outputs": []
    },
    {
      "cell_type": "code",
      "source": [],
      "metadata": {
        "id": "H7JUW0fRXqS5"
      },
      "execution_count": 167,
      "outputs": []
    },
    {
      "cell_type": "code",
      "source": [
        "Y = peso_toronja\n",
        "X = diametro_toronja\n",
        "n = np.size(X)\n",
        "\n",
        "a = (n*np.sum(X*Y) - np.sum(X)*np.sum(Y))/(n*np.sum(X**2)-np.sum(X)**2)\n",
        "b = np.mean(Y) - a*np.mean(X)"
      ],
      "metadata": {
        "id": "LiPF8VjWWDFK"
      },
      "execution_count": 168,
      "outputs": []
    },
    {
      "cell_type": "code",
      "source": [],
      "metadata": {
        "id": "yvyBsuMVWDCn"
      },
      "execution_count": 168,
      "outputs": []
    },
    {
      "cell_type": "markdown",
      "source": [
        "Ha llegado el momento de poner a prueba los conocimientos adquiridos durante la lección. Continuando con el proyecto de las naranjas/toronjas, ahora debes calcular el coeficiente angular utilizando la generación de números aleatorios. Supongamos que ya conoces el valor de b y que este es igual a 17."
      ],
      "metadata": {
        "id": "pIxm2tmF6Eoj"
      }
    },
    {
      "cell_type": "code",
      "source": [
        "import numpy as np\n",
        "norma = np.array([])\n",
        "np.random.seed(84)\n",
        "coeficientes_angulares = np.random.uniform(0.0,30.0,100)\n",
        "b=17\n",
        "for i in range(100):\n",
        "  norma = np.append(norma, np.linalg.norm(y - (coeficientes_angulares[i]*x + b)))\n",
        "norma"
      ],
      "metadata": {
        "colab": {
          "base_uri": "https://localhost:8080/"
        },
        "id": "dC5gGmua6EB6",
        "outputId": "92a7806a-8538-4898-e658-d71aedcf739c"
      },
      "execution_count": 214,
      "outputs": [
        {
          "output_type": "execute_result",
          "data": {
            "text/plain": [
              "array([ 57.86796392, 243.32293272, 168.71755649, 394.73364449,\n",
              "       607.2688863 , 104.37764109, 128.96929484, 178.01424415,\n",
              "       271.50751821, 104.6223292 , 196.72584459, 316.57902984,\n",
              "       593.68211261, 200.77163357, 408.42973896, 340.22201471,\n",
              "       546.65849924, 533.47344902, 578.11701731,  90.40130458,\n",
              "       385.77461692, 131.84736669,  72.86934427, 610.69287204,\n",
              "       235.15500738, 518.70472761, 400.3660529 , 149.76201242,\n",
              "       600.39883044, 108.8270818 , 350.5552683 , 182.91299574,\n",
              "       209.11431799, 220.38548091, 113.05841978, 507.70390112,\n",
              "       121.80652282, 318.36018902, 220.40481894, 141.2176727 ,\n",
              "       113.34201279, 428.94317337, 609.92039331, 193.40809395,\n",
              "       358.16628101,  98.55244881,  56.48557538, 119.93465522,\n",
              "       280.0678986 , 247.40178128,  65.31034733, 392.59472252,\n",
              "       312.17557048, 267.59420697, 290.91925514, 350.19515274,\n",
              "       574.75765684, 181.56275044,  43.89711247, 435.80853841,\n",
              "       499.81820154, 402.87449171, 335.46462737, 514.52485053,\n",
              "       232.13597718, 138.17115973,  43.7161208 , 601.75012648,\n",
              "       501.98182635, 590.031145  ,  41.66553184, 192.45135501,\n",
              "       160.01311679,  37.44295533, 230.88042969, 284.0519727 ,\n",
              "       133.54021583, 323.92192427, 192.26917365, 584.88740801,\n",
              "       304.58633262, 179.01769718, 207.55084059,  45.61598798,\n",
              "       192.19878148, 177.79348576, 582.47102516, 450.21400318,\n",
              "       512.57718098, 362.4312574 , 100.2373924 , 365.79543055,\n",
              "       345.2683914 , 309.17782253, 381.3254654 , 342.0309128 ,\n",
              "       283.05388313, 444.92432255, 212.59593597, 216.16511966])"
            ]
          },
          "metadata": {},
          "execution_count": 214
        }
      ]
    },
    {
      "cell_type": "code",
      "source": [
        "norma.shape"
      ],
      "metadata": {
        "id": "AByy7uaZ8Hi1",
        "outputId": "21605616-7b24-4a41-9ed5-5568cd743f97",
        "colab": {
          "base_uri": "https://localhost:8080/"
        }
      },
      "execution_count": 206,
      "outputs": [
        {
          "output_type": "execute_result",
          "data": {
            "text/plain": [
              "(100,)"
            ]
          },
          "metadata": {},
          "execution_count": 206
        }
      ]
    },
    {
      "cell_type": "code",
      "source": [],
      "metadata": {
        "id": "4UGnJ2Tu8n4A"
      },
      "execution_count": 196,
      "outputs": []
    },
    {
      "cell_type": "markdown",
      "source": [
        "QUINTO EJERCICIO"
      ],
      "metadata": {
        "id": "UgTh1P9D4yzN"
      }
    },
    {
      "cell_type": "markdown",
      "source": [
        "Tatiana quería dibujar un círculo con la ayuda de la computadora. Para dibujar la parte superior del círculo, sabía que debía usar la ecuación:\n",
        "y = sqrt(1 - x ^ 2)\n",
        "\n",
        "Y para la parte inferior, solo tenía que usar la misma ecuación multiplicada por -1.\n",
        "\n",
        "¿Cuál secuencia de código debe usar para construir el gráfico correctamente usando NumPy y sabiendo que ambas partes del círculo deben tener el mismo color?"
      ],
      "metadata": {
        "id": "uQhZ3isrTz4a"
      }
    },
    {
      "cell_type": "code",
      "source": [
        "import numpy as np\n",
        "import matplotlib.pyplot as plt\n",
        "\n",
        "# Generar una secuencia de valores de x de -1 a 1\n",
        "x = np.arange(-1, 1, 0.0001)\n",
        "\n",
        "# Implementación de la fórmula\n",
        "y1 = np.sqrt(1 - x**2)\n",
        "y2 = -np.sqrt(1 - x**2)\n",
        "\n",
        "# Graficar el gráfico con las dos partes del círculo\n",
        "plt.plot(x, y1, 'r')\n",
        "plt.plot(x, y2, 'r' )\n",
        "\n",
        "# Agregar el título del gráfico y las etiquetas de los ejes x e y\n",
        "plt.title(\"Círculo\")\n",
        "plt.xlabel(\"Eje x\")\n",
        "plt.ylabel(\"Eje y\")\n",
        "\n",
        "# Mostrar el gráfico\n",
        "plt.show()"
      ],
      "metadata": {
        "colab": {
          "base_uri": "https://localhost:8080/",
          "height": 472
        },
        "id": "jjpfQwFkTGus",
        "outputId": "310cc110-64af-4f41-b3fd-2ff653268aa6"
      },
      "execution_count": 170,
      "outputs": [
        {
          "output_type": "display_data",
          "data": {
            "text/plain": [
              "<Figure size 640x480 with 1 Axes>"
            ],
            "image/png": "[encoded data removed]"
          },
          "metadata": {}
        }
      ]
    },
    {
      "cell_type": "code",
      "source": [],
      "metadata": {
        "id": "n9S_tMOC46H4"
      },
      "execution_count": 170,
      "outputs": []
    },
    {
      "cell_type": "markdown",
      "source": [
        "SEXTO EJERCICIO\n",
        "\n",
        "Has comenzado tus estudios con la biblioteca Numpy y decidiste usarla para reemplazar un cálculo que se realizaba con listas de Python. La lista que tienes en tus manos es la siguiente:"
      ],
      "metadata": {
        "id": "G0Gw19Tc47Cl"
      }
    },
    {
      "cell_type": "markdown",
      "source": [
        "Esta lista se estaba utilizando para calcular varios valores de \"y\" en la ecuación y = x + 3 / 2. ¿Cómo se vería el código en Numpy para reemplazar el siguiente fragmento de código?"
      ],
      "metadata": {
        "id": "fqxfrrbQ5LHU"
      }
    },
    {
      "cell_type": "code",
      "source": [
        "x = [0,1,2,3,4,5,6,7,8,9,10]\n",
        "y = []\n",
        "\n",
        "for i in x:\n",
        "  y.append(i + 3 / 2)"
      ],
      "metadata": {
        "id": "Xt9c7RCH5DXb"
      },
      "execution_count": 171,
      "outputs": []
    },
    {
      "cell_type": "code",
      "source": [
        "import numpy as np\n",
        "x = [0,1,2,3,4,5,6,7,8,9,10]\n",
        "x = np.array(x)\n",
        "y = x + 3 / 2\n",
        "y"
      ],
      "metadata": {
        "colab": {
          "base_uri": "https://localhost:8080/"
        },
        "id": "y6lX2Ye85NVt",
        "outputId": "83bb7a63-b878-49f2-e6ba-76c3b84ffc2e"
      },
      "execution_count": 172,
      "outputs": [
        {
          "output_type": "execute_result",
          "data": {
            "text/plain": [
              "array([ 1.5,  2.5,  3.5,  4.5,  5.5,  6.5,  7.5,  8.5,  9.5, 10.5, 11.5])"
            ]
          },
          "metadata": {},
          "execution_count": 172
        }
      ]
    }
  ]
}